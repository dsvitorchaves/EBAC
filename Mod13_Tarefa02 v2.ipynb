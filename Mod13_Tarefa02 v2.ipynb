{
 "cells": [
  {
   "cell_type": "markdown",
   "metadata": {},
   "source": [
    "# EBAC - Regressão II - regressão múltipla\n",
    "\n",
    "## Tarefa I"
   ]
  },
  {
   "cell_type": "markdown",
   "metadata": {},
   "source": [
    "#### Previsão de renda II\n",
    "\n",
    "Vamos continuar trabalhando com a base 'previsao_de_renda.csv', que é a base do seu próximo projeto. Vamos usar os recursos que vimos até aqui nesta base.\n",
    "\n",
    "|variavel|descrição|\n",
    "|-|-|\n",
    "|data_ref                | Data de referência de coleta das variáveis |\n",
    "|index                   | Código de identificação do cliente|\n",
    "|sexo                    | Sexo do cliente|\n",
    "|posse_de_veiculo        | Indica se o cliente possui veículo|\n",
    "|posse_de_imovel         | Indica se o cliente possui imóvel|\n",
    "|qtd_filhos              | Quantidade de filhos do cliente|\n",
    "|tipo_renda              | Tipo de renda do cliente|\n",
    "|educacao                | Grau de instrução do cliente|\n",
    "|estado_civil            | Estado civil do cliente|\n",
    "|tipo_residencia         | Tipo de residência do cliente (própria, alugada etc)|\n",
    "|idade                   | Idade do cliente|\n",
    "|tempo_emprego           | Tempo no emprego atual|\n",
    "|qt_pessoas_residencia   | Quantidade de pessoas que moram na residência|\n",
    "|renda                   | Renda em reais|"
   ]
  },
  {
   "cell_type": "code",
   "execution_count": 73,
   "metadata": {},
   "outputs": [],
   "source": [
    "import pandas as pd\n",
    "import numpy as np\n",
    "import warnings\n",
    "\n",
    "from sklearn.exceptions import ConvergenceWarning\n",
    "from sklearn.preprocessing import LabelEncoder, StandardScaler\n",
    "from sklearn.impute import SimpleImputer\n",
    "from sklearn.linear_model import Ridge\n",
    "from sklearn.metrics import r2_score\n",
    "from sklearn.model_selection import train_test_split\n",
    "from sklearn.linear_model import LinearRegression\n",
    "from sklearn.tree import DecisionTreeRegressor"
   ]
  },
  {
   "cell_type": "code",
   "execution_count": 61,
   "metadata": {},
   "outputs": [],
   "source": [
    "df = pd.read_csv('previsao_de_renda.csv')"
   ]
  },
  {
   "cell_type": "code",
   "execution_count": 62,
   "metadata": {
    "scrolled": true
   },
   "outputs": [
    {
     "name": "stdout",
     "output_type": "stream",
     "text": [
      "<class 'pandas.core.frame.DataFrame'>\n",
      "RangeIndex: 15000 entries, 0 to 14999\n",
      "Data columns (total 15 columns):\n",
      " #   Column                 Non-Null Count  Dtype  \n",
      "---  ------                 --------------  -----  \n",
      " 0   Unnamed: 0             15000 non-null  int64  \n",
      " 1   data_ref               15000 non-null  object \n",
      " 2   id_cliente             15000 non-null  int64  \n",
      " 3   sexo                   15000 non-null  object \n",
      " 4   posse_de_veiculo       15000 non-null  bool   \n",
      " 5   posse_de_imovel        15000 non-null  bool   \n",
      " 6   qtd_filhos             15000 non-null  int64  \n",
      " 7   tipo_renda             15000 non-null  object \n",
      " 8   educacao               15000 non-null  object \n",
      " 9   estado_civil           15000 non-null  object \n",
      " 10  tipo_residencia        15000 non-null  object \n",
      " 11  idade                  15000 non-null  int64  \n",
      " 12  tempo_emprego          12427 non-null  float64\n",
      " 13  qt_pessoas_residencia  15000 non-null  float64\n",
      " 14  renda                  15000 non-null  float64\n",
      "dtypes: bool(2), float64(3), int64(4), object(6)\n",
      "memory usage: 1.5+ MB\n"
     ]
    }
   ],
   "source": [
    "df.info()"
   ]
  },
  {
   "cell_type": "raw",
   "metadata": {},
   "source": [
    "# RASCUNHO/IGNORAR\n",
    "##################\n",
    "# Ler o banco de dados\n",
    "df = pd.read_csv('previsao_de_renda.csv')\n",
    "\n",
    "# Remover coluna 'Unnamed: 0' pois parece ser uma coluna indesejada de índices\n",
    "df = df.drop(columns='Unnamed: 0')\n",
    "\n",
    "# 1. Tratamento de dados ausentes:\n",
    "# Vamos preencher os valores ausentes da coluna 'tempo_emprego' com a média.\n",
    "imputer = SimpleImputer(strategy='mean')\n",
    "df['tempo_emprego'] = imputer.fit_transform(df['tempo_emprego'].values.reshape(-1, 1))\n",
    "\n",
    "# 2. Codificação de variáveis categóricas:\n",
    "label_encoders = {}\n",
    "for column in ['sexo', 'tipo_renda', 'educacao', 'estado_civil', 'tipo_residencia']:\n",
    "    le = LabelEncoder()\n",
    "    df[column] = le.fit_transform(df[column])\n",
    "    label_encoders[column] = le\n",
    "\n",
    "# Convertendo boolean para int (se necessário)\n",
    "df['posse_de_veiculo'] = df['posse_de_veiculo'].astype(int)\n",
    "df['posse_de_imovel'] = df['posse_de_imovel'].astype(int)\n",
    "\n",
    "# 3. Escala das variáveis:\n",
    "# Não é sempre necessário, mas ajuda em muitos modelos.\n",
    "scaler = StandardScaler()\n",
    "columns_to_scale = ['qtd_filhos', 'idade', 'tempo_emprego', 'qt_pessoas_residencia', 'renda']\n",
    "df[columns_to_scale] = scaler.fit_transform(df[columns_to_scale])\n",
    "\n",
    "# Agora, o dataframe 'df' está tratado e pronto para ser usado em modelos de regressão.\n",
    "print(df.head())\n"
   ]
  },
  {
   "cell_type": "code",
   "execution_count": 63,
   "metadata": {},
   "outputs": [],
   "source": [
    "df.drop('data_ref', axis=1, inplace=True)\n",
    "df.drop('Unnamed: 0', axis=1, inplace=True)"
   ]
  },
  {
   "cell_type": "code",
   "execution_count": 64,
   "metadata": {
    "scrolled": false
   },
   "outputs": [
    {
     "name": "stdout",
     "output_type": "stream",
     "text": [
      "<class 'pandas.core.frame.DataFrame'>\n",
      "RangeIndex: 15000 entries, 0 to 14999\n",
      "Data columns (total 13 columns):\n",
      " #   Column                 Non-Null Count  Dtype  \n",
      "---  ------                 --------------  -----  \n",
      " 0   id_cliente             15000 non-null  int64  \n",
      " 1   sexo                   15000 non-null  object \n",
      " 2   posse_de_veiculo       15000 non-null  bool   \n",
      " 3   posse_de_imovel        15000 non-null  bool   \n",
      " 4   qtd_filhos             15000 non-null  int64  \n",
      " 5   tipo_renda             15000 non-null  object \n",
      " 6   educacao               15000 non-null  object \n",
      " 7   estado_civil           15000 non-null  object \n",
      " 8   tipo_residencia        15000 non-null  object \n",
      " 9   idade                  15000 non-null  int64  \n",
      " 10  tempo_emprego          12427 non-null  float64\n",
      " 11  qt_pessoas_residencia  15000 non-null  float64\n",
      " 12  renda                  15000 non-null  float64\n",
      "dtypes: bool(2), float64(3), int64(3), object(5)\n",
      "memory usage: 1.3+ MB\n"
     ]
    }
   ],
   "source": [
    "df.info()"
   ]
  },
  {
   "cell_type": "code",
   "execution_count": 65,
   "metadata": {
    "scrolled": true
   },
   "outputs": [
    {
     "name": "stdout",
     "output_type": "stream",
     "text": [
      "<class 'pandas.core.frame.DataFrame'>\n",
      "RangeIndex: 15000 entries, 0 to 14999\n",
      "Data columns (total 13 columns):\n",
      " #   Column                 Non-Null Count  Dtype  \n",
      "---  ------                 --------------  -----  \n",
      " 0   id_cliente             15000 non-null  float64\n",
      " 1   sexo                   15000 non-null  float64\n",
      " 2   posse_de_veiculo       15000 non-null  float64\n",
      " 3   posse_de_imovel        15000 non-null  float64\n",
      " 4   qtd_filhos             15000 non-null  float64\n",
      " 5   tipo_renda             15000 non-null  float64\n",
      " 6   educacao               15000 non-null  float64\n",
      " 7   estado_civil           15000 non-null  float64\n",
      " 8   tipo_residencia        15000 non-null  float64\n",
      " 9   idade                  15000 non-null  float64\n",
      " 10  tempo_emprego          12427 non-null  float64\n",
      " 11  qt_pessoas_residencia  15000 non-null  float64\n",
      " 12  renda                  15000 non-null  float64\n",
      "dtypes: float64(13)\n",
      "memory usage: 1.5 MB\n",
      "None\n"
     ]
    }
   ],
   "source": [
    "# Convertendo int64 para float\n",
    "df['id_cliente'] = df['id_cliente'].astype(float)\n",
    "df['qtd_filhos'] = df['qtd_filhos'].astype(float)\n",
    "df['idade'] = df['idade'].astype(float)\n",
    "\n",
    "# Convertendo bool para float\n",
    "df['posse_de_veiculo'] = df['posse_de_veiculo'].astype(float)\n",
    "df['posse_de_imovel'] = df['posse_de_imovel'].astype(float)\n",
    "\n",
    "# Convertendo object para float usando codificação de rótulos\n",
    "label_cols = ['sexo', 'tipo_renda', 'educacao', 'estado_civil', 'tipo_residencia']\n",
    "encoder = LabelEncoder()\n",
    "for col in label_cols:\n",
    "    df[col] = encoder.fit_transform(df[col]).astype(float)\n",
    "\n",
    "# Verificando as transformações\n",
    "print(df.info())\n"
   ]
  },
  {
   "cell_type": "code",
   "execution_count": 66,
   "metadata": {},
   "outputs": [
    {
     "name": "stdout",
     "output_type": "stream",
     "text": [
      "<class 'pandas.core.frame.DataFrame'>\n",
      "Index: 12427 entries, 0 to 14999\n",
      "Data columns (total 13 columns):\n",
      " #   Column                 Non-Null Count  Dtype  \n",
      "---  ------                 --------------  -----  \n",
      " 0   id_cliente             12427 non-null  float64\n",
      " 1   sexo                   12427 non-null  float64\n",
      " 2   posse_de_veiculo       12427 non-null  float64\n",
      " 3   posse_de_imovel        12427 non-null  float64\n",
      " 4   qtd_filhos             12427 non-null  float64\n",
      " 5   tipo_renda             12427 non-null  float64\n",
      " 6   educacao               12427 non-null  float64\n",
      " 7   estado_civil           12427 non-null  float64\n",
      " 8   tipo_residencia        12427 non-null  float64\n",
      " 9   idade                  12427 non-null  float64\n",
      " 10  tempo_emprego          12427 non-null  float64\n",
      " 11  qt_pessoas_residencia  12427 non-null  float64\n",
      " 12  renda                  12427 non-null  float64\n",
      "dtypes: float64(13)\n",
      "memory usage: 1.3 MB\n",
      "None\n"
     ]
    }
   ],
   "source": [
    "df.dropna(inplace=True)\n",
    "\n",
    "# Verificando as transformações\n",
    "print(df.info())\n"
   ]
  },
  {
   "cell_type": "markdown",
   "metadata": {},
   "source": [
    "1. Separe a base em treinamento e teste (25% para teste, 75% para treinamento).\n",
    "2. Rode uma regularização *ridge* com alpha = [0, 0.001, 0.005, 0.01, 0.05, 0.1] e avalie o $R^2$ na base de testes. Qual o melhor modelo?\n",
    "3. Faça o mesmo que no passo 2, com uma regressão *LASSO*. Qual método chega a um melhor resultado?\n",
    "4. Rode um modelo *stepwise*. Avalie o $R^2$ na vase de testes. Qual o melhor resultado?\n",
    "5. Compare os parâmetros e avalie eventuais diferenças. Qual modelo você acha o melhor de todos?\n",
    "6. Partindo dos modelos que você ajustou, tente melhorar o $R^2$ na base de testes. Use a criatividade, veja se consegue inserir alguma transformação ou combinação de variáveis.\n",
    "7. Ajuste uma árvore de regressão e veja se consegue um $R^2$ melhor com ela."
   ]
  },
  {
   "cell_type": "code",
   "execution_count": 67,
   "metadata": {
    "scrolled": true
   },
   "outputs": [
    {
     "name": "stdout",
     "output_type": "stream",
     "text": [
      "Conjunto de treinamento (X): (9320, 12)\n",
      "Conjunto de teste (X): (3107, 12)\n",
      "Conjunto de treinamento (y): (9320,)\n",
      "Conjunto de teste (y): (3107,)\n"
     ]
    }
   ],
   "source": [
    "# Definindo X e y\n",
    "X = df.drop(columns=['renda'])\n",
    "y = df['renda']\n",
    "\n",
    "# Dividindo os dados em treinamento e teste\n",
    "X_train, X_test, y_train, y_test = train_test_split(X, y, test_size=0.25, random_state=42)\n",
    "\n",
    "# Verificando o tamanho dos conjuntos\n",
    "print(f\"Conjunto de treinamento (X): {X_train.shape}\")\n",
    "print(f\"Conjunto de teste (X): {X_test.shape}\")\n",
    "print(f\"Conjunto de treinamento (y): {y_train.shape}\")\n",
    "print(f\"Conjunto de teste (y): {y_test.shape}\")\n"
   ]
  },
  {
   "cell_type": "code",
   "execution_count": 68,
   "metadata": {},
   "outputs": [
    {
     "name": "stdout",
     "output_type": "stream",
     "text": [
      "Alpha: 0, R^2: 0.2960\n",
      "Alpha: 0.001, R^2: 0.2960\n",
      "Alpha: 0.005, R^2: 0.2960\n",
      "Alpha: 0.01, R^2: 0.2960\n",
      "Alpha: 0.05, R^2: 0.2960\n",
      "Alpha: 0.1, R^2: 0.2960\n"
     ]
    }
   ],
   "source": [
    "# X_train, X_test, y_train, y_test = train_test_split(X, y, test_size=0.3, random_state=42)\n",
    "\n",
    "alphas = [0, 0.001, 0.005, 0.01, 0.05, 0.1]\n",
    "results = {}\n",
    "\n",
    "for alpha in alphas:\n",
    "    ridge = Ridge(alpha=alpha)\n",
    "    ridge.fit(X_train, y_train)\n",
    "    \n",
    "    # Previsões no conjunto de teste\n",
    "    y_pred = ridge.predict(X_test)\n",
    "    \n",
    "    # Calcula o R^2 no conjunto de teste\n",
    "    r2 = r2_score(y_test, y_pred)\n",
    "    \n",
    "    results[alpha] = r2\n",
    "\n",
    "# Imprime os resultados\n",
    "for alpha, r2 in results.items():\n",
    "    print(f\"Alpha: {alpha}, R^2: {r2:.4f}\")\n"
   ]
  },
  {
   "cell_type": "code",
   "execution_count": 69,
   "metadata": {},
   "outputs": [
    {
     "name": "stdout",
     "output_type": "stream",
     "text": [
      "Alpha: 0 - R^2: 0.29597765522086394\n",
      "Alpha: 0.001 - R^2: 0.2959776880648749\n",
      "Alpha: 0.005 - R^2: 0.29597781944341284\n",
      "Alpha: 0.01 - R^2: 0.2959779836107841\n",
      "Alpha: 0.05 - R^2: 0.2959792963535781\n",
      "Alpha: 0.1 - R^2: 0.2959809348064504\n"
     ]
    }
   ],
   "source": [
    "# Suprimir avisos\n",
    "warnings.filterwarnings(\"ignore\", category=ConvergenceWarning)\n",
    "warnings.filterwarnings(\"ignore\", category=UserWarning)\n",
    "\n",
    "# Definindo os valores de alpha\n",
    "alphas = [0, 0.001, 0.005, 0.01, 0.05, 0.1]\n",
    "\n",
    "# Armazenando os resultados\n",
    "results = {}\n",
    "\n",
    "# Loop através de cada valor de alpha\n",
    "for alpha in alphas:\n",
    "    # Inicializando e treinando o modelo LASSO\n",
    "    lasso = Lasso(alpha=alpha, max_iter=10000)  # Defini max_iter para garantir a convergência\n",
    "    lasso.fit(X_train, y_train)\n",
    "    \n",
    "    # Prevendo valores para o conjunto de teste\n",
    "    y_pred = lasso.predict(X_test)\n",
    "    \n",
    "    # Avaliando R^2 para o conjunto de teste\n",
    "    r2 = r2_score(y_test, y_pred)\n",
    "    results[alpha] = r2\n",
    "\n",
    "# Exibindo os resultados\n",
    "for alpha, r2 in results.items():\n",
    "    print(f\"Alpha: {alpha} - R^2: {r2}\")\n"
   ]
  },
  {
   "cell_type": "code",
   "execution_count": 70,
   "metadata": {},
   "outputs": [
    {
     "name": "stdout",
     "output_type": "stream",
     "text": [
      "Melhores recursos selecionados: ['tempo_emprego', 'sexo', 'idade', 'educacao', 'qt_pessoas_residencia', 'tipo_renda', 'posse_de_imovel', 'estado_civil', 'id_cliente', 'tipo_residencia', 'qtd_filhos']\n",
      "Melhor R^2: 0.2965460941712518\n"
     ]
    }
   ],
   "source": [
    "def forward_stepwise_selection(X_train, y_train, X_test, y_test):\n",
    "    remaining_features = list(X_train.columns)\n",
    "    current_features = []\n",
    "    best_r2 = 0.0\n",
    "    best_new_feature = None\n",
    "\n",
    "    while remaining_features:\n",
    "        r2_with_new_feature = []\n",
    "\n",
    "        for feature in remaining_features:\n",
    "            model = LinearRegression()\n",
    "            model.fit(X_train[current_features + [feature]], y_train)\n",
    "            predictions = model.predict(X_test[current_features + [feature]])\n",
    "            r2 = r2_score(y_test, predictions)\n",
    "            r2_with_new_feature.append((r2, feature))\n",
    "\n",
    "        r2_with_new_feature.sort(reverse=True)\n",
    "        best_r2_new, best_new_feature = r2_with_new_feature[0]\n",
    "\n",
    "        if best_r2_new > best_r2:\n",
    "            remaining_features.remove(best_new_feature)\n",
    "            current_features.append(best_new_feature)\n",
    "            best_r2 = best_r2_new\n",
    "        else:\n",
    "            break\n",
    "\n",
    "    return current_features, best_r2\n",
    "\n",
    "selected_features, best_r2 = forward_stepwise_selection(X_train, y_train, X_test, y_test)\n",
    "print(\"Melhores recursos selecionados:\", selected_features)\n",
    "print(\"Melhor R^2:\", best_r2)\n"
   ]
  },
  {
   "cell_type": "code",
   "execution_count": 71,
   "metadata": {},
   "outputs": [
    {
     "name": "stdout",
     "output_type": "stream",
     "text": [
      "R^2 com características polinomiais e dados normalizados: 0.40305682495784867\n"
     ]
    }
   ],
   "source": [
    "# 1. Engenharia de Características: Criação de características polinomiais\n",
    "poly = PolynomialFeatures(degree=2, include_bias=False)\n",
    "X_train_poly = poly.fit_transform(X_train)\n",
    "X_test_poly = poly.transform(X_test)\n",
    "\n",
    "# 5. Normalização dos dados\n",
    "scaler = StandardScaler()\n",
    "X_train_poly_scaled = scaler.fit_transform(X_train_poly)\n",
    "X_test_poly_scaled = scaler.transform(X_test_poly)\n",
    "\n",
    "# Treinando novamente o modelo LASSO (como um exemplo) com características polinomiais e dados normalizados\n",
    "lasso = Lasso(alpha=0.05)  \n",
    "lasso.fit(X_train_poly_scaled, y_train)\n",
    "predictions = lasso.predict(X_test_poly_scaled)\n",
    "r2 = r2_score(y_test, predictions)\n",
    "print(\"R^2 com características polinomiais e dados normalizados:\", r2)\n"
   ]
  },
  {
   "cell_type": "code",
   "execution_count": 72,
   "metadata": {},
   "outputs": [
    {
     "name": "stdout",
     "output_type": "stream",
     "text": [
      "R^2 da árvore de regressão: 0.3808\n",
      "R^2 da árvore de regressão com profundidade 1: 0.1018\n",
      "R^2 da árvore de regressão com profundidade 2: 0.2503\n",
      "R^2 da árvore de regressão com profundidade 3: 0.3135\n",
      "R^2 da árvore de regressão com profundidade 4: 0.3498\n",
      "R^2 da árvore de regressão com profundidade 5: 0.3712\n",
      "R^2 da árvore de regressão com profundidade 6: 0.3354\n",
      "R^2 da árvore de regressão com profundidade 7: 0.3449\n",
      "R^2 da árvore de regressão com profundidade 8: 0.3035\n",
      "R^2 da árvore de regressão com profundidade 9: 0.3306\n",
      "R^2 da árvore de regressão com profundidade 10: 0.3374\n",
      "R^2 da árvore de regressão com profundidade 11: 0.3270\n",
      "R^2 da árvore de regressão com profundidade 12: 0.3333\n",
      "R^2 da árvore de regressão com profundidade 13: 0.3659\n",
      "R^2 da árvore de regressão com profundidade 14: 0.3635\n"
     ]
    }
   ],
   "source": [
    "# Criando o modelo\n",
    "tree_regressor = DecisionTreeRegressor()\n",
    "\n",
    "# Treinando o modelo\n",
    "tree_regressor.fit(X_train, y_train)\n",
    "\n",
    "# Fazendo predições na base de testes\n",
    "y_pred = tree_regressor.predict(X_test)\n",
    "\n",
    "# Avaliando o R^2\n",
    "r2_tree = r2_score(y_test, y_pred)\n",
    "print(f\"R^2 da árvore de regressão: {r2_tree:.4f}\")\n",
    "\n",
    "# Experimentando com diferentes profundidades\n",
    "for depth in range(1, 15):\n",
    "    tree_regressor = DecisionTreeRegressor(max_depth=depth)\n",
    "    tree_regressor.fit(X_train, y_train)\n",
    "    y_pred = tree_regressor.predict(X_test)\n",
    "    r2_tree = r2_score(y_test, y_pred)\n",
    "    print(f\"R^2 da árvore de regressão com profundidade {depth}: {r2_tree:.4f}\")\n"
   ]
  }
 ],
 "metadata": {
  "kernelspec": {
   "display_name": "Python 3 (ipykernel)",
   "language": "python",
   "name": "python3"
  },
  "language_info": {
   "codemirror_mode": {
    "name": "ipython",
    "version": 3
   },
   "file_extension": ".py",
   "mimetype": "text/x-python",
   "name": "python",
   "nbconvert_exporter": "python",
   "pygments_lexer": "ipython3",
   "version": "3.11.3"
  }
 },
 "nbformat": 4,
 "nbformat_minor": 4
}
