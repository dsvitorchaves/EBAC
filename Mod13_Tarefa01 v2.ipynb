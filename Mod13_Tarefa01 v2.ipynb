{
 "cells": [
  {
   "cell_type": "markdown",
   "metadata": {},
   "source": [
    "# EBAC - Regressão II - regressão múltipla\n",
    "\n",
    "## Tarefa I"
   ]
  },
  {
   "cell_type": "markdown",
   "metadata": {},
   "source": [
    "#### Previsão de renda\n",
    "\n",
    "Vamos trabalhar com a base 'previsao_de_renda.csv', que é a base do seu próximo projeto. Vamos usar os recursos que vimos até aqui nesta base.\n",
    "\n",
    "|variavel|descrição|\n",
    "|-|-|\n",
    "|data_ref                | Data de referência de coleta das variáveis |\n",
    "|index                   | Código de identificação do cliente|\n",
    "|sexo                    | Sexo do cliente|\n",
    "|posse_de_veiculo        | Indica se o cliente possui veículo|\n",
    "|posse_de_imovel         | Indica se o cliente possui imóvel|\n",
    "|qtd_filhos              | Quantidade de filhos do cliente|\n",
    "|tipo_renda              | Tipo de renda do cliente|\n",
    "|educacao                | Grau de instrução do cliente|\n",
    "|estado_civil            | Estado civil do cliente|\n",
    "|tipo_residencia         | Tipo de residência do cliente (própria, alugada etc)|\n",
    "|idade                   | Idade do cliente|\n",
    "|tempo_emprego           | Tempo no emprego atual|\n",
    "|qt_pessoas_residencia   | Quantidade de pessoas que moram na residência|\n",
    "|renda                   | Renda em reais|"
   ]
  },
  {
   "cell_type": "code",
   "execution_count": 45,
   "metadata": {},
   "outputs": [],
   "source": [
    "import patsy\n",
    "import pandas as pd\n",
    "import numpy as np\n",
    "import statsmodels.api as sm\n",
    "from sklearn.model_selection import train_test_split"
   ]
  },
  {
   "cell_type": "code",
   "execution_count": 46,
   "metadata": {},
   "outputs": [],
   "source": [
    "df = pd.read_csv('previsao_de_renda.csv')"
   ]
  },
  {
   "cell_type": "code",
   "execution_count": 47,
   "metadata": {
    "scrolled": false
   },
   "outputs": [
    {
     "name": "stdout",
     "output_type": "stream",
     "text": [
      "<class 'pandas.core.frame.DataFrame'>\n",
      "RangeIndex: 15000 entries, 0 to 14999\n",
      "Data columns (total 15 columns):\n",
      " #   Column                 Non-Null Count  Dtype  \n",
      "---  ------                 --------------  -----  \n",
      " 0   Unnamed: 0             15000 non-null  int64  \n",
      " 1   data_ref               15000 non-null  object \n",
      " 2   id_cliente             15000 non-null  int64  \n",
      " 3   sexo                   15000 non-null  object \n",
      " 4   posse_de_veiculo       15000 non-null  bool   \n",
      " 5   posse_de_imovel        15000 non-null  bool   \n",
      " 6   qtd_filhos             15000 non-null  int64  \n",
      " 7   tipo_renda             15000 non-null  object \n",
      " 8   educacao               15000 non-null  object \n",
      " 9   estado_civil           15000 non-null  object \n",
      " 10  tipo_residencia        15000 non-null  object \n",
      " 11  idade                  15000 non-null  int64  \n",
      " 12  tempo_emprego          12427 non-null  float64\n",
      " 13  qt_pessoas_residencia  15000 non-null  float64\n",
      " 14  renda                  15000 non-null  float64\n",
      "dtypes: bool(2), float64(3), int64(4), object(6)\n",
      "memory usage: 1.5+ MB\n"
     ]
    }
   ],
   "source": [
    "df.info()"
   ]
  },
  {
   "cell_type": "markdown",
   "metadata": {},
   "source": [
    "1. Ajuste um modelo para prever log(renda) considerando todas as covariáveis disponíveis.\n",
    "    - Utilizando os recursos do Patsy, coloque as variáveis qualitativas como *dummies*.\n",
    "    - Mantenha sempre a categoria mais frequente como casela de referência\n",
    "    - Avalie os parâmetros e veja se parecem fazer sentido prático.      "
   ]
  },
  {
   "cell_type": "code",
   "execution_count": 48,
   "metadata": {
    "scrolled": false
   },
   "outputs": [
    {
     "name": "stdout",
     "output_type": "stream",
     "text": [
      "   sexo[F]  sexo[M]  posse_de_veiculo[T.True]  posse_de_imovel[T.True]  \\\n",
      "0      1.0      0.0                       0.0                      1.0   \n",
      "1      0.0      1.0                       1.0                      1.0   \n",
      "2      1.0      0.0                       1.0                      1.0   \n",
      "3      1.0      0.0                       0.0                      1.0   \n",
      "4      0.0      1.0                       1.0                      0.0   \n",
      "\n",
      "   tipo_renda[T.Bolsista]  tipo_renda[T.Empresário]  \\\n",
      "0                     0.0                       1.0   \n",
      "1                     0.0                       0.0   \n",
      "2                     0.0                       1.0   \n",
      "3                     0.0                       0.0   \n",
      "4                     0.0                       0.0   \n",
      "\n",
      "   tipo_renda[T.Pensionista]  tipo_renda[T.Servidor público]  \\\n",
      "0                        0.0                             0.0   \n",
      "1                        0.0                             0.0   \n",
      "2                        0.0                             0.0   \n",
      "3                        0.0                             1.0   \n",
      "4                        0.0                             0.0   \n",
      "\n",
      "   educacao[T.Pós graduação]  educacao[T.Secundário]  ...  \\\n",
      "0                        0.0                     1.0  ...   \n",
      "1                        0.0                     0.0  ...   \n",
      "2                        0.0                     0.0  ...   \n",
      "3                        0.0                     0.0  ...   \n",
      "4                        0.0                     1.0  ...   \n",
      "\n",
      "   estado_civil[T.Viúvo]  tipo_residencia[T.Casa]  \\\n",
      "0                    0.0                      1.0   \n",
      "1                    0.0                      1.0   \n",
      "2                    0.0                      1.0   \n",
      "3                    0.0                      1.0   \n",
      "4                    0.0                      0.0   \n",
      "\n",
      "   tipo_residencia[T.Com os pais]  tipo_residencia[T.Comunitário]  \\\n",
      "0                             0.0                             0.0   \n",
      "1                             0.0                             0.0   \n",
      "2                             0.0                             0.0   \n",
      "3                             0.0                             0.0   \n",
      "4                             0.0                             0.0   \n",
      "\n",
      "   tipo_residencia[T.Estúdio]  tipo_residencia[T.Governamental]  qtd_filhos  \\\n",
      "0                         0.0                               0.0         0.0   \n",
      "1                         0.0                               0.0         0.0   \n",
      "2                         0.0                               0.0         0.0   \n",
      "3                         0.0                               0.0         1.0   \n",
      "4                         0.0                               1.0         0.0   \n",
      "\n",
      "   idade  tempo_emprego  qt_pessoas_residencia  \n",
      "0   26.0       6.602740                    1.0  \n",
      "1   28.0       7.183562                    2.0  \n",
      "2   35.0       0.838356                    2.0  \n",
      "3   30.0       4.846575                    3.0  \n",
      "4   33.0       4.293151                    1.0  \n",
      "\n",
      "[5 rows x 25 columns]\n"
     ]
    }
   ],
   "source": [
    "# Criar a variável resposta logarítmica\n",
    "df['log_renda'] = np.log(df['renda'])\n",
    "\n",
    "# Usar o Patsy para transformar variáveis categóricas em dummies\n",
    "# O \"-1\" no final da fórmula remove o intercepto para que possamos controlar manualmente as categorias de referência\n",
    "f = 'log_renda ~ sexo + posse_de_veiculo + posse_de_imovel + qtd_filhos + tipo_renda + educacao + estado_civil + tipo_residencia + idade + tempo_emprego + qt_pessoas_residencia - 1'\n",
    "y, X = patsy.dmatrices(f, df, return_type='dataframe')\n",
    "\n",
    "# Verifique as primeiras linhas para ter certeza de que tudo foi codificado corretamente\n",
    "print(X.head())"
   ]
  },
  {
   "cell_type": "code",
   "execution_count": 49,
   "metadata": {},
   "outputs": [],
   "source": [
    "X_train, X_test, y_train, y_test = train_test_split(X, y, test_size=0.2, random_state=42)"
   ]
  },
  {
   "cell_type": "code",
   "execution_count": 50,
   "metadata": {},
   "outputs": [],
   "source": [
    "model = sm.OLS(y_train, X_train).fit()"
   ]
  },
  {
   "cell_type": "code",
   "execution_count": 51,
   "metadata": {},
   "outputs": [
    {
     "name": "stdout",
     "output_type": "stream",
     "text": [
      "                            OLS Regression Results                            \n",
      "==============================================================================\n",
      "Dep. Variable:              log_renda   R-squared:                       0.355\n",
      "Model:                            OLS   Adj. R-squared:                  0.353\n",
      "Method:                 Least Squares   F-statistic:                     227.4\n",
      "Date:                Sun, 20 Aug 2023   Prob (F-statistic):               0.00\n",
      "Time:                        15:17:22   Log-Likelihood:                -10864.\n",
      "No. Observations:                9941   AIC:                         2.178e+04\n",
      "Df Residuals:                    9916   BIC:                         2.196e+04\n",
      "Df Model:                          24                                         \n",
      "Covariance Type:            nonrobust                                         \n",
      "====================================================================================================\n",
      "                                       coef    std err          t      P>|t|      [0.025      0.975]\n",
      "----------------------------------------------------------------------------------------------------\n",
      "sexo[F]                              6.5867      0.244     26.940      0.000       6.107       7.066\n",
      "sexo[M]                              7.3739      0.244     30.231      0.000       6.896       7.852\n",
      "posse_de_veiculo[T.True]             0.0364      0.016      2.310      0.021       0.006       0.067\n",
      "posse_de_imovel[T.True]              0.0922      0.016      5.878      0.000       0.061       0.123\n",
      "tipo_renda[T.Bolsista]               0.2146      0.242      0.888      0.375      -0.259       0.688\n",
      "tipo_renda[T.Empresário]             0.1649      0.017      9.828      0.000       0.132       0.198\n",
      "tipo_renda[T.Pensionista]           -0.3045      0.256     -1.188      0.235      -0.807       0.198\n",
      "tipo_renda[T.Servidor público]       0.0727      0.025      2.922      0.003       0.024       0.121\n",
      "educacao[T.Pós graduação]            0.1032      0.184      0.562      0.574      -0.257       0.463\n",
      "educacao[T.Secundário]              -0.0475      0.079     -0.604      0.546      -0.202       0.107\n",
      "educacao[T.Superior completo]        0.0632      0.079      0.801      0.423      -0.091       0.218\n",
      "educacao[T.Superior incompleto]     -0.0596      0.085     -0.700      0.484      -0.226       0.107\n",
      "estado_civil[T.Separado]             0.3463      0.115      3.020      0.003       0.121       0.571\n",
      "estado_civil[T.Solteiro]             0.2960      0.112      2.644      0.008       0.077       0.516\n",
      "estado_civil[T.União]               -0.0359      0.028     -1.280      0.200      -0.091       0.019\n",
      "estado_civil[T.Viúvo]                0.4437      0.120      3.697      0.000       0.208       0.679\n",
      "tipo_residencia[T.Casa]             -0.0712      0.062     -1.155      0.248      -0.192       0.050\n",
      "tipo_residencia[T.Com os pais]      -0.0484      0.069     -0.706      0.480      -0.183       0.086\n",
      "tipo_residencia[T.Comunitário]      -0.2040      0.126     -1.625      0.104      -0.450       0.042\n",
      "tipo_residencia[T.Estúdio]          -0.0334      0.111     -0.302      0.762      -0.250       0.183\n",
      "tipo_residencia[T.Governamental]    -0.0962      0.075     -1.290      0.197      -0.242       0.050\n",
      "qtd_filhos                          -0.2967      0.111     -2.682      0.007      -0.513      -0.080\n",
      "idade                                0.0053      0.001      5.951      0.000       0.004       0.007\n",
      "tempo_emprego                        0.0612      0.001     52.681      0.000       0.059       0.063\n",
      "qt_pessoas_residencia                0.3210      0.110      2.908      0.004       0.105       0.537\n",
      "==============================================================================\n",
      "Omnibus:                        0.943   Durbin-Watson:                   2.002\n",
      "Prob(Omnibus):                  0.624   Jarque-Bera (JB):                0.908\n",
      "Skew:                           0.019   Prob(JB):                        0.635\n",
      "Kurtosis:                       3.027   Cond. No.                     2.46e+03\n",
      "==============================================================================\n",
      "\n",
      "Notes:\n",
      "[1] Standard Errors assume that the covariance matrix of the errors is correctly specified.\n",
      "[2] The condition number is large, 2.46e+03. This might indicate that there are\n",
      "strong multicollinearity or other numerical problems.\n"
     ]
    }
   ],
   "source": [
    "print(model.summary())"
   ]
  },
  {
   "cell_type": "markdown",
   "metadata": {},
   "source": [
    "2. Remova a variável menos significante e analise:\n",
    "    - Observe os indicadores que vimos, e avalie se o modelo melhorou ou piorou na sua opinião.\n",
    "    - Observe os parâmetros e veja se algum se alterou muito.  "
   ]
  },
  {
   "cell_type": "code",
   "execution_count": 52,
   "metadata": {},
   "outputs": [
    {
     "name": "stdout",
     "output_type": "stream",
     "text": [
      "   sexo[F]  sexo[M]  posse_de_veiculo[T.True]  posse_de_imovel[T.True]  \\\n",
      "0      1.0      0.0                       0.0                      1.0   \n",
      "1      0.0      1.0                       1.0                      1.0   \n",
      "2      1.0      0.0                       1.0                      1.0   \n",
      "3      1.0      0.0                       0.0                      1.0   \n",
      "4      0.0      1.0                       1.0                      0.0   \n",
      "\n",
      "   tipo_renda[T.Bolsista]  tipo_renda[T.Empresário]  \\\n",
      "0                     0.0                       1.0   \n",
      "1                     0.0                       0.0   \n",
      "2                     0.0                       1.0   \n",
      "3                     0.0                       0.0   \n",
      "4                     0.0                       0.0   \n",
      "\n",
      "   tipo_renda[T.Pensionista]  tipo_renda[T.Servidor público]  \\\n",
      "0                        0.0                             0.0   \n",
      "1                        0.0                             0.0   \n",
      "2                        0.0                             0.0   \n",
      "3                        0.0                             1.0   \n",
      "4                        0.0                             0.0   \n",
      "\n",
      "   educacao[T.Pós graduação]  educacao[T.Secundário]  \\\n",
      "0                        0.0                     1.0   \n",
      "1                        0.0                     0.0   \n",
      "2                        0.0                     0.0   \n",
      "3                        0.0                     0.0   \n",
      "4                        0.0                     1.0   \n",
      "\n",
      "   educacao[T.Superior completo]  educacao[T.Superior incompleto]  \\\n",
      "0                            0.0                              0.0   \n",
      "1                            1.0                              0.0   \n",
      "2                            1.0                              0.0   \n",
      "3                            1.0                              0.0   \n",
      "4                            0.0                              0.0   \n",
      "\n",
      "   estado_civil[T.Separado]  estado_civil[T.Solteiro]  estado_civil[T.União]  \\\n",
      "0                       0.0                       1.0                    0.0   \n",
      "1                       0.0                       0.0                    0.0   \n",
      "2                       0.0                       0.0                    0.0   \n",
      "3                       0.0                       0.0                    0.0   \n",
      "4                       0.0                       1.0                    0.0   \n",
      "\n",
      "   estado_civil[T.Viúvo]  qtd_filhos  idade  tempo_emprego  \\\n",
      "0                    0.0         0.0   26.0       6.602740   \n",
      "1                    0.0         0.0   28.0       7.183562   \n",
      "2                    0.0         0.0   35.0       0.838356   \n",
      "3                    0.0         1.0   30.0       4.846575   \n",
      "4                    0.0         0.0   33.0       4.293151   \n",
      "\n",
      "   qt_pessoas_residencia  \n",
      "0                    1.0  \n",
      "1                    2.0  \n",
      "2                    2.0  \n",
      "3                    3.0  \n",
      "4                    1.0  \n"
     ]
    }
   ],
   "source": [
    "# Ajuste a fórmula para excluir a variável tipo_residencia[T.Estúdio]\n",
    "f = 'log_renda ~ sexo + posse_de_veiculo + posse_de_imovel + qtd_filhos + tipo_renda + educacao + estado_civil + idade + tempo_emprego + qt_pessoas_residencia - 1'\n",
    "\n",
    "y, X = patsy.dmatrices(f, df, return_type='dataframe')\n",
    "\n",
    "print(X.head())"
   ]
  },
  {
   "cell_type": "code",
   "execution_count": 53,
   "metadata": {},
   "outputs": [
    {
     "name": "stdout",
     "output_type": "stream",
     "text": [
      "                            OLS Regression Results                            \n",
      "==============================================================================\n",
      "Dep. Variable:              log_renda   R-squared:                       0.355\n",
      "Model:                            OLS   Adj. R-squared:                  0.353\n",
      "Method:                 Least Squares   F-statistic:                     287.1\n",
      "Date:                Sun, 20 Aug 2023   Prob (F-statistic):               0.00\n",
      "Time:                        15:17:34   Log-Likelihood:                -10866.\n",
      "No. Observations:                9941   AIC:                         2.177e+04\n",
      "Df Residuals:                    9921   BIC:                         2.192e+04\n",
      "Df Model:                          19                                         \n",
      "Covariance Type:            nonrobust                                         \n",
      "===================================================================================================\n",
      "                                      coef    std err          t      P>|t|      [0.025      0.975]\n",
      "---------------------------------------------------------------------------------------------------\n",
      "sexo[F]                             6.5158      0.237     27.505      0.000       6.051       6.980\n",
      "sexo[M]                             7.3051      0.237     30.888      0.000       6.841       7.769\n",
      "posse_de_veiculo[T.True]            0.0360      0.016      2.284      0.022       0.005       0.067\n",
      "posse_de_imovel[T.True]             0.0918      0.015      5.969      0.000       0.062       0.122\n",
      "tipo_renda[T.Bolsista]              0.2164      0.242      0.896      0.370      -0.257       0.690\n",
      "tipo_renda[T.Empresário]            0.1650      0.017      9.853      0.000       0.132       0.198\n",
      "tipo_renda[T.Pensionista]          -0.3071      0.256     -1.198      0.231      -0.809       0.195\n",
      "tipo_renda[T.Servidor público]      0.0736      0.025      2.964      0.003       0.025       0.122\n",
      "educacao[T.Pós graduação]           0.1104      0.184      0.601      0.548      -0.249       0.470\n",
      "educacao[T.Secundário]             -0.0393      0.078     -0.502      0.615      -0.193       0.114\n",
      "educacao[T.Superior completo]       0.0707      0.079      0.899      0.369      -0.083       0.225\n",
      "educacao[T.Superior incompleto]    -0.0512      0.085     -0.603      0.547      -0.218       0.115\n",
      "estado_civil[T.Separado]            0.3471      0.115      3.027      0.002       0.122       0.572\n",
      "estado_civil[T.Solteiro]            0.2967      0.112      2.650      0.008       0.077       0.516\n",
      "estado_civil[T.União]              -0.0341      0.028     -1.219      0.223      -0.089       0.021\n",
      "estado_civil[T.Viúvo]               0.4420      0.120      3.683      0.000       0.207       0.677\n",
      "qtd_filhos                         -0.2960      0.111     -2.677      0.007      -0.513      -0.079\n",
      "idade                               0.0052      0.001      5.839      0.000       0.003       0.007\n",
      "tempo_emprego                       0.0612      0.001     52.774      0.000       0.059       0.063\n",
      "qt_pessoas_residencia               0.3202      0.110      2.901      0.004       0.104       0.537\n",
      "==============================================================================\n",
      "Omnibus:                        0.857   Durbin-Watson:                   2.002\n",
      "Prob(Omnibus):                  0.651   Jarque-Bera (JB):                0.825\n",
      "Skew:                           0.019   Prob(JB):                        0.662\n",
      "Kurtosis:                       3.024   Cond. No.                     2.42e+03\n",
      "==============================================================================\n",
      "\n",
      "Notes:\n",
      "[1] Standard Errors assume that the covariance matrix of the errors is correctly specified.\n",
      "[2] The condition number is large, 2.42e+03. This might indicate that there are\n",
      "strong multicollinearity or other numerical problems.\n"
     ]
    }
   ],
   "source": [
    "# Dividir os dados em conjunto de treinamento e teste\n",
    "X_train, X_test, y_train, y_test = train_test_split(X, y, test_size=0.2, random_state=42)\n",
    "\n",
    "# Ajustar o modelo de regressão linear usando o conjunto de treinamento\n",
    "model = sm.OLS(y_train, X_train).fit()\n",
    "\n",
    "# Imprimir o resumo do modelo\n",
    "print(model.summary())"
   ]
  },
  {
   "cell_type": "markdown",
   "metadata": {},
   "source": [
    "3. Siga removendo as variáveis menos significantes, sempre que o *p-value* for menor que 5%. Compare o modelo final com o inicial. Observe os indicadores e conclua se o modelo parece melhor. "
   ]
  },
  {
   "cell_type": "code",
   "execution_count": 54,
   "metadata": {},
   "outputs": [
    {
     "name": "stdout",
     "output_type": "stream",
     "text": [
      "                            OLS Regression Results                            \n",
      "==============================================================================\n",
      "Dep. Variable:              log_renda   R-squared:                       0.344\n",
      "Model:                            OLS   Adj. R-squared:                  0.343\n",
      "Method:                 Least Squares   F-statistic:                     472.7\n",
      "Date:                Sun, 20 Aug 2023   Prob (F-statistic):               0.00\n",
      "Time:                        15:17:38   Log-Likelihood:                -10950.\n",
      "No. Observations:                9941   AIC:                         2.192e+04\n",
      "Df Residuals:                    9929   BIC:                         2.201e+04\n",
      "Df Model:                          11                                         \n",
      "Covariance Type:            nonrobust                                         \n",
      "============================================================================================\n",
      "                               coef    std err          t      P>|t|      [0.025      0.975]\n",
      "--------------------------------------------------------------------------------------------\n",
      "sexo[F]                      6.6505      0.226     29.459      0.000       6.208       7.093\n",
      "sexo[M]                      7.4205      0.226     32.896      0.000       6.978       7.863\n",
      "posse_de_veiculo[T.True]     0.0487      0.016      3.077      0.002       0.018       0.080\n",
      "posse_de_imovel[T.True]      0.0979      0.015      6.318      0.000       0.067       0.128\n",
      "estado_civil[T.Separado]     0.3305      0.116      2.860      0.004       0.104       0.557\n",
      "estado_civil[T.Solteiro]     0.2823      0.113      2.502      0.012       0.061       0.503\n",
      "estado_civil[T.União]       -0.0273      0.028     -0.967      0.333      -0.083       0.028\n",
      "estado_civil[T.Viúvo]        0.4023      0.121      3.328      0.001       0.165       0.639\n",
      "qtd_filhos                  -0.2756      0.111     -2.473      0.013      -0.494      -0.057\n",
      "idade                        0.0045      0.001      5.124      0.000       0.003       0.006\n",
      "tempo_emprego                0.0605      0.001     52.451      0.000       0.058       0.063\n",
      "qt_pessoas_residencia        0.2959      0.111      2.660      0.008       0.078       0.514\n",
      "==============================================================================\n",
      "Omnibus:                        1.361   Durbin-Watson:                   1.994\n",
      "Prob(Omnibus):                  0.506   Jarque-Bera (JB):                1.334\n",
      "Skew:                           0.027   Prob(JB):                        0.513\n",
      "Kurtosis:                       3.018   Cond. No.                     2.35e+03\n",
      "==============================================================================\n",
      "\n",
      "Notes:\n",
      "[1] Standard Errors assume that the covariance matrix of the errors is correctly specified.\n",
      "[2] The condition number is large, 2.35e+03. This might indicate that there are\n",
      "strong multicollinearity or other numerical problems.\n"
     ]
    }
   ],
   "source": [
    "# Excluir as colunas tipo_renda, educacao e tipo_residencia do DataFrame df\n",
    "cols_to_drop = ['tipo_renda', 'educacao', 'tipo_residencia']\n",
    "df_filtered = df.drop(cols_to_drop, axis=1)\n",
    "\n",
    "# Criar a variável resposta logarítmica\n",
    "df_filtered['log_renda'] = np.log(df_filtered['renda'])\n",
    "\n",
    "# Usar o Patsy para criar a matriz de design com as variáveis filtradas\n",
    "f_new = 'log_renda ~ sexo + posse_de_veiculo + posse_de_imovel + qtd_filhos + estado_civil + idade + tempo_emprego + qt_pessoas_residencia - 1'\n",
    "y_new, X_new = patsy.dmatrices(f_new, df_filtered, return_type='dataframe')\n",
    "\n",
    "# Dividir os dados em conjunto de treinamento e teste\n",
    "X_train_new, X_test_new, y_train_new, y_test_new = train_test_split(X_new, y_new, test_size=0.2, random_state=42)\n",
    "\n",
    "# Ajustar o novo modelo\n",
    "model_new = sm.OLS(y_train_new, X_train_new).fit()\n",
    "\n",
    "# Imprimir o resumo do novo modelo\n",
    "print(model_new.summary())\n"
   ]
  },
  {
   "cell_type": "markdown",
   "metadata": {},
   "source": [
    "> * <span style=\"color:green\">Não houveram mudanças significativas entre o modelo inicial e o modelo final em relação a proporção da variabilidade na variável de resposta explicada pelas variáveis independentes, apesar disso devido ao modelo final ser um modelo mais simples, ele se torna mais fácil de se interpretar e menos suscetível a overfitting.</span>"
   ]
  }
 ],
 "metadata": {
  "kernelspec": {
   "display_name": "Python 3 (ipykernel)",
   "language": "python",
   "name": "python3"
  },
  "language_info": {
   "codemirror_mode": {
    "name": "ipython",
    "version": 3
   },
   "file_extension": ".py",
   "mimetype": "text/x-python",
   "name": "python",
   "nbconvert_exporter": "python",
   "pygments_lexer": "ipython3",
   "version": "3.11.3"
  }
 },
 "nbformat": 4,
 "nbformat_minor": 4
}
