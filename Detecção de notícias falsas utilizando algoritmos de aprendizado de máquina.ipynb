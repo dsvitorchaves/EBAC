{
 "cells": [
  {
   "cell_type": "code",
   "execution_count": 1,
   "id": "19d21afe",
   "metadata": {},
   "outputs": [],
   "source": [
    "# Importtando bibliotecas necessárias\n",
    "\n",
    "import pandas as pd\n",
    "import matplotlib.pyplot as plt\n",
    "import seaborn as sns\n",
    "import zipfile\n",
    "\n",
    "from sklearn.model_selection import train_test_split\n",
    "from sklearn.feature_extraction.text import TfidfVectorizer\n",
    "from sklearn.linear_model import PassiveAggressiveClassifier\n",
    "from sklearn.metrics import accuracy_score, confusion_matrix\n",
    "from sklearn.model_selection import cross_val_score"
   ]
  },
  {
   "cell_type": "code",
   "execution_count": 5,
   "id": "31ecf3ac",
   "metadata": {},
   "outputs": [],
   "source": [
    "# Carregando o conjunto de dados\n",
    "\n",
    "# Caminho para o arquivo ZIP\n",
    "\n",
    "zip_path = 'news.csv.zip'\n",
    "\n",
    "# Nome do arquivo CSV dentro do ZIP\n",
    "\n",
    "csv_filename = 'news.csv'\n",
    "\n",
    "# Lendo o CSV dentro do ZIP\n",
    "with zipfile.ZipFile(zip_path, 'r') as z:\n",
    "    with z.open(csv_filename) as f:\n",
    "        data = pd.read_csv(f)"
   ]
  },
  {
   "cell_type": "code",
   "execution_count": 7,
   "id": "ba4c9994",
   "metadata": {
    "scrolled": true
   },
   "outputs": [],
   "source": [
    "# Dividindo os dados em conjuntos de treinamento e teste\n",
    "labels = data['label']\n",
    "x_train, x_test, y_train, y_test = train_test_split(data['text'], \n",
    "                                                    labels, \n",
    "                                                    test_size = 0.2, \n",
    "                                                    random_state = 42\n",
    "                                                   )"
   ]
  },
  {
   "cell_type": "code",
   "execution_count": 8,
   "id": "ef5ebe66",
   "metadata": {},
   "outputs": [],
   "source": [
    "# Inicializando um TF-IDF Vectorizer\n",
    "# Transformando os textos em vetores que os modelos de aprendizado de máquina conseguem entender, \n",
    "# transforma textos em uma representação numérica considerando a frequência das palavras no documento \n",
    "# e em todo o conjunto de dados\n",
    "\n",
    "tfidf_vectorizer = TfidfVectorizer(stop_words='english', max_df = 0.7)\n",
    "tfidf_train = tfidf_vectorizer.fit_transform(x_train)\n",
    "tfidf_test = tfidf_vectorizer.transform(x_test)"
   ]
  },
  {
   "cell_type": "code",
   "execution_count": 26,
   "id": "eafda5ff",
   "metadata": {
    "scrolled": true
   },
   "outputs": [
    {
     "name": "stdout",
     "output_type": "stream",
     "text": [
      "Acurácia em cada fold: [0.94, 0.94, 0.92, 0.95, 0.93, 0.95, 0.96, 0.94, 0.92, 0.94]\n",
      "Acurácia média na validação cruzada: 0.937 | Desvio Padrão: 0.013\n"
     ]
    },
    {
     "data": {
      "text/html": [
       "<style>#sk-container-id-13 {color: black;background-color: white;}#sk-container-id-13 pre{padding: 0;}#sk-container-id-13 div.sk-toggleable {background-color: white;}#sk-container-id-13 label.sk-toggleable__label {cursor: pointer;display: block;width: 100%;margin-bottom: 0;padding: 0.3em;box-sizing: border-box;text-align: center;}#sk-container-id-13 label.sk-toggleable__label-arrow:before {content: \"▸\";float: left;margin-right: 0.25em;color: #696969;}#sk-container-id-13 label.sk-toggleable__label-arrow:hover:before {color: black;}#sk-container-id-13 div.sk-estimator:hover label.sk-toggleable__label-arrow:before {color: black;}#sk-container-id-13 div.sk-toggleable__content {max-height: 0;max-width: 0;overflow: hidden;text-align: left;background-color: #f0f8ff;}#sk-container-id-13 div.sk-toggleable__content pre {margin: 0.2em;color: black;border-radius: 0.25em;background-color: #f0f8ff;}#sk-container-id-13 input.sk-toggleable__control:checked~div.sk-toggleable__content {max-height: 200px;max-width: 100%;overflow: auto;}#sk-container-id-13 input.sk-toggleable__control:checked~label.sk-toggleable__label-arrow:before {content: \"▾\";}#sk-container-id-13 div.sk-estimator input.sk-toggleable__control:checked~label.sk-toggleable__label {background-color: #d4ebff;}#sk-container-id-13 div.sk-label input.sk-toggleable__control:checked~label.sk-toggleable__label {background-color: #d4ebff;}#sk-container-id-13 input.sk-hidden--visually {border: 0;clip: rect(1px 1px 1px 1px);clip: rect(1px, 1px, 1px, 1px);height: 1px;margin: -1px;overflow: hidden;padding: 0;position: absolute;width: 1px;}#sk-container-id-13 div.sk-estimator {font-family: monospace;background-color: #f0f8ff;border: 1px dotted black;border-radius: 0.25em;box-sizing: border-box;margin-bottom: 0.5em;}#sk-container-id-13 div.sk-estimator:hover {background-color: #d4ebff;}#sk-container-id-13 div.sk-parallel-item::after {content: \"\";width: 100%;border-bottom: 1px solid gray;flex-grow: 1;}#sk-container-id-13 div.sk-label:hover label.sk-toggleable__label {background-color: #d4ebff;}#sk-container-id-13 div.sk-serial::before {content: \"\";position: absolute;border-left: 1px solid gray;box-sizing: border-box;top: 0;bottom: 0;left: 50%;z-index: 0;}#sk-container-id-13 div.sk-serial {display: flex;flex-direction: column;align-items: center;background-color: white;padding-right: 0.2em;padding-left: 0.2em;position: relative;}#sk-container-id-13 div.sk-item {position: relative;z-index: 1;}#sk-container-id-13 div.sk-parallel {display: flex;align-items: stretch;justify-content: center;background-color: white;position: relative;}#sk-container-id-13 div.sk-item::before, #sk-container-id-13 div.sk-parallel-item::before {content: \"\";position: absolute;border-left: 1px solid gray;box-sizing: border-box;top: 0;bottom: 0;left: 50%;z-index: -1;}#sk-container-id-13 div.sk-parallel-item {display: flex;flex-direction: column;z-index: 1;position: relative;background-color: white;}#sk-container-id-13 div.sk-parallel-item:first-child::after {align-self: flex-end;width: 50%;}#sk-container-id-13 div.sk-parallel-item:last-child::after {align-self: flex-start;width: 50%;}#sk-container-id-13 div.sk-parallel-item:only-child::after {width: 0;}#sk-container-id-13 div.sk-dashed-wrapped {border: 1px dashed gray;margin: 0 0.4em 0.5em 0.4em;box-sizing: border-box;padding-bottom: 0.4em;background-color: white;}#sk-container-id-13 div.sk-label label {font-family: monospace;font-weight: bold;display: inline-block;line-height: 1.2em;}#sk-container-id-13 div.sk-label-container {text-align: center;}#sk-container-id-13 div.sk-container {/* jupyter's `normalize.less` sets `[hidden] { display: none; }` but bootstrap.min.css set `[hidden] { display: none !important; }` so we also need the `!important` here to be able to override the default hidden behavior on the sphinx rendered scikit-learn.org. See: https://github.com/scikit-learn/scikit-learn/issues/21755 */display: inline-block !important;position: relative;}#sk-container-id-13 div.sk-text-repr-fallback {display: none;}</style><div id=\"sk-container-id-13\" class=\"sk-top-container\"><div class=\"sk-text-repr-fallback\"><pre>PassiveAggressiveClassifier(max_iter=50)</pre><b>In a Jupyter environment, please rerun this cell to show the HTML representation or trust the notebook. <br />On GitHub, the HTML representation is unable to render, please try loading this page with nbviewer.org.</b></div><div class=\"sk-container\" hidden><div class=\"sk-item\"><div class=\"sk-estimator sk-toggleable\"><input class=\"sk-toggleable__control sk-hidden--visually\" id=\"sk-estimator-id-13\" type=\"checkbox\" checked><label for=\"sk-estimator-id-13\" class=\"sk-toggleable__label sk-toggleable__label-arrow\">PassiveAggressiveClassifier</label><div class=\"sk-toggleable__content\"><pre>PassiveAggressiveClassifier(max_iter=50)</pre></div></div></div></div></div>"
      ],
      "text/plain": [
       "PassiveAggressiveClassifier(max_iter=50)"
      ]
     },
     "execution_count": 26,
     "metadata": {},
     "output_type": "execute_result"
    }
   ],
   "source": [
    "# Treinando o modelo PassiveAggressiveClassifier\n",
    "\n",
    "pac = PassiveAggressiveClassifier(max_iter = 50)\n",
    "\n",
    "# Definindo o número de folds para a validação cruzada\n",
    "\n",
    "num_folds = 10\n",
    "\n",
    "# Aplicando validação cruzada\n",
    "\n",
    "scores = cross_val_score(pac, \n",
    "                         tfidf_train, \n",
    "                         y_train, \n",
    "                         cv = num_folds, \n",
    "                         scoring = 'accuracy')\n",
    "\n",
    "# Printando os resultados da validação cruzada\n",
    "print(f\"Acurácia em cada fold: {[round(score, 2) for score in scores]}\")\n",
    "print(f\"Acurácia média na validação cruzada: {scores.mean():.3f} | Desvio Padrão: {scores.std():.3f}\")\n",
    "\n",
    "\n",
    "# Treinando o modelo no conjunto completo de treinamento\n",
    "\n",
    "pac.fit(tfidf_train, y_train)"
   ]
  },
  {
   "cell_type": "code",
   "execution_count": 28,
   "id": "67833a9d",
   "metadata": {},
   "outputs": [
    {
     "name": "stdout",
     "output_type": "stream",
     "text": [
      "Acurácia do modelo: 0.94\n"
     ]
    },
    {
     "data": {
      "image/png": "[encoded data removed]",
      "text/plain": [
       "<Figure size 800x600 with 2 Axes>"
      ]
     },
     "metadata": {},
     "output_type": "display_data"
    },
    {
     "name": "stdout",
     "output_type": "stream",
     "text": [
      "Notícias verdadeiras corretamente identificadas como verdadeiras: 591\n",
      "Notícias verdadeiras identificadas incorretamente como falsas: 38\n",
      "Notícias falsas identificadas incorretamente como verdadeiras: 37\n",
      "Notícias falsas corretamente identificadas como falsas: 601\n"
     ]
    }
   ],
   "source": [
    "y_pred = pac.predict(tfidf_test)\n",
    "accuracy = accuracy_score(y_test, y_pred)\n",
    "cm = confusion_matrix(y_test, y_pred)\n",
    "\n",
    "print(f\"Acurácia do modelo: {accuracy:.2f}\")\n",
    "\n",
    "# Plotando a matriz de confusão com Seaborn\n",
    "\n",
    "plt.figure(figsize=(8, 6))\n",
    "sns.heatmap(cm, annot=True, fmt='g', cmap='Blues',\n",
    "           xticklabels = ['Real', 'Falso'],\n",
    "           yticklabels = ['Real', 'Falso'])\n",
    "plt.xlabel('Rótulos Previstos')\n",
    "plt.ylabel('Rótulos Verdadeiros')\n",
    "plt.title('Matriz de Confusão')\n",
    "plt.show()\n",
    "\n",
    "# Extraindo Resultados da Matriz de Confusão\n",
    "vp = cm[0][0]\n",
    "fp = cm[0][1]\n",
    "vn = cm[1][1]\n",
    "fn = cm[1][0]\n",
    "\n",
    "# Imprimindo legendas\n",
    "\n",
    "print(f\"Notícias verdadeiras corretamente identificadas como verdadeiras: {vp}\")\n",
    "print(f\"Notícias verdadeiras identificadas incorretamente como falsas: {fn}\")\n",
    "print(f\"Notícias falsas identificadas incorretamente como verdadeiras: {fp}\")\n",
    "print(f\"Notícias falsas corretamente identificadas como falsas: {vn}\")"
   ]
  }
 ],
 "metadata": {
  "kernelspec": {
   "display_name": "Python 3 (ipykernel)",
   "language": "python",
   "name": "python3"
  },
  "language_info": {
   "codemirror_mode": {
    "name": "ipython",
    "version": 3
   },
   "file_extension": ".py",
   "mimetype": "text/x-python",
   "name": "python",
   "nbconvert_exporter": "python",
   "pygments_lexer": "ipython3",
   "version": "3.11.3"
  }
 },
 "nbformat": 4,
 "nbformat_minor": 5
}
