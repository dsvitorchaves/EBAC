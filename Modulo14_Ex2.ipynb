{
 "cells": [
  {
   "cell_type": "code",
   "execution_count": 25,
   "id": "d21d9e38",
   "metadata": {},
   "outputs": [],
   "source": [
    "import os\n",
    "import re\n",
    "import pandas as pd\n",
    "import matplotlib.pyplot as plt"
   ]
  },
  {
   "cell_type": "code",
   "execution_count": 26,
   "id": "b2edeaa0",
   "metadata": {},
   "outputs": [
    {
     "name": "stdout",
     "output_type": "stream",
     "text": [
      "Funcionou! Os gráficos já foram gerados.\n"
     ]
    }
   ],
   "source": [
    "# Listando os arquivos na pasta 'input' com extensão .csv\n",
    "input_folder = \"input\"\n",
    "csv_files = [file for file in os.listdir(input_folder) if file.endswith(\".csv\")]\n",
    "\n",
    "# Dicionário para converter nomes dos meses para abreviações\n",
    "meses_em_abreviacao = {\n",
    "    \"JAN\": (\"01\", \"1 - JAN\"),\n",
    "    \"FEV\": (\"02\", \"2 - FEV\"),\n",
    "    \"MAR\": (\"03\", \"3 - MAR\"),\n",
    "    \"ABR\": (\"04\", \"4 - ABR\"),\n",
    "    \"MAI\": (\"05\", \"5 - MAI\"),\n",
    "    \"JUN\": (\"06\", \"6 - JUN\"),\n",
    "    \"JUL\": (\"07\", \"7 - JUL\"),\n",
    "    \"AGO\": (\"08\", \"8 - AGO\"),\n",
    "    \"SET\": (\"09\", \"9 - SET\"),\n",
    "    \"OUT\": (\"10\", \"10 - OUT\"),\n",
    "    \"NOV\": (\"11\", \"11 - NOV\"),\n",
    "    \"DEZ\": (\"12\", \"12 - DEZ\")\n",
    "}\n",
    "\n",
    "# Criando a pasta 'resultado_grafico'\n",
    "pasta_resultado = \"resultado_grafico\"\n",
    "if not os.path.exists(pasta_resultado):\n",
    "    os.makedirs(pasta_resultado)\n",
    "\n",
    "# Função para extrair o nome do mês a partir do nome do arquivo\n",
    "def extrair_mes(nome_arquivo):\n",
    "    mes = re.search(r'_([A-Z]+)\\.csv', nome_arquivo)\n",
    "    if mes:\n",
    "        return mes.group(1)\n",
    "    else:\n",
    "        return None\n",
    "\n",
    "# Criando gráficos para cada arquivo na pasta 'input'\n",
    "for arquivo in csv_files:\n",
    "    mes = extrair_mes(arquivo)\n",
    "    if mes:\n",
    "        # Verificando se o mês está na lista de abreviações conhecidas\n",
    "        if mes in meses_em_abreviacao:\n",
    "            caminho_arquivo = os.path.join(input_folder, arquivo)\n",
    "            df = pd.read_csv(caminho_arquivo)\n",
    "\n",
    "            # Convertendo a coluna 'DTNASC' para formato de data\n",
    "            df['DTNASC'] = pd.to_datetime(df['DTNASC'])\n",
    "            df['DIA'] = df['DTNASC'].dt.day\n",
    "\n",
    "            # Definindo o tamanho do gráfico\n",
    "            plt.figure(figsize=(12, 6))\n",
    "\n",
    "            # Agrupando os nascimentos por dia\n",
    "            nascimentos_por_dia = df.groupby('DIA').size()\n",
    "\n",
    "            # Definindo o intervalo de dias no eixo x\n",
    "            total_dias_mes = df['DIA'].max()\n",
    "            intervalo = 2 if total_dias_mes <= 10 else 3\n",
    "            plt.xticks(range(1, total_dias_mes + 1, intervalo))\n",
    "\n",
    "            # Criando o gráfico de linha\n",
    "            nascimentos_por_dia.plot(kind='line', title=f\"Nascimentos em {mes}\", xlabel=\"Dia\", ylabel=\"Quantidade\")\n",
    "            plt.grid(True)\n",
    "\n",
    "            # Salvando o gráfico como arquivo PNG na pasta específica para cada mês\n",
    "            nome_mes_abreviado, nome_mes_abreviado_pasta = meses_em_abreviacao[mes]\n",
    "            pasta_mes = os.path.join(pasta_resultado, nome_mes_abreviado_pasta)\n",
    "            if not os.path.exists(pasta_mes):\n",
    "                os.makedirs(pasta_mes)\n",
    "\n",
    "            nome_arquivo = os.path.join(pasta_mes, f\"{df['DTNASC'].iloc[0].strftime('%Y')}_{nome_mes_abreviado}.png\")\n",
    "            plt.savefig(nome_arquivo, bbox_inches='tight', dpi=150)\n",
    "\n",
    "            plt.close()\n",
    "\n",
    "        else:\n",
    "            print(f\"O mês '{mes}' não possui uma abreviação conhecida.\")\n",
    "\n",
    "print(\"Funcionou! Os gráficos já foram gerados.\")\n"
   ]
  }
 ],
 "metadata": {
  "kernelspec": {
   "display_name": "Python 3 (ipykernel)",
   "language": "python",
   "name": "python3"
  },
  "language_info": {
   "codemirror_mode": {
    "name": "ipython",
    "version": 3
   },
   "file_extension": ".py",
   "mimetype": "text/x-python",
   "name": "python",
   "nbconvert_exporter": "python",
   "pygments_lexer": "ipython3",
   "version": "3.11.3"
  }
 },
 "nbformat": 4,
 "nbformat_minor": 5
}
