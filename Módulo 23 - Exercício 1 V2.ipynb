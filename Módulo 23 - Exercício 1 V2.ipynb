{
 "cells": [
  {
   "cell_type": "markdown",
   "id": "048cad7c",
   "metadata": {},
   "source": [
    "# TAREFA 1\n",
    "\n",
    "<font size=\"3\">**1. Monte um passo-a-passo para o Bagging.**</font>\n",
    "\n",
    "<font size=\"3\">**2. Explique com suas palavras o Bagging.**</font>\n",
    "\n",
    "<font size=\"3\">**3. (Opcional) Implementar em Python o código do Bagging.**</font>"
   ]
  },
  {
   "cell_type": "markdown",
   "id": "870084ca",
   "metadata": {},
   "source": [
    "* **Bagging** é uma técnica de aprendizado de máquina que une diversos modelos. Cada modelo é treinado em um conjunto de dados diferente retirado do conjunto original, com substituição. Isso ajuda a diminuir as diferenças entre os modelos, o que melhora a maneira como eles conseguem prever dados novos e deixa o modelo final mais assertivo. Bagging costuma ser usado com árvores de decisão, mas também pode ser usado com outros tipos de modelos."
   ]
  },
  {
   "cell_type": "code",
   "execution_count": 21,
   "id": "04d6fe98",
   "metadata": {},
   "outputs": [
    {
     "name": "stdout",
     "output_type": "stream",
     "text": [
      "\u001b[1mAcurácia do Modelo Bagging:\u001b[0m 0.88 %\n"
     ]
    }
   ],
   "source": [
    "# IMPLEMENTANDO O BAGGING UTILIZANDO A LINGUAGEM PYTHON\n",
    "\n",
    "# Instalando a biblioteca scikit-learn\n",
    "\n",
    "# pip install scikit-learn\n",
    "\n",
    "# PRIMEIRO PASSO - IMPORTANDO AS BIBLIOTECAS NECESSÁRIAS\n",
    "\n",
    "import pandas as pd\n",
    "import os\n",
    "from sklearn.model_selection import train_test_split\n",
    "from sklearn.ensemble import BaggingClassifier\n",
    "from sklearn.tree import DecisionTreeClassifier\n",
    "from sklearn.metrics import accuracy_score\n",
    "from sklearn.datasets import make_classification\n",
    "\n",
    "# INICIO - PARTE EXTRA DO CÓDIGO\n",
    "# -----------------------------------------------------------------------------------\n",
    "\n",
    "# Gerando um conjunto de dados simulado\n",
    "X, y = make_classification(n_samples=1000, n_features=20, random_state=42)\n",
    "\n",
    "# Convertendo os dados para um DataFrame do pandas\n",
    "data = pd.DataFrame(X, columns=[f\"feature_{i}\" for i in range(X.shape[1])])\n",
    "data[\"target\"] = y\n",
    "\n",
    "# Salvando o conjunto de dados simulado em formato CSV\n",
    "save_folder = \"Dados_Simulados\"\n",
    "os.makedirs(save_folder, exist_ok=True)\n",
    "train_file = os.path.join(save_folder, \"train_data.csv\")\n",
    "test_file = os.path.join(save_folder, \"test_data.csv\")\n",
    "data.to_csv(train_file, index=False)\n",
    "data.to_csv(test_file, index=False)\n",
    "# print(\"Conjuntos de dados simulados salvos:\", train_file, test_file)\n",
    "\n",
    "# FIM - PARTE EXTRA DO CÓDIGO\n",
    "# -----------------------------------------------------------------------------------\n",
    "\n",
    "# SEGUNDO PASSO - CARREGANDO E DIVIDINDO OS DADOS\n",
    "\n",
    "# Carregando os dados e dividindo-os em conjuntos de treinamento e teste usando a função 'train_test_split()'\n",
    "# Os dados foram divididos em features (X) e rótulos (y)\n",
    "\n",
    "train_data, test_data = train_test_split(data, test_size=0.2, random_state=42)\n",
    "\n",
    "# TERCEIRO PASSO - CRIANDO O MODELO BASE E O ENSEMBLE\n",
    "# Criando o modelo de base, árvore de decisão, e em seguida, criando o ensemble Bagging utilizando o 'BaggingClassifier'\n",
    "\n",
    "# Criando o Modelo Base (Árvore de Decisão)\n",
    "base_model = DecisionTreeClassifier()\n",
    "\n",
    "# Criando o Ensemble Bagging\n",
    "bagging_model = BaggingClassifier(base_model, n_estimators=10, random_state=42)\n",
    "\n",
    "# QUARTO PASSO - TREINANDO O MODELO BAGGING\n",
    "\n",
    "bagging_model.fit(train_data.drop(\"target\", axis=1), train_data[\"target\"])\n",
    "\n",
    "# QUINTO PASSO - FAZENDO PREVISÕES E AVALIANDO O MODELO\n",
    "\n",
    "# Fazendo Previsões\n",
    "predictions = bagging_model.predict(test_data.drop(\"target\", axis=1))\n",
    "\n",
    "# Calculando a Acurácia\n",
    "accuracy = accuracy_score(test_data[\"target\"], predictions)\n",
    "print(\"\\033[1mAcurácia do Modelo Bagging:\\033[0m\", round(accuracy, 2), \"%\")\n"
   ]
  }
 ],
 "metadata": {
  "kernelspec": {
   "display_name": "Python 3 (ipykernel)",
   "language": "python",
   "name": "python3"
  },
  "language_info": {
   "codemirror_mode": {
    "name": "ipython",
    "version": 3
   },
   "file_extension": ".py",
   "mimetype": "text/x-python",
   "name": "python",
   "nbconvert_exporter": "python",
   "pygments_lexer": "ipython3",
   "version": "3.11.3"
  }
 },
 "nbformat": 4,
 "nbformat_minor": 5
}
