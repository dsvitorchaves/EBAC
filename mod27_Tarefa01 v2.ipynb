{
 "cells": [
  {
   "cell_type": "markdown",
   "metadata": {},
   "source": [
    "![Cabec%CC%A7alho_notebook.png](cabecalho_notebook.png)"
   ]
  },
  {
   "cell_type": "markdown",
   "metadata": {},
   "source": [
    "# PCA - Tarefa 01: *HAR* com PCA\n",
    "\n",
    "Vamos trabalhar com a base da demonstração feita em aula, mas vamos explorar um pouco melhor como é o desempenho da árvore variando o número de componentes principais."
   ]
  },
  {
   "cell_type": "code",
   "execution_count": 2,
   "metadata": {},
   "outputs": [],
   "source": [
    "import pandas as pd\n",
    "\n",
    "from sklearn.tree import DecisionTreeClassifier\n",
    "\n",
    "from sklearn.decomposition import PCA\n",
    "from sklearn.metrics import accuracy_score\n",
    "from sklearn.model_selection import cross_val_score\n",
    "from sklearn.model_selection import GridSearchCV\n",
    "\n",
    "filename_features = \"./Dados/UCI HAR Dataset/features.txt\"\n",
    "filename_labels = \"./Dados/UCI HAR Dataset/activity_labels.txt\"\n",
    "\n",
    "filename_subtrain = \"./Dados/UCI HAR Dataset/train/subject_train.txt\"\n",
    "filename_xtrain = \"./Dados/UCI HAR Dataset/train/X_train.txt\"\n",
    "filename_ytrain = \"./Dados/UCI HAR Dataset/train/y_train.txt\"\n",
    "\n",
    "filename_subtest = \"./Dados/UCI HAR Dataset/test/subject_test.txt\"\n",
    "ffilename_xtest = \"./Dados/UCI HAR Dataset/test/X_test.txt\"\n",
    "filename_ytest = \"./Dados/UCI HAR Dataset/test/y_test.txt\"\n",
    "\n",
    "features = pd.read_csv(filename_features, header=None, names=['nome_var'], sep=\"#\")\n",
    "labels = pd.read_csv(filename_labels, delim_whitespace=True, header=None, names=['cod_label', 'label'])\n",
    "\n",
    "subject_train = pd.read_csv(filename_subtrain, header=None, names=['subject_id'])\n",
    "X_train = pd.read_csv(filename_xtrain, delim_whitespace=True, header=None, names=features['nome_var'].tolist())\n",
    "y_train = pd.read_csv(filename_ytrain, header=None, names=['cod_label'])\n",
    "\n",
    "subject_test = pd.read_csv(filename_subtest, header=None, names=['subject_id'])\n",
    "X_test = pd.read_csv(ffilename_xtest, delim_whitespace=True, header=None, names=features['nome_var'].tolist())\n",
    "y_test = pd.read_csv(filename_ytest, header=None, names=['cod_label'])"
   ]
  },
  {
   "cell_type": "markdown",
   "metadata": {},
   "source": [
    "## Árvore de decisão\n",
    "\n",
    "Rode uma árvore de decisão com todas as variáveis, utilizando o ```ccp_alpha=0.001```. Avalie a acurácia nas bases de treinamento e teste. Avalie o tempo de processamento."
   ]
  },
  {
   "cell_type": "code",
   "execution_count": 11,
   "metadata": {},
   "outputs": [
    {
     "name": "stdout",
     "output_type": "stream",
     "text": [
      "Acurácia nos dados de treinamento: 0.98\n",
      "Acurácia nos dados de teste: 0.88\n",
      "Tempo de treinamento: 9.82 segundos\n",
      "------------------------------------------------------------\n",
      "CPU times: total: 6.42 s\n",
      "Wall time: 9.87 s\n"
     ]
    }
   ],
   "source": [
    "%%time\n",
    "\n",
    "from sklearn.tree import DecisionTreeClassifier\n",
    "import time\n",
    "\n",
    "# Criando o modelo de Árvore de Decisão\n",
    "tree_model = DecisionTreeClassifier(ccp_alpha=0.001, random_state=42)\n",
    "\n",
    "# Treinando o modelo com os dados de treinamento\n",
    "start_time = time.time()\n",
    "tree_model.fit(X_train, y_train['cod_label'])\n",
    "training_time = time.time() - start_time\n",
    "\n",
    "# Avaliando a acurácia nos dados de treinamento\n",
    "train_accuracy = tree_model.score(X_train, y_train['cod_label'])\n",
    "\n",
    "# Avaliando a acurácia nos dados de teste\n",
    "test_accuracy = tree_model.score(X_test, y_test['cod_label'])\n",
    "\n",
    "print(\"Acurácia nos dados de treinamento:\", round(train_accuracy, 2))\n",
    "print(\"Acurácia nos dados de teste:\", round(test_accuracy, 2))\n",
    "print(\"Tempo de treinamento:\", round(training_time, 2), \"segundos\")\n",
    "print(\"-\" * 60)"
   ]
  },
  {
   "cell_type": "markdown",
   "metadata": {},
   "source": [
    "## Árvore com PCA\n",
    "\n",
    "Faça uma análise de componemtes principais das variáveis originais. Utilize apenas uma componente. Faça uma árvore de decisão com esta componente como variável explicativa.\n",
    "\n",
    "- Avalie a acurácia nas bases de treinamento e teste\n",
    "- Avalie o tempo de processamento"
   ]
  },
  {
   "cell_type": "code",
   "execution_count": 15,
   "metadata": {},
   "outputs": [
    {
     "name": "stdout",
     "output_type": "stream",
     "text": [
      "Acurácia com PCA nos dados de treinamento: 0.5\n",
      "Acurácia com PCA nos dados de teste: 0.46\n",
      "Tempo de treinamento com PCA: 0.07 segundos\n",
      "------------------------------------------------------------\n",
      "CPU times: total: 781 ms\n",
      "Wall time: 366 ms\n"
     ]
    }
   ],
   "source": [
    "%%time\n",
    "\n",
    "from sklearn.decomposition import PCA\n",
    "from sklearn.tree import DecisionTreeClassifier\n",
    "import time\n",
    "\n",
    "# Realizando a Análise de Componentes Principais (PCA) com uma componente\n",
    "n_components = 1\n",
    "pca = PCA(n_components=n_components)\n",
    "\n",
    "# Ajustando e transformando os dados de treinamento e teste com PCA\n",
    "X_train_pca = pca.fit_transform(X_train)\n",
    "X_test_pca = pca.transform(X_test)\n",
    "\n",
    "# Criando o modelo de Árvore de Decisão com a única componente PCA\n",
    "tree_model_pca = DecisionTreeClassifier(ccp_alpha=0.001, random_state=42)\n",
    "\n",
    "# Treinando o modelo com os dados de treinamento transformados\n",
    "start_time = time.time()\n",
    "tree_model_pca.fit(X_train_pca, y_train['cod_label'])\n",
    "training_time = time.time() - start_time\n",
    "\n",
    "# Avaliando a acurácia nos dados de treinamento transformados\n",
    "train_accuracy_pca = tree_model_pca.score(X_train_pca, y_train['cod_label'])\n",
    "\n",
    "# Avaliando a acurácia nos dados de teste transformados\n",
    "test_accuracy_pca = tree_model_pca.score(X_test_pca, y_test['cod_label'])\n",
    "\n",
    "print(\"Acurácia com PCA nos dados de treinamento:\", round(train_accuracy_pca, 2))\n",
    "print(\"Acurácia com PCA nos dados de teste:\", round(test_accuracy_pca, 2))\n",
    "print(\"Tempo de treinamento com PCA:\", round(training_time, 2), \"segundos\")\n",
    "print(\"-\" * 60)\n"
   ]
  },
  {
   "cell_type": "markdown",
   "metadata": {},
   "source": [
    "## Testando o número de componentes\n",
    "\n",
    "Com base no código acima, teste a árvore de classificação com pelo menos as seguintes possibilidades de quantidades de componentes: ```[1, 2, 5, 10, 50]```. Avalie para cada uma delas:\n",
    "\n",
    "- Acurácia nas bases de treino e teste\n",
    "- Tempo de processamento\n"
   ]
  },
  {
   "cell_type": "code",
   "execution_count": 17,
   "metadata": {},
   "outputs": [
    {
     "name": "stdout",
     "output_type": "stream",
     "text": [
      "Testando com 1 componentes principais\n",
      "Acurácia com PCA nos dados de treinamento: 0.5\n",
      "Acurácia com PCA nos dados de teste: 0.46\n",
      "Tempo de treinamento com PCA: 0.09 segundos\n",
      "\n",
      "Testando com 2 componentes principais\n",
      "Acurácia com PCA nos dados de treinamento: 0.61\n",
      "Acurácia com PCA nos dados de teste: 0.58\n",
      "Tempo de treinamento com PCA: 0.08 segundos\n",
      "\n",
      "Testando com 5 componentes principais\n",
      "Acurácia com PCA nos dados de treinamento: 0.85\n",
      "Acurácia com PCA nos dados de teste: 0.79\n",
      "Tempo de treinamento com PCA: 0.1 segundos\n",
      "\n",
      "Testando com 10 componentes principais\n",
      "Acurácia com PCA nos dados de treinamento: 0.89\n",
      "Acurácia com PCA nos dados de teste: 0.82\n",
      "Tempo de treinamento com PCA: 0.18 segundos\n",
      "\n",
      "Testando com 50 componentes principais\n",
      "Acurácia com PCA nos dados de treinamento: 0.92\n",
      "Acurácia com PCA nos dados de teste: 0.83\n",
      "Tempo de treinamento com PCA: 0.99 segundos\n",
      "\n",
      "CPU times: total: 5.31 s\n",
      "Wall time: 3.82 s\n"
     ]
    }
   ],
   "source": [
    "%%time\n",
    "\n",
    "from sklearn.decomposition import PCA\n",
    "from sklearn.tree import DecisionTreeClassifier\n",
    "import time\n",
    "\n",
    "# Lista de quantidades de componentes a serem testadas\n",
    "n_components_list = [1, 2, 5, 10, 50]\n",
    "\n",
    "for n_components in n_components_list:\n",
    "    print(f\"Testando com {n_components} componentes principais\")\n",
    "    \n",
    "    # Realizando a Análise de Componentes Principais (PCA) com a quantidade atual de componentes\n",
    "    pca = PCA(n_components=n_components)\n",
    "\n",
    "    # Ajustando e transformando os dados de treinamento e teste com PCA\n",
    "    X_train_pca = pca.fit_transform(X_train)\n",
    "    X_test_pca = pca.transform(X_test)\n",
    "\n",
    "    # Criando o modelo de Árvore de Decisão com as componentes PCA\n",
    "    tree_model_pca = DecisionTreeClassifier(ccp_alpha=0.001, random_state=42)\n",
    "\n",
    "    # Treinando o modelo com os dados de treinamento transformados\n",
    "    start_time = time.time()\n",
    "    tree_model_pca.fit(X_train_pca, y_train['cod_label'])\n",
    "    training_time = time.time() - start_time\n",
    "\n",
    "    # Avaliando a acurácia nos dados de treinamento transformados\n",
    "    train_accuracy_pca = round(tree_model_pca.score(X_train_pca, y_train['cod_label']), 2)\n",
    "\n",
    "    # Avaliando a acurácia nos dados de teste transformados\n",
    "    test_accuracy_pca = round(tree_model_pca.score(X_test_pca, y_test['cod_label']), 2)\n",
    "\n",
    "    print(\"Acurácia com PCA nos dados de treinamento:\", train_accuracy_pca)\n",
    "    print(\"Acurácia com PCA nos dados de teste:\", test_accuracy_pca)\n",
    "    print(\"Tempo de treinamento com PCA:\", round(training_time, 2), \"segundos\")\n",
    "    print()\n"
   ]
  },
  {
   "cell_type": "markdown",
   "metadata": {},
   "source": [
    "## Conclua\n",
    "\n",
    "- O que aconteceu com a acurácia?\n",
    "- O que aconteceu com o tempo de processamento?"
   ]
  },
  {
   "cell_type": "markdown",
   "metadata": {},
   "source": [
    "> * Observando os resultados podemos notar que a acurácia aumentou à medida que o foram aumentados os números de componentes principais, sendo uma tendência comum em técnicas de redução de dimensionalidade como o PCA, a acurácia foi de 0,5 no treinamento e 0,46 no teste com apenas 1 componente principal, para 0,92 no treinamento e 0,83 no teste com 50 componentes principais.\n",
    "\n",
    "> * Da mesma maneira, podemos observar que à medida que aumentamos os componentes principais, o tempo de processamento também aumentou, devido ao PCA envolver cálculos matriciais e transformações que utilizam intensivamente o poder computacional a medida que a dimensionalidade dos dados aumenta."
   ]
  }
 ],
 "metadata": {
  "kernelspec": {
   "display_name": "Python 3 (ipykernel)",
   "language": "python",
   "name": "python3"
  },
  "language_info": {
   "codemirror_mode": {
    "name": "ipython",
    "version": 3
   },
   "file_extension": ".py",
   "mimetype": "text/x-python",
   "name": "python",
   "nbconvert_exporter": "python",
   "pygments_lexer": "ipython3",
   "version": "3.11.3"
  },
  "toc": {
   "base_numbering": 1,
   "nav_menu": {},
   "number_sections": true,
   "sideBar": true,
   "skip_h1_title": true,
   "title_cell": "Índice",
   "title_sidebar": "Conteúdo",
   "toc_cell": false,
   "toc_position": {},
   "toc_section_display": true,
   "toc_window_display": false
  },
  "varInspector": {
   "cols": {
    "lenName": 16,
    "lenType": 16,
    "lenVar": 40
   },
   "kernels_config": {
    "python": {
     "delete_cmd_postfix": "",
     "delete_cmd_prefix": "del ",
     "library": "var_list.py",
     "varRefreshCmd": "print(var_dic_list())"
    },
    "r": {
     "delete_cmd_postfix": ") ",
     "delete_cmd_prefix": "rm(",
     "library": "var_list.r",
     "varRefreshCmd": "cat(var_dic_list()) "
    }
   },
   "types_to_exclude": [
    "module",
    "function",
    "builtin_function_or_method",
    "instance",
    "_Feature"
   ],
   "window_display": false
  }
 },
 "nbformat": 4,
 "nbformat_minor": 4
}
