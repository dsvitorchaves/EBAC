{
 "cells": [
  {
   "cell_type": "code",
   "execution_count": 1,
   "metadata": {},
   "outputs": [],
   "source": [
    "import pandas as pd\n",
    "import seaborn as sns\n",
    "from seaborn import load_dataset\n",
    "\n",
    "import matplotlib.pyplot as plt\n",
    "\n",
    "import numpy as np\n",
    "\n",
    "import statsmodels.formula.api as smf\n",
    "\n",
    "from scipy import stats"
   ]
  },
  {
   "cell_type": "code",
   "execution_count": 2,
   "metadata": {},
   "outputs": [],
   "source": [
    "# Carregando a base de gorjetas\n",
    "tips = sns.load_dataset(\"tips\")\n",
    "\n",
    "#Criando a variável tip_pct - % da Gorjeta em Relação ao Valor Líquido da Conta\n",
    "tips['tip_pct'] = tips['tip'] / (tips['total_bill'] - tips['tip'])\n",
    "\n",
    "# Criando a variável net_bill - Valor Líquido da Conta\n",
    "tips['net_bill'] = tips['total_bill'] - tips['tip']\n"
   ]
  },
  {
   "cell_type": "markdown",
   "metadata": {},
   "source": [
    "# Regressão 01 - tarefa 02 - transformações em X e Y"
   ]
  },
  {
   "cell_type": "markdown",
   "metadata": {},
   "source": [
    "### 1. Melhorando o ajuste no percentual de gorjetas\n",
    "\n",
    "a. Vamos partir do modelo feito na última tarefa, o que relaciona ```tip_pct``` e ```net_bill```. Carregue a base, os pacotes e reproduza este modelo aqui."
   ]
  },
  {
   "cell_type": "code",
   "execution_count": 3,
   "metadata": {},
   "outputs": [
    {
     "name": "stdout",
     "output_type": "stream",
     "text": [
      "                            OLS Regression Results                            \n",
      "==============================================================================\n",
      "Dep. Variable:                    tip   R-squared:                       0.333\n",
      "Model:                            OLS   Adj. R-squared:                  0.330\n",
      "Method:                 Least Squares   F-statistic:                     120.6\n",
      "Date:                Sat, 22 Jul 2023   Prob (F-statistic):           5.02e-23\n",
      "Time:                        20:19:24   Log-Likelihood:                -375.63\n",
      "No. Observations:                 244   AIC:                             755.3\n",
      "Df Residuals:                     242   BIC:                             762.3\n",
      "Df Model:                           1                                         \n",
      "Covariance Type:            nonrobust                                         \n",
      "==============================================================================\n",
      "                 coef    std err          t      P>|t|      [0.025      0.975]\n",
      "------------------------------------------------------------------------------\n",
      "Intercept      1.3307      0.168      7.907      0.000       0.999       1.662\n",
      "net_bill       0.0993      0.009     10.980      0.000       0.082       0.117\n",
      "==============================================================================\n",
      "Omnibus:                       33.873   Durbin-Watson:                   2.123\n",
      "Prob(Omnibus):                  0.000   Jarque-Bera (JB):               59.942\n",
      "Skew:                           0.754   Prob(JB):                     9.63e-14\n",
      "Kurtosis:                       4.903   Cond. No.                         43.3\n",
      "==============================================================================\n",
      "\n",
      "Notes:\n",
      "[1] Standard Errors assume that the covariance matrix of the errors is correctly specified.\n"
     ]
    }
   ],
   "source": [
    "# Reproduzindo a Regressão de tip Explicada por net_bill\n",
    "regression_model = smf.ols(formula='tip ~ net_bill', data=tips).fit()\n",
    "print(regression_model.summary())"
   ]
  },
  {
   "cell_type": "markdown",
   "metadata": {},
   "source": [
    "### 2. ajuste o modelo de ```tip_pct``` em função do logaritmo de ```net_bill```."
   ]
  },
  {
   "cell_type": "code",
   "execution_count": 4,
   "metadata": {},
   "outputs": [
    {
     "name": "stdout",
     "output_type": "stream",
     "text": [
      "                            OLS Regression Results                            \n",
      "==============================================================================\n",
      "Dep. Variable:                tip_pct   R-squared:                       0.202\n",
      "Model:                            OLS   Adj. R-squared:                  0.198\n",
      "Method:                 Least Squares   F-statistic:                     61.16\n",
      "Date:                Sat, 22 Jul 2023   Prob (F-statistic):           1.62e-13\n",
      "Time:                        20:24:03   Log-Likelihood:                 123.81\n",
      "No. Observations:                 244   AIC:                            -243.6\n",
      "Df Residuals:                     242   BIC:                            -236.6\n",
      "Df Model:                           1                                         \n",
      "Covariance Type:            nonrobust                                         \n",
      "================================================================================\n",
      "                   coef    std err          t      P>|t|      [0.025      0.975]\n",
      "--------------------------------------------------------------------------------\n",
      "Intercept        0.6181      0.054     11.444      0.000       0.512       0.724\n",
      "log_net_bill    -0.1534      0.020     -7.820      0.000      -0.192      -0.115\n",
      "==============================================================================\n",
      "Omnibus:                      440.899   Durbin-Watson:                   1.965\n",
      "Prob(Omnibus):                  0.000   Jarque-Bera (JB):           171509.052\n",
      "Skew:                           9.850   Prob(JB):                         0.00\n",
      "Kurtosis:                     131.381   Cond. No.                         17.9\n",
      "==============================================================================\n",
      "\n",
      "Notes:\n",
      "[1] Standard Errors assume that the covariance matrix of the errors is correctly specified.\n"
     ]
    }
   ],
   "source": [
    "# Calculando o logaritmo de net_bill\n",
    "tips['log_net_bill'] = np.log(tips['net_bill'])\n",
    "\n",
    "# Ajustando o modelo de Regressão de tip_pct por log_net_bill\n",
    "regression_model_tip_pct = smf.ols(formula='tip_pct ~ log_net_bill', data=tips).fit()\n",
    "\n",
    "print(regression_model_tip_pct.summary())"
   ]
  },
  {
   "cell_type": "markdown",
   "metadata": {},
   "source": [
    "###  3. ajuste o modelo de ```tip_pct``` em função de um polinômio de segundo grau em ```net_bill```."
   ]
  },
  {
   "cell_type": "code",
   "execution_count": 6,
   "metadata": {},
   "outputs": [
    {
     "name": "stdout",
     "output_type": "stream",
     "text": [
      "                            OLS Regression Results                            \n",
      "==============================================================================\n",
      "Dep. Variable:                tip_pct   R-squared:                       0.158\n",
      "Model:                            OLS   Adj. R-squared:                  0.151\n",
      "Method:                 Least Squares   F-statistic:                     22.55\n",
      "Date:                Sat, 22 Jul 2023   Prob (F-statistic):           1.06e-09\n",
      "Time:                        20:35:27   Log-Likelihood:                 117.25\n",
      "No. Observations:                 244   AIC:                            -228.5\n",
      "Df Residuals:                     241   BIC:                            -218.0\n",
      "Df Model:                           2                                         \n",
      "Covariance Type:            nonrobust                                         \n",
      "====================================================================================\n",
      "                       coef    std err          t      P>|t|      [0.025      0.975]\n",
      "------------------------------------------------------------------------------------\n",
      "Intercept            0.4851      0.047     10.332      0.000       0.393       0.578\n",
      "net_bill            -0.0268      0.005     -5.477      0.000      -0.036      -0.017\n",
      "net_bill_squared     0.0005      0.000      4.356      0.000       0.000       0.001\n",
      "==============================================================================\n",
      "Omnibus:                      447.620   Durbin-Watson:                   2.026\n",
      "Prob(Omnibus):                  0.000   Jarque-Bera (JB):           186035.672\n",
      "Skew:                          10.140   Prob(JB):                         0.00\n",
      "Kurtosis:                     136.744   Cond. No.                     2.42e+03\n",
      "==============================================================================\n",
      "\n",
      "Notes:\n",
      "[1] Standard Errors assume that the covariance matrix of the errors is correctly specified.\n",
      "[2] The condition number is large, 2.42e+03. This might indicate that there are\n",
      "strong multicollinearity or other numerical problems.\n"
     ]
    }
   ],
   "source": [
    "# Criando colunas com termos polinomiais de 2º em net_bill\n",
    "tips['net_bill_squared'] = np.power(tips['net_bill'], 2)\n",
    "\n",
    "regression_model_tip_pct_poly = smf.ols(formula='tip_pct ~net_bill +  net_bill_squared', data=tips).fit()\n",
    "\n",
    "print(regression_model_tip_pct_poly.summary())"
   ]
  },
  {
   "cell_type": "markdown",
   "metadata": {},
   "source": [
    "###  4. ajuste um modelo no log do ```tip_pct``` em função de ```net_bill```. Calcule o $R^2$ também em ```tip_pct```"
   ]
  },
  {
   "cell_type": "code",
   "execution_count": 7,
   "metadata": {},
   "outputs": [
    {
     "name": "stdout",
     "output_type": "stream",
     "text": [
      "R² do modelo em tip_pct: 0.2353\n"
     ]
    }
   ],
   "source": [
    "# Criando coluna com logaritmo do tip_pct\n",
    "tips['log_tip_pct'] = np.log(tips['tip_pct'])\n",
    "\n",
    "# Ajustando modelo de regressão do log_tip_pct por net_bill\n",
    "regression_model_log_tip_pct = smf.ols(formula='log_tip_pct ~net_bill', data=tips).fit()\n",
    "\n",
    "# Calculando o R² do modelo em tip_pct\n",
    "r_squared_tip_pct = regression_model_log_tip_pct.rsquared\n",
    "\n",
    "# PRINT\n",
    "print(f\"R² do modelo em tip_pct: {r_squared_tip_pct:.4f}\")"
   ]
  },
  {
   "cell_type": "markdown",
   "metadata": {},
   "source": [
    "###  5. ajuste um modelo no log do ```tip_pct``` em função do log de ```net_bill```. Calcule o $R^2$ também em ```tip_pct```."
   ]
  },
  {
   "cell_type": "code",
   "execution_count": 9,
   "metadata": {},
   "outputs": [
    {
     "name": "stdout",
     "output_type": "stream",
     "text": [
      "R² do MOdelo em tip_pct: 0.2935\n"
     ]
    }
   ],
   "source": [
    "# Ajustando modelo de regressão do log_tip_pct por log_net_bill\n",
    "regression_model_log_tip_pct_log_net_bill = smf.ols(formula='np.log(tip_pct) ~np.log(net_bill)', data=tips).fit()\n",
    "\n",
    "# Calculando R² do modelo em tip_pct\n",
    "r_squared_tip_pct_log_net_bill = regression_model_log_tip_pct_log_net_bill.rsquared\n",
    "\n",
    "# PRINT\n",
    "print(f\"R² do MOdelo em tip_pct: {r_squared_tip_pct_log_net_bill:.4f}\")"
   ]
  },
  {
   "cell_type": "markdown",
   "metadata": {},
   "source": [
    "###  6. qual modelo resultou no melhor ajuste?"
   ]
  },
  {
   "cell_type": "markdown",
   "metadata": {},
   "source": [
    "O modelo original teve o maior valor de R² (0.333) sendo o segundo melhor o modelo log do [tip_pct] em função do log de [net_bill] com (0.2935)"
   ]
  }
 ],
 "metadata": {
  "kernelspec": {
   "display_name": "Python 3 (ipykernel)",
   "language": "python",
   "name": "python3"
  },
  "language_info": {
   "codemirror_mode": {
    "name": "ipython",
    "version": 3
   },
   "file_extension": ".py",
   "mimetype": "text/x-python",
   "name": "python",
   "nbconvert_exporter": "python",
   "pygments_lexer": "ipython3",
   "version": "3.10.9"
  }
 },
 "nbformat": 4,
 "nbformat_minor": 4
}
