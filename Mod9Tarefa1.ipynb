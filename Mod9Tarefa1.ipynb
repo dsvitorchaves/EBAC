{
 "cells": [
  {
   "cell_type": "markdown",
   "metadata": {},
   "source": [
    "# Livro para consulta:\n",
    "- https://jakevdp.github.io/PythonDataScienceHandbook/03.08-aggregation-and-grouping.html\n",
    "- https://jakevdp.github.io/PythonDataScienceHandbook/03.09-pivot-tables.html\n",
    "    "
   ]
  },
  {
   "cell_type": "markdown",
   "metadata": {},
   "source": [
    "# 1. Importando bibliotecas <a name=\"import\"></a>\n",
    "\n",
    "<div style=\"text-align: right\"\n",
    "     \n",
    "[Voltar ao índice](#Contents)"
   ]
  },
  {
   "cell_type": "code",
   "execution_count": 2,
   "metadata": {
    "ExecuteTime": {
     "end_time": "2021-06-06T21:12:37.298706Z",
     "start_time": "2021-06-06T21:12:36.656481Z"
    }
   },
   "outputs": [],
   "source": [
    "import numpy as np\n",
    "import pandas as pd\n",
    "import seaborn as sns\n",
    "import matplotlib.pyplot as plt\n",
    "\n",
    "%matplotlib inline"
   ]
  },
  {
   "cell_type": "code",
   "execution_count": null,
   "metadata": {},
   "outputs": [],
   "source": []
  },
  {
   "cell_type": "markdown",
   "metadata": {},
   "source": [
    "# 2. Carregando o dataframe SINASC <a name=\"read\"></a>\n",
    "<div style=\"text-align: right\"\n",
    "     \n",
    "[Voltar ao índice](#Contents)"
   ]
  },
  {
   "cell_type": "code",
   "execution_count": 5,
   "metadata": {
    "ExecuteTime": {
     "end_time": "2021-06-06T21:12:37.762376Z",
     "start_time": "2021-06-06T21:12:37.728383Z"
    },
    "scrolled": true
   },
   "outputs": [
    {
     "data": {
      "text/plain": [
       "Index(['ORIGEM', 'CODESTAB', 'CODMUNNASC', 'LOCNASC', 'IDADEMAE', 'ESTCIVMAE',\n",
       "       'ESCMAE', 'CODOCUPMAE', 'QTDFILVIVO', 'QTDFILMORT', 'CODMUNRES',\n",
       "       'GESTACAO', 'GRAVIDEZ', 'PARTO', 'CONSULTAS', 'DTNASC', 'HORANASC',\n",
       "       'SEXO', 'APGAR1', 'APGAR5', 'RACACOR', 'PESO', 'IDANOMAL', 'DTCADASTRO',\n",
       "       'CODANOMAL', 'NUMEROLOTE', 'VERSAOSIST', 'DTRECEBIM', 'DIFDATA',\n",
       "       'DTRECORIGA', 'NATURALMAE', 'CODMUNNATU', 'CODUFNATU', 'ESCMAE2010',\n",
       "       'SERIESCMAE', 'DTNASCMAE', 'RACACORMAE', 'QTDGESTANT', 'QTDPARTNOR',\n",
       "       'QTDPARTCES', 'IDADEPAI', 'DTULTMENST', 'SEMAGESTAC', 'TPMETESTIM',\n",
       "       'CONSPRENAT', 'MESPRENAT', 'TPAPRESENT', 'STTRABPART', 'STCESPARTO',\n",
       "       'TPNASCASSI', 'TPFUNCRESP', 'TPDOCRESP', 'DTDECLARAC', 'ESCMAEAGR1',\n",
       "       'STDNEPIDEM', 'STDNNOVA', 'CODPAISRES', 'TPROBSON', 'PARIDADE',\n",
       "       'KOTELCHUCK', 'CONTADOR', 'munResStatus', 'munResTipo', 'munResNome',\n",
       "       'munResUf', 'munResLat', 'munResLon', 'munResAlt', 'munResArea'],\n",
       "      dtype='object')"
      ]
     },
     "execution_count": 5,
     "metadata": {},
     "output_type": "execute_result"
    }
   ],
   "source": [
    "sinasc_raw = pd.read_csv('SINASC_RO_2019.csv')\n",
    "sinasc_raw.head()\n",
    "\n",
    "#sinasc_raw.columns"
   ]
  },
  {
   "cell_type": "code",
   "execution_count": null,
   "metadata": {},
   "outputs": [],
   "source": []
  },
  {
   "cell_type": "code",
   "execution_count": null,
   "metadata": {},
   "outputs": [],
   "source": []
  },
  {
   "cell_type": "markdown",
   "metadata": {},
   "source": [
    "# Tarefa 1"
   ]
  },
  {
   "cell_type": "markdown",
   "metadata": {},
   "source": [
    "### 1. Idade media das mães e dos pais por município (coluna munResNome)\n"
   ]
  },
  {
   "cell_type": "code",
   "execution_count": 18,
   "metadata": {},
   "outputs": [
    {
     "name": "stdout",
     "output_type": "stream",
     "text": [
      "                           IDADEMAE  IDADEPAI\n",
      "Município(munResNome)                        \n",
      "Alta Floresta D'Oeste            26        30\n",
      "Alto Alegre dos Parecis          25        29\n",
      "Alto Paraíso                     25        29\n",
      "Alvorada D'Oeste                 26        31\n",
      "Ariquemes                        26        32\n",
      "Buritis                          26        31\n",
      "Cabixi                           26        34\n",
      "Cacaulândia                      26        36\n",
      "Cacoal                           27        31\n",
      "Campo Novo de Rondônia           25        30\n",
      "Candeias do Jamari               25        30\n",
      "Castanheiras                     27        30\n",
      "Cerejeiras                       27        32\n",
      "Chupinguaia                      25        30\n",
      "Colorado do Oeste                28        34\n",
      "Corumbiara                       25        32\n",
      "Costa Marques                    24        31\n",
      "Cujubim                          24        31\n",
      "Espigão D'Oeste                  26        31\n",
      "Governador Jorge Teixeira        24        29\n",
      "Guajará-Mirim                    25        30\n",
      "Itapuã do Oeste                  26        42\n",
      "Jaru                             26        32\n",
      "Ji-Paraná                        26        31\n",
      "Machadinho D'Oeste               25        31\n",
      "Ministro Andreazza               28        34\n",
      "Mirante da Serra                 26        32\n",
      "Monte Negro                      26        35\n",
      "Município ignorado - RO          24        22\n",
      "Nova Brasilândia D'Oeste         26        31\n",
      "Nova Mamoré                      25        32\n",
      "Nova União                       27        31\n",
      "Novo Horizonte do Oeste          27        32\n",
      "Ouro Preto do Oeste              26        31\n",
      "Parecis                          26        32\n",
      "Pimenta Bueno                    25        30\n",
      "Pimenteiras do Oeste             25        36\n",
      "Porto Velho                      26        32\n",
      "Presidente Médici                26        30\n",
      "Primavera de Rondônia            27        32\n",
      "Rio Crespo                       27        28\n",
      "Rolim de Moura                   27        30\n",
      "Santa Luzia D'Oeste              26        31\n",
      "Seringueiras                     25        30\n",
      "São Felipe D'Oeste               26        31\n",
      "São Francisco do Guaporé         26        32\n",
      "São Miguel do Guaporé            26        33\n",
      "Teixeirópolis                    26        32\n",
      "Theobroma                        26        30\n",
      "Urupá                            27        31\n",
      "Vale do Anari                    26        34\n",
      "Vale do Paraíso                  26        30\n",
      "Vilhena                          26        34\n"
     ]
    }
   ],
   "source": [
    "# Filtrando as colunas relevantes para o cálculo da média da idade da mãe/pai\n",
    "colunas_relevantes = ['munResNome', 'IDADEMAE', 'IDADEPAI']\n",
    "\n",
    "# Filtrando os dados\n",
    "dados_filtrados = sinasc_raw[colunas_relevantes]\n",
    "\n",
    "# Fazendo uma cópia do DataFrame filtrado\n",
    "dados_filtrados_copia = dados_filtrados.copy()\n",
    "\n",
    "# Renomeando a coluna 'munResNome'\n",
    "dados_filtrados_copia.rename(columns={'munResNome': 'Município(munResNome)'}, inplace=True)\n",
    "\n",
    "# Calculando a média da idade das mães/pais por município usando operações de agregação e grupos\n",
    "media_idade_mae_pai = dados_filtrados_copia.groupby('Município(munResNome)').agg({'IDADEMAE': np.mean, 'IDADEPAI': np.mean})\n",
    "\n",
    "# Arredondando as idades para números inteiros\n",
    "media_idade_mae_pai = media_idade_mae_pai.round(0).astype(int)\n",
    "\n",
    "# PRINT\n",
    "print(media_idade_mae_pai)\n",
    "\n",
    "# Visualizar apenas as médias de idade das mães\n",
    "#media_idade_mae = dados_filtrados.groupby('munResNome')['IDADEMAE'].mean()\n",
    "#print(media_idade_mae)\n",
    "\n",
    "# Visualizar apenas as médias de idade dos pais\n",
    "#media_idade_pai = dados_filtrados.groupby('munResNome')['IDADEPAI'].mean()\n",
    "#print(media_idade_pai)\n"
   ]
  },
  {
   "cell_type": "markdown",
   "metadata": {},
   "source": [
    "### 2. Peso médio dos bebes por sexo que nasceram no dia do seu aniversário por faixas de escolaridade mae\n",
    "Ex: Você, aluna(o), nasceu no dia 10/01, então você precisa filtrar o conjunto de dados nessa data e calcular o peso médio dos bebês de cada sexo por faixa de escolaridade da mãe."
   ]
  },
  {
   "cell_type": "code",
   "execution_count": 49,
   "metadata": {},
   "outputs": [
    {
     "name": "stdout",
     "output_type": "stream",
     "text": [
      "SEXO       ESCMAE         \n",
      "Feminino   1 a 3 anos         2995.000000\n",
      "           12 anos ou mais    3342.142857\n",
      "           4 a 7 anos         3094.285714\n",
      "           8 a 11 anos        3004.375000\n",
      "Masculino  4 a 7 anos         3105.000000\n",
      "           8 a 11 anos        3313.500000\n",
      "Name: PESO, dtype: float64\n"
     ]
    }
   ],
   "source": [
    "# Definindo a data de aniversário \n",
    "data_aniversario = '2019-02-24'\n",
    "\n",
    "# Filtrando os dados para a data de aniversário\n",
    "dados_aniversario = sinasc_raw[sinasc_raw['DTNASC'] == data_aniversario].dropna(subset=['SEXO','ESCMAE','PESO'])\n",
    "\n",
    "# Agrupando os dados por sexo e faixa de escolaridade da mãe, e calculando o peso médio\n",
    "peso_medio_por_sexo_escolaridade = dados_aniversario.groupby(['SEXO', 'ESCMAE'])['PESO'].mean()\n",
    "\n",
    "# PRINT\n",
    "print(peso_medio_por_sexo_escolaridade)\n"
   ]
  },
  {
   "cell_type": "markdown",
   "metadata": {},
   "source": [
    "### 3. Qual o municipio que nasceu menos bebe em 2019?\n",
    "    - qual a idade media, maxima, minima das maes nesse municipio?\n",
    "    - qual a idade media, maxima, minima dos pais nesse municipio?"
   ]
  },
  {
   "cell_type": "code",
   "execution_count": 60,
   "metadata": {},
   "outputs": [
    {
     "name": "stdout",
     "output_type": "stream",
     "text": [
      "Município com menos bebês nascidos em 2019: Pimenteiras do Oeste\n",
      "\n",
      "Idade média das mães no segundo município com menos bebês: 25\n",
      "Idade máxima das mães no segundo município com menos bebês: 40\n",
      "Idade mínima das mães no segundo município com menos bebês: 14\n",
      "\n",
      "Idade média dos pais no segundo município com menos bebês: 35\n",
      "Idade máxima dos pais no segundo município com menos bebês: 45\n",
      "Idade mínima dos pais no segundo município com menos bebês: 25\n"
     ]
    }
   ],
   "source": [
    "# Encontrando município com menor número de bebes nascidos\n",
    "municipio_menos_bebes = sinasc_raw['munResNome'].value_counts().idxmin()\n",
    "\n",
    "# Excluindo o município com o menor número de bebês, pois ele foi considerado um município ignorado nos dados.\n",
    "sinasc_raw = sinasc_raw[sinasc_raw['munResNome'] != municipio_menos_bebes]\n",
    "municipio_segundo_menos_bebes = sinasc_raw['munResNome'].value_counts().idxmin()\n",
    "\n",
    "# Filtrando os dados para o segundo município com o menor número de bebês\n",
    "dados_municipio_segundo_menos_bebes = sinasc_raw[sinasc_raw['munResNome'] == municipio_segundo_menos_bebes]\n",
    "\n",
    "# Calculando a idade média, máxima e mínima das mães no segundo município\n",
    "idade_media_maes_segundo = dados_municipio_segundo_menos_bebes['IDADEMAE'].mean()\n",
    "idade_media_maes_segundo = int(idade_media_maes_segundo)  \n",
    "idade_maxima_maes_segundo = int(dados_municipio_segundo_menos_bebes['IDADEMAE'].max())  \n",
    "idade_minima_maes_segundo = int(dados_municipio_segundo_menos_bebes['IDADEMAE'].min())  \n",
    "\n",
    "# Calculando a idade média, máxima e mínima dos pais no segundo município\n",
    "idade_media_pais_segundo = dados_municipio_segundo_menos_bebes['IDADEPAI'].mean()\n",
    "idade_media_pais_segundo = int(idade_media_pais_segundo) \n",
    "idade_maxima_pais_segundo = int(dados_municipio_segundo_menos_bebes['IDADEPAI'].max())  \n",
    "idade_minima_pais_segundo = int(dados_municipio_segundo_menos_bebes['IDADEPAI'].min())  \n",
    "\n",
    "# PRINT\n",
    "print(\"Município com menos bebês nascidos em 2019:\", municipio_segundo_menos_bebes)\n",
    "print()\n",
    "print(\"Idade média das mães no segundo município com menos bebês:\", idade_media_maes_segundo)\n",
    "print(\"Idade máxima das mães no segundo município com menos bebês:\", idade_maxima_maes_segundo)\n",
    "print(\"Idade mínima das mães no segundo município com menos bebês:\", idade_minima_maes_segundo)\n",
    "print()\n",
    "print(\"Idade média dos pais no segundo município com menos bebês:\", idade_media_pais_segundo)\n",
    "print(\"Idade máxima dos pais no segundo município com menos bebês:\", idade_maxima_pais_segundo)\n",
    "print(\"Idade mínima dos pais no segundo município com menos bebês:\", idade_minima_pais_segundo)\n"
   ]
  },
  {
   "cell_type": "markdown",
   "metadata": {},
   "source": [
    "### 4. Qual o municipio que nasceu mais bebe no mês de março?\n",
    "    - qual a quantidade de filhos vivos media, maxima, minima nesse municipio?\n",
    "    - qual a idade media, maxima, minima dos pais nesse municipio?\n",
    "\n"
   ]
  },
  {
   "cell_type": "code",
   "execution_count": 64,
   "metadata": {},
   "outputs": [
    {
     "name": "stdout",
     "output_type": "stream",
     "text": [
      "Município com mais bebês nascidos em março: Porto Velho\n",
      "\n",
      "Quantidade de filhos vivos média no município em março: 1\n",
      "Quantidade de filhos vivos máxima no município em março: 9\n",
      "Quantidade de filhos vivos mínima no município em março: 0\n",
      "\n",
      "Idade média dos pais no município em março: 34\n",
      "Idade máxima dos pais no município em março: 62\n",
      "Idade mínima dos pais no município em março: 19\n"
     ]
    }
   ],
   "source": [
    "# Filtrando os dados para o mês de MARÇO\n",
    "dados_marco = sinasc_raw[sinasc_raw['DTNASC'].str.startswith('2019-03')]\n",
    "\n",
    "# Encontrando o município que teve o maior número de bebês nascidos em MARÇO\n",
    "municipio_mais_bebes_marco = dados_marco['munResNome'].value_counts().idxmax()\n",
    "\n",
    "# Filtrando os dados para o município com o maior número de bebês nascidos em MARÇO\n",
    "dados_municipio_mais_bebes_marco = dados_marco[dados_marco['munResNome'] == municipio_mais_bebes_marco]\n",
    "\n",
    "# Calculando a quantidade de filhos vivos média, máxima e mínima no município de MARÇO\n",
    "qtd_filhos_vivos_media_marco = int(dados_municipio_mais_bebes_marco['QTDFILVIVO'].mean())\n",
    "qtd_filhos_vivos_maxima_marco = int(dados_municipio_mais_bebes_marco['QTDFILVIVO'].max())\n",
    "qtd_filhos_vivos_minima_marco = int(dados_municipio_mais_bebes_marco['QTDFILVIVO'].min())\n",
    "\n",
    "# Calculando a idade média, máxima e mínima dos pais no município de MARÇO\n",
    "idade_media_pais_marco = int(dados_municipio_mais_bebes_marco['IDADEPAI'].mean())\n",
    "idade_maxima_pais_marco = int(dados_municipio_mais_bebes_marco['IDADEPAI'].max())\n",
    "idade_minima_pais_marco = int(dados_municipio_mais_bebes_marco['IDADEPAI'].min())\n",
    "\n",
    "# PRINT\n",
    "print(\"Município com mais bebês nascidos em março:\", municipio_mais_bebes_marco)\n",
    "print()\n",
    "print(\"Quantidade de filhos vivos média no município em março:\", qtd_filhos_vivos_media_marco)\n",
    "print(\"Quantidade de filhos vivos máxima no município em março:\", qtd_filhos_vivos_maxima_marco)\n",
    "print(\"Quantidade de filhos vivos mínima no município em março:\", qtd_filhos_vivos_minima_marco)\n",
    "print()\n",
    "print(\"Idade média dos pais no município em março:\", idade_media_pais_marco)\n",
    "print(\"Idade máxima dos pais no município em março:\", idade_maxima_pais_marco)\n",
    "print(\"Idade mínima dos pais no município em março:\", idade_minima_pais_marco)\n"
   ]
  },
  {
   "cell_type": "markdown",
   "metadata": {},
   "source": [
    "### Analise as respostas encontradas, tire algum insight delas, conte pra gente algo encontrado nos dados. Algo que você julgue relevante e novo pra você."
   ]
  },
  {
   "cell_type": "markdown",
   "metadata": {},
   "source": [
    "**RESPOSTA:**\n",
    "* É possível observar que a média de idade das mães varia entre 24 e 28 anos, enquanto a média de idade dos pais varia entre 29 e 42 anos. Podemos inferir que há uma tendência geral de maternidade em idades mais jovens para as mães e em idades mais avançadas para os pais.\n",
    "\n",
    "* O município com menos bebês nascidos em 2019 foi \"Pimenteiras do Oeste\". Além disso, observamos que a idade média das mães nesse município é relativamente jovem, com uma média de 25 anos, e a idade média dos pais é de 35 anos, podendo indicar uma população mais jovem nesse município.\n",
    "\n"
   ]
  },
  {
   "cell_type": "markdown",
   "metadata": {},
   "source": []
  },
  {
   "cell_type": "code",
   "execution_count": 6,
   "metadata": {},
   "outputs": [
    {
     "data": {
      "text/plain": [
       "ORIGEM          int64\n",
       "CODESTAB      float64\n",
       "CODMUNNASC      int64\n",
       "LOCNASC         int64\n",
       "IDADEMAE        int64\n",
       "               ...   \n",
       "munResUf       object\n",
       "munResLat     float64\n",
       "munResLon     float64\n",
       "munResAlt     float64\n",
       "munResArea    float64\n",
       "Length: 69, dtype: object"
      ]
     },
     "execution_count": 6,
     "metadata": {},
     "output_type": "execute_result"
    }
   ],
   "source": [
    "sinasc_raw.dtypes"
   ]
  },
  {
   "cell_type": "code",
   "execution_count": 7,
   "metadata": {},
   "outputs": [
    {
     "data": {
      "text/html": [
       "<div>\n",
       "<style scoped>\n",
       "    .dataframe tbody tr th:only-of-type {\n",
       "        vertical-align: middle;\n",
       "    }\n",
       "\n",
       "    .dataframe tbody tr th {\n",
       "        vertical-align: top;\n",
       "    }\n",
       "\n",
       "    .dataframe thead th {\n",
       "        text-align: right;\n",
       "    }\n",
       "</style>\n",
       "<table border=\"1\" class=\"dataframe\">\n",
       "  <thead>\n",
       "    <tr style=\"text-align: right;\">\n",
       "      <th></th>\n",
       "      <th>ESCMAE</th>\n",
       "      <th>GESTACAO</th>\n",
       "      <th>GRAVIDEZ</th>\n",
       "      <th>PARTO</th>\n",
       "      <th>DTNASC</th>\n",
       "      <th>SEXO</th>\n",
       "      <th>RACACOR</th>\n",
       "      <th>DTCADASTRO</th>\n",
       "      <th>CODANOMAL</th>\n",
       "      <th>VERSAOSIST</th>\n",
       "      <th>DTRECEBIM</th>\n",
       "      <th>munResStatus</th>\n",
       "      <th>munResTipo</th>\n",
       "      <th>munResNome</th>\n",
       "      <th>munResUf</th>\n",
       "    </tr>\n",
       "  </thead>\n",
       "  <tbody>\n",
       "    <tr>\n",
       "      <th>0</th>\n",
       "      <td>8 a 11 anos</td>\n",
       "      <td>37 a 41 semanas</td>\n",
       "      <td>Única</td>\n",
       "      <td>Cesáreo</td>\n",
       "      <td>2019-02-19</td>\n",
       "      <td>Masculino</td>\n",
       "      <td>Branca</td>\n",
       "      <td>2019-03-08</td>\n",
       "      <td>NaN</td>\n",
       "      <td>3.2.01</td>\n",
       "      <td>2019-03-08</td>\n",
       "      <td>ATIVO</td>\n",
       "      <td>MUNIC</td>\n",
       "      <td>Alta Floresta D'Oeste</td>\n",
       "      <td>Rondônia</td>\n",
       "    </tr>\n",
       "    <tr>\n",
       "      <th>1</th>\n",
       "      <td>8 a 11 anos</td>\n",
       "      <td>37 a 41 semanas</td>\n",
       "      <td>Única</td>\n",
       "      <td>Cesáreo</td>\n",
       "      <td>2019-02-21</td>\n",
       "      <td>Feminino</td>\n",
       "      <td>Branca</td>\n",
       "      <td>2019-03-08</td>\n",
       "      <td>NaN</td>\n",
       "      <td>3.2.01</td>\n",
       "      <td>2019-03-08</td>\n",
       "      <td>ATIVO</td>\n",
       "      <td>MUNIC</td>\n",
       "      <td>Alta Floresta D'Oeste</td>\n",
       "      <td>Rondônia</td>\n",
       "    </tr>\n",
       "    <tr>\n",
       "      <th>2</th>\n",
       "      <td>8 a 11 anos</td>\n",
       "      <td>37 a 41 semanas</td>\n",
       "      <td>Única</td>\n",
       "      <td>Cesáreo</td>\n",
       "      <td>2019-02-25</td>\n",
       "      <td>Feminino</td>\n",
       "      <td>Branca</td>\n",
       "      <td>2019-03-08</td>\n",
       "      <td>NaN</td>\n",
       "      <td>3.2.01</td>\n",
       "      <td>2019-03-08</td>\n",
       "      <td>ATIVO</td>\n",
       "      <td>MUNIC</td>\n",
       "      <td>Alta Floresta D'Oeste</td>\n",
       "      <td>Rondônia</td>\n",
       "    </tr>\n",
       "    <tr>\n",
       "      <th>3</th>\n",
       "      <td>12 anos ou mais</td>\n",
       "      <td>37 a 41 semanas</td>\n",
       "      <td>Única</td>\n",
       "      <td>Cesáreo</td>\n",
       "      <td>2019-03-20</td>\n",
       "      <td>Feminino</td>\n",
       "      <td>Parda</td>\n",
       "      <td>2019-04-03</td>\n",
       "      <td>NaN</td>\n",
       "      <td>3.2.01</td>\n",
       "      <td>2019-04-09</td>\n",
       "      <td>ATIVO</td>\n",
       "      <td>MUNIC</td>\n",
       "      <td>Alto Alegre dos Parecis</td>\n",
       "      <td>Rondônia</td>\n",
       "    </tr>\n",
       "    <tr>\n",
       "      <th>4</th>\n",
       "      <td>8 a 11 anos</td>\n",
       "      <td>37 a 41 semanas</td>\n",
       "      <td>Única</td>\n",
       "      <td>Cesáreo</td>\n",
       "      <td>2019-03-23</td>\n",
       "      <td>Feminino</td>\n",
       "      <td>Parda</td>\n",
       "      <td>2019-04-03</td>\n",
       "      <td>NaN</td>\n",
       "      <td>3.2.01</td>\n",
       "      <td>2019-04-09</td>\n",
       "      <td>ATIVO</td>\n",
       "      <td>MUNIC</td>\n",
       "      <td>Alta Floresta D'Oeste</td>\n",
       "      <td>Rondônia</td>\n",
       "    </tr>\n",
       "    <tr>\n",
       "      <th>...</th>\n",
       "      <td>...</td>\n",
       "      <td>...</td>\n",
       "      <td>...</td>\n",
       "      <td>...</td>\n",
       "      <td>...</td>\n",
       "      <td>...</td>\n",
       "      <td>...</td>\n",
       "      <td>...</td>\n",
       "      <td>...</td>\n",
       "      <td>...</td>\n",
       "      <td>...</td>\n",
       "      <td>...</td>\n",
       "      <td>...</td>\n",
       "      <td>...</td>\n",
       "      <td>...</td>\n",
       "    </tr>\n",
       "    <tr>\n",
       "      <th>27023</th>\n",
       "      <td>12 anos ou mais</td>\n",
       "      <td>32 a 36 semanas</td>\n",
       "      <td>Única</td>\n",
       "      <td>Cesáreo</td>\n",
       "      <td>2019-12-13</td>\n",
       "      <td>Masculino</td>\n",
       "      <td>Branca</td>\n",
       "      <td>2020-09-28</td>\n",
       "      <td>NaN</td>\n",
       "      <td>3.2.01</td>\n",
       "      <td>2020-10-13</td>\n",
       "      <td>ATIVO</td>\n",
       "      <td>MUNIC</td>\n",
       "      <td>Vilhena</td>\n",
       "      <td>Rondônia</td>\n",
       "    </tr>\n",
       "    <tr>\n",
       "      <th>27024</th>\n",
       "      <td>8 a 11 anos</td>\n",
       "      <td>37 a 41 semanas</td>\n",
       "      <td>Única</td>\n",
       "      <td>Vaginal</td>\n",
       "      <td>2019-10-04</td>\n",
       "      <td>Masculino</td>\n",
       "      <td>Branca</td>\n",
       "      <td>2019-10-16</td>\n",
       "      <td>NaN</td>\n",
       "      <td>3.2.01</td>\n",
       "      <td>2019-10-21</td>\n",
       "      <td>ATIVO</td>\n",
       "      <td>MUNIC</td>\n",
       "      <td>Chupinguaia</td>\n",
       "      <td>Rondônia</td>\n",
       "    </tr>\n",
       "    <tr>\n",
       "      <th>27025</th>\n",
       "      <td>8 a 11 anos</td>\n",
       "      <td>37 a 41 semanas</td>\n",
       "      <td>Única</td>\n",
       "      <td>Cesáreo</td>\n",
       "      <td>2019-08-02</td>\n",
       "      <td>Masculino</td>\n",
       "      <td>Parda</td>\n",
       "      <td>2019-08-07</td>\n",
       "      <td>NaN</td>\n",
       "      <td>3.2.00</td>\n",
       "      <td>2019-08-07</td>\n",
       "      <td>ATIVO</td>\n",
       "      <td>MUNIC</td>\n",
       "      <td>Vilhena</td>\n",
       "      <td>Rondônia</td>\n",
       "    </tr>\n",
       "    <tr>\n",
       "      <th>27026</th>\n",
       "      <td>8 a 11 anos</td>\n",
       "      <td>32 a 36 semanas</td>\n",
       "      <td>Única</td>\n",
       "      <td>Vaginal</td>\n",
       "      <td>2019-12-23</td>\n",
       "      <td>Masculino</td>\n",
       "      <td>Parda</td>\n",
       "      <td>2020-01-07</td>\n",
       "      <td>NaN</td>\n",
       "      <td>3.2.00</td>\n",
       "      <td>2020-01-07</td>\n",
       "      <td>ATIVO</td>\n",
       "      <td>MUNIC</td>\n",
       "      <td>Vilhena</td>\n",
       "      <td>Rondônia</td>\n",
       "    </tr>\n",
       "    <tr>\n",
       "      <th>27027</th>\n",
       "      <td>8 a 11 anos</td>\n",
       "      <td>37 a 41 semanas</td>\n",
       "      <td>Única</td>\n",
       "      <td>Cesáreo</td>\n",
       "      <td>2019-12-27</td>\n",
       "      <td>Masculino</td>\n",
       "      <td>Parda</td>\n",
       "      <td>2020-10-15</td>\n",
       "      <td>NaN</td>\n",
       "      <td>3.2.01</td>\n",
       "      <td>2020-10-16</td>\n",
       "      <td>ATIVO</td>\n",
       "      <td>MUNIC</td>\n",
       "      <td>Novo Horizonte do Oeste</td>\n",
       "      <td>Rondônia</td>\n",
       "    </tr>\n",
       "  </tbody>\n",
       "</table>\n",
       "<p>27028 rows × 15 columns</p>\n",
       "</div>"
      ],
      "text/plain": [
       "                ESCMAE         GESTACAO GRAVIDEZ    PARTO      DTNASC  \\\n",
       "0          8 a 11 anos  37 a 41 semanas    Única  Cesáreo  2019-02-19   \n",
       "1          8 a 11 anos  37 a 41 semanas    Única  Cesáreo  2019-02-21   \n",
       "2          8 a 11 anos  37 a 41 semanas    Única  Cesáreo  2019-02-25   \n",
       "3      12 anos ou mais  37 a 41 semanas    Única  Cesáreo  2019-03-20   \n",
       "4          8 a 11 anos  37 a 41 semanas    Única  Cesáreo  2019-03-23   \n",
       "...                ...              ...      ...      ...         ...   \n",
       "27023  12 anos ou mais  32 a 36 semanas    Única  Cesáreo  2019-12-13   \n",
       "27024      8 a 11 anos  37 a 41 semanas    Única  Vaginal  2019-10-04   \n",
       "27025      8 a 11 anos  37 a 41 semanas    Única  Cesáreo  2019-08-02   \n",
       "27026      8 a 11 anos  32 a 36 semanas    Única  Vaginal  2019-12-23   \n",
       "27027      8 a 11 anos  37 a 41 semanas    Única  Cesáreo  2019-12-27   \n",
       "\n",
       "            SEXO RACACOR  DTCADASTRO CODANOMAL VERSAOSIST   DTRECEBIM  \\\n",
       "0      Masculino  Branca  2019-03-08       NaN     3.2.01  2019-03-08   \n",
       "1       Feminino  Branca  2019-03-08       NaN     3.2.01  2019-03-08   \n",
       "2       Feminino  Branca  2019-03-08       NaN     3.2.01  2019-03-08   \n",
       "3       Feminino   Parda  2019-04-03       NaN     3.2.01  2019-04-09   \n",
       "4       Feminino   Parda  2019-04-03       NaN     3.2.01  2019-04-09   \n",
       "...          ...     ...         ...       ...        ...         ...   \n",
       "27023  Masculino  Branca  2020-09-28       NaN     3.2.01  2020-10-13   \n",
       "27024  Masculino  Branca  2019-10-16       NaN     3.2.01  2019-10-21   \n",
       "27025  Masculino   Parda  2019-08-07       NaN     3.2.00  2019-08-07   \n",
       "27026  Masculino   Parda  2020-01-07       NaN     3.2.00  2020-01-07   \n",
       "27027  Masculino   Parda  2020-10-15       NaN     3.2.01  2020-10-16   \n",
       "\n",
       "      munResStatus munResTipo               munResNome  munResUf  \n",
       "0            ATIVO      MUNIC    Alta Floresta D'Oeste  Rondônia  \n",
       "1            ATIVO      MUNIC    Alta Floresta D'Oeste  Rondônia  \n",
       "2            ATIVO      MUNIC    Alta Floresta D'Oeste  Rondônia  \n",
       "3            ATIVO      MUNIC  Alto Alegre dos Parecis  Rondônia  \n",
       "4            ATIVO      MUNIC    Alta Floresta D'Oeste  Rondônia  \n",
       "...            ...        ...                      ...       ...  \n",
       "27023        ATIVO      MUNIC                  Vilhena  Rondônia  \n",
       "27024        ATIVO      MUNIC              Chupinguaia  Rondônia  \n",
       "27025        ATIVO      MUNIC                  Vilhena  Rondônia  \n",
       "27026        ATIVO      MUNIC                  Vilhena  Rondônia  \n",
       "27027        ATIVO      MUNIC  Novo Horizonte do Oeste  Rondônia  \n",
       "\n",
       "[27028 rows x 15 columns]"
      ]
     },
     "execution_count": 7,
     "metadata": {},
     "output_type": "execute_result"
    }
   ],
   "source": [
    "sinasc_raw.select_dtypes(exclude=['int64','float64'])"
   ]
  },
  {
   "cell_type": "code",
   "execution_count": 4,
   "metadata": {},
   "outputs": [
    {
     "data": {
      "text/plain": [
       "Index(['ORIGEM', 'CODESTAB', 'CODMUNNASC', 'LOCNASC', 'IDADEMAE', 'ESTCIVMAE',\n",
       "       'ESCMAE', 'CODOCUPMAE', 'QTDFILVIVO', 'QTDFILMORT', 'CODMUNRES',\n",
       "       'GESTACAO', 'GRAVIDEZ', 'PARTO', 'CONSULTAS', 'DTNASC', 'HORANASC',\n",
       "       'SEXO', 'APGAR1', 'APGAR5', 'RACACOR', 'PESO', 'IDANOMAL', 'DTCADASTRO',\n",
       "       'CODANOMAL', 'NUMEROLOTE', 'VERSAOSIST', 'DTRECEBIM', 'DIFDATA',\n",
       "       'DTRECORIGA', 'NATURALMAE', 'CODMUNNATU', 'CODUFNATU', 'ESCMAE2010',\n",
       "       'SERIESCMAE', 'DTNASCMAE', 'RACACORMAE', 'QTDGESTANT', 'QTDPARTNOR',\n",
       "       'QTDPARTCES', 'IDADEPAI', 'DTULTMENST', 'SEMAGESTAC', 'TPMETESTIM',\n",
       "       'CONSPRENAT', 'MESPRENAT', 'TPAPRESENT', 'STTRABPART', 'STCESPARTO',\n",
       "       'TPNASCASSI', 'TPFUNCRESP', 'TPDOCRESP', 'DTDECLARAC', 'ESCMAEAGR1',\n",
       "       'STDNEPIDEM', 'STDNNOVA', 'CODPAISRES', 'TPROBSON', 'PARIDADE',\n",
       "       'KOTELCHUCK', 'CONTADOR', 'munResStatus', 'munResTipo', 'munResNome',\n",
       "       'munResUf', 'munResLat', 'munResLon', 'munResAlt', 'munResArea'],\n",
       "      dtype='object')"
      ]
     },
     "execution_count": 4,
     "metadata": {},
     "output_type": "execute_result"
    }
   ],
   "source": [
    "sinasc_raw.columns"
   ]
  }
 ],
 "metadata": {
  "kernelspec": {
   "display_name": "Python 3 (ipykernel)",
   "language": "python",
   "name": "python3"
  },
  "language_info": {
   "codemirror_mode": {
    "name": "ipython",
    "version": 3
   },
   "file_extension": ".py",
   "mimetype": "text/x-python",
   "name": "python",
   "nbconvert_exporter": "python",
   "pygments_lexer": "ipython3",
   "version": "3.10.9"
  },
  "varInspector": {
   "cols": {
    "lenName": 16,
    "lenType": 16,
    "lenVar": 40
   },
   "kernels_config": {
    "python": {
     "delete_cmd_postfix": "",
     "delete_cmd_prefix": "del ",
     "library": "var_list.py",
     "varRefreshCmd": "print(var_dic_list())"
    },
    "r": {
     "delete_cmd_postfix": ") ",
     "delete_cmd_prefix": "rm(",
     "library": "var_list.r",
     "varRefreshCmd": "cat(var_dic_list()) "
    }
   },
   "types_to_exclude": [
    "module",
    "function",
    "builtin_function_or_method",
    "instance",
    "_Feature"
   ],
   "window_display": false
  }
 },
 "nbformat": 4,
 "nbformat_minor": 4
}
