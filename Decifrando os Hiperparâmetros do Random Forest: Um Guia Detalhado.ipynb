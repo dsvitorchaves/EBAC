{
 "cells": [
  {
   "cell_type": "markdown",
   "id": "73abf5b7",
   "metadata": {},
   "source": [
    "# TAREFA 3"
   ]
  },
  {
   "cell_type": "markdown",
   "id": "10018ce5",
   "metadata": {},
   "source": [
    "<font size=\"3\">**1. Quais são os hyperparâmetros do RF.**</font>\n",
    "\n",
    "<font size=\"3\">**2. Para que servem cada um deles.**</font>"
   ]
  },
  {
   "cell_type": "markdown",
   "id": "e0e84363",
   "metadata": {},
   "source": [
    "<font size=\"4\"><u>HYPERPARÂMETROS <b>MAIS</b> UTILIZADOS</u></font>\n",
    "\n",
    "* 1 - **n_estimators**\n",
    "\n",
    "<font size=\"2\"> ou *Número de Estimadores*, definem quantas árvores de decisão serão construídas, sendo que mais árvores geralmente resultam em um modelo mais robusto. </font>\n",
    "\n",
    "* 2 - **max_features**\n",
    "\n",
    "<font size=\"2\"> ou *Número Máximo de Características*, especifica o número máximo de características a serem consideradas para cada divisão em uma árvore, controlando sua aleatoriedade e diversidade. </font>\n",
    "\n",
    "* 3 - **max_depth**\n",
    "\n",
    "<font size=\"2\"> ou *Profundidade Máxima da Árvore*, Define a profundidade máxima que uma árvore pode atingir, limitando sua complexidade a fim de evitar overfitting, que é quando um modelo de machine learning se ajusta tão bem aos dados de treinamento que falha em generalizar para novos dados, resultando em um desempenho ruim. </font>\n",
    "\n",
    "* 4 - **min_samples_split**\n",
    "\n",
    "<font size=\"2\"> ou *Número Mínimo de Amostras para Dividir um Nó*, Define o número mínimo de amostras necessárias em um nó para considerar a divisão, ajudando a evitar divisões em nós muito pequenos. </font>\n",
    "\n",
    "* 5 - **min_samples_leaf**\n",
    "\n",
    "<font size=\"2\"> ou *Número Mínimo de Amostras em Folhas*, Define o número mínimo de amostras que uma folha, nó final, deve ter, ajudando a evitar folhas com poucas amostras. </font>\n",
    "\n",
    "* 6 - **bootstrap**\n",
    "\n",
    "<font size=\"2\"> ou *Amostragem Bootstrap*, Controla se o conjunto de dados de treinamento para cada árvore é amostrado com substituição, geralmente mantido como verdadeiro para aplicar o conceito de Bagging, que é o método de combinar previsões de múltiplos modelos para melhor sua precisão. </font>\n",
    "\n",
    "* 7 - **random_state**\n",
    "\n",
    "<font size=\"2\"> ou *Semente Aleatória*, Define uma semenete para reproduzir resultados consistentes, podendo ser útil para comparar modelos. </font>\n",
    "\n",
    "* 8 - **n_jobs**\n",
    "\n",
    "<font size=\"2\"> ou *Número de Núcleos de Processamento*, Especifica quantos núcleos do processador usar para treinar as árvores em paralelo, podendo acelerar o processo de treinamento em máquinas com vários núcleos. </font>\n",
    "\n",
    "* 9 - **class_weight**\n",
    "\n",
    "<font size=\"2\"> ou *Pesos das Classes*, Usado para tratar desequilíbrios de classes, dando mais peso às classes menos frequentes. </font>"
   ]
  },
  {
   "cell_type": "markdown",
   "id": "56349c9d",
   "metadata": {},
   "source": [
    "<font size=\"4\"><u>HYPERPARÂMETROS <b>MENOS</b> UTILIZADOS</u></font>\n",
    "\n",
    "* 1 - **criterion**\n",
    "\n",
    "<font size=\"2\"> ou *Critério de Divisão*, Define o critério utilizado par amedir a qualidade das divisões nas árvores, como \"gini\" ou \"entropy\". </font>\n",
    "\n",
    "* 2 - **min_weight_fraction_leaf**\n",
    "\n",
    "<font size=\"2\"> ou *Fração Mínima de Peso na Folha*, Define a fração mínima da soma total dos pesos das amostras em uma folha. </font>\n",
    "\n",
    "* 3 - **oob_score**\n",
    "\n",
    "<font size=\"2\"> ou *Pontuação Out-of-Bag*, Controla se a pontuação dos modelos é calculada usando amostras não usadas durante o treinamento. </font>\n",
    "\n",
    "* 4 - **warm_start**\n",
    "\n",
    "<font size=\"2\"> ou *Partida Quente*, Permite continuar o treinamento a partir de onde parou em uma iteração anterior. </font>\n",
    "\n",
    "* 5 - **verbose**\n",
    "\n",
    "<font size=\"2\"> ou *Verbosidade*, Controla a quantidade de informações exibidas durante o treinamento. </font>\n",
    "\n",
    "* 6 - **min_impurity_decrease**\n",
    "\n",
    "<font size=\"2\"> ou *Diminuição Mínima da Impureza*, Define a quantidade mínima pela qual a impureza deve ser reduzida para realizar uma divisão. </font>"
   ]
  }
 ],
 "metadata": {
  "kernelspec": {
   "display_name": "Python 3 (ipykernel)",
   "language": "python",
   "name": "python3"
  },
  "language_info": {
   "codemirror_mode": {
    "name": "ipython",
    "version": 3
   },
   "file_extension": ".py",
   "mimetype": "text/x-python",
   "name": "python",
   "nbconvert_exporter": "python",
   "pygments_lexer": "ipython3",
   "version": "3.11.3"
  }
 },
 "nbformat": 4,
 "nbformat_minor": 5
}
