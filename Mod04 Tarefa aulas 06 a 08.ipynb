{
 "cells": [
  {
   "cell_type": "markdown",
   "metadata": {},
   "source": [
    "# Tarefa 03\n",
    "\n",
    "- Leia os enunciados com atenção\n",
    "- Saiba que pode haver mais de uma resposta correta\n",
    "- Insira novas células de código sempre que achar necessário\n",
    "- Em caso de dúvidas, procure os Tutores\n",
    "- Divirta-se :)"
   ]
  },
  {
   "cell_type": "code",
   "execution_count": 2,
   "metadata": {},
   "outputs": [],
   "source": [
    "import pandas as pd\n",
    "import requests"
   ]
  },
  {
   "cell_type": "markdown",
   "metadata": {},
   "source": [
    "####  1) Lendo de APIs\n",
    "Vimos em aula como carregar dados públicos do governo através de um API (*Application Programming Interface*). No exemplo de aula, baixamos os dados de pedidos de verificação de limites (PVL) realizados por estados, e selecionamos apenas aqueles referentes ao estado de São Paulo.\n",
    "\n",
    "1. Repita os mesmos passos feitos em aula, mas selecione os PVLs realizados por municípios no estado do Rio de Janeiro.\n",
    "2. Quais são os três *status* das solicitações mais frequentes na base? Quais são suas frequências?\n",
    "3. Construa uma nova variável que contenha o ano do **status**. Observe que ```data_status``` vem como tipo *object* no **DataFrame**. Dica: você pode usar o método ```.str``` para transformar o tipo da variável em string, em seguida um método como [**slice()**](https://pandas.pydata.org/docs/reference/api/pandas.Series.str.slice.html) ou [**split()**](https://pandas.pydata.org/pandas-docs/stable/reference/api/pandas.Series.str.split.html).\n",
    "4. Indique a frequência de cada ano do campo construído no item (3)."
   ]
  },
  {
   "cell_type": "code",
   "execution_count": 10,
   "metadata": {},
   "outputs": [],
   "source": [
    "# 1) Seu código aqui\n",
    "\n",
    "url = 'https://apidatalake.tesouro.gov.br/ords/sadipem/tt/pvl?uf=RJ&tipo_interessado=Munic%C3%ADpio'\n",
    "\n",
    "r = requests.get(url)\n",
    "\n",
    "data_json = r.json()\n",
    "\n",
    "df = pd.DataFrame(data_json['items'])"
   ]
  },
  {
   "cell_type": "code",
   "execution_count": 12,
   "metadata": {},
   "outputs": [
    {
     "name": "stdout",
     "output_type": "stream",
     "text": [
      "Três status das solicitações mais frequentes:\n",
      "Deferido        96\n",
      "Arquivado       53\n",
      "Regularizado    26\n",
      "Name: status, dtype: int64\n"
     ]
    }
   ],
   "source": [
    "# 2) Seu código aqui\n",
    "status_freq = df['status'].value_counts().head(3)\n",
    "print(\"Três status das solicitações mais frequentes:\")\n",
    "print(status_freq)"
   ]
  },
  {
   "cell_type": "code",
   "execution_count": 17,
   "metadata": {},
   "outputs": [
    {
     "name": "stdout",
     "output_type": "stream",
     "text": [
      "Frequência de cada ano do campo 'ano_status':\n",
      "2008    37\n",
      "2007    29\n",
      "2014    20\n",
      "2010    19\n",
      "2023    17\n",
      "2019    17\n",
      "2020    15\n",
      "2013    15\n",
      "2012    13\n",
      "2022    11\n",
      "2011    10\n",
      "2009     9\n",
      "2015     8\n",
      "2021     5\n",
      "2017     5\n",
      "2006     4\n",
      "2018     4\n",
      "2002     4\n",
      "2016     4\n",
      "2003     1\n",
      "2004     1\n",
      "Name: ano_status, dtype: int64\n"
     ]
    }
   ],
   "source": [
    "# 3) Seu código aqui\n",
    "df['ano_status'] = df['data_status'].str.extract(r'(\\d{4})')\n",
    "\n",
    "ano_freq = df['ano_status'].value_counts()\n",
    "print(\"Frequência de cada ano do campo 'ano_status':\")\n",
    "print(ano_freq)"
   ]
  },
  {
   "cell_type": "markdown",
   "metadata": {},
   "source": [
    "####  2) Melhorando a interação com o API\n",
    "Observe dois URLs de consultas diferentes, por exemplo o URL utilizado em aula, e o URL feito no exercício anterior. Compare-os e observe as diferenças.\n",
    "\n",
    "1. Faça uma função em Python que recebe como argumento o UF da consulta e o tipo de interessado (```'Estado'```ou ```Município```), e que devolve os dados da consulta no formato *DataFrame*.\n",
    "2. Quantas solicitações para o Estado podem ser consultadas para Minas Gerais com *status* em 'Arquivado por decurso de prazo' estão registradas?\n",
    "3. Qual é o município da Bahia com mais solicitações deferidas?\n",
    "4. Salve um arquivo .csv com os dados de solicitações da Bahia, com interessado = 'Estado'"
   ]
  },
  {
   "cell_type": "code",
   "execution_count": 35,
   "metadata": {},
   "outputs": [],
   "source": [
    "#1) Seu código aqui\n",
    "def consultar_dados_uf_tipo(uf, tipo_interessado):\n",
    "    url = f\"https://apidatalake.tesouro.gov.br/ords/sadipem/tt/pvl?uf={uf}&tipo_interessado={tipo_interessado}\"\n",
    "    r = requests.get(url)\n",
    "    data_json = r.json()\n",
    "    df = pd.DataFrame(data_json['items'])\n",
    "    return df"
   ]
  },
  {
   "cell_type": "code",
   "execution_count": 44,
   "metadata": {},
   "outputs": [
    {
     "name": "stdout",
     "output_type": "stream",
     "text": [
      "Total de solicitações para o Estado de Minas Gerais com \n",
      "status 'Arquivado por decurso de prazo': 1\n"
     ]
    }
   ],
   "source": [
    "# 2) Seu código aqui\n",
    "df_mg = consultar_dados_uf_tipo('MG', 'Estado')\n",
    "solicitacoes_mg_arquivadas = df_mg[df_mg['status'] == 'Arquivado por decurso de prazo']\n",
    "total_solicitacoes_mg_arquivadas = len(solicitacoes_mg_arquivadas)\n",
    "print(f\"Total de solicitações para o Estado de Minas Gerais com \\nstatus 'Arquivado por decurso de prazo': {total_solicitacoes_mg_arquivadas}\")"
   ]
  },
  {
   "cell_type": "code",
   "execution_count": 45,
   "metadata": {
    "scrolled": true
   },
   "outputs": [
    {
     "name": "stdout",
     "output_type": "stream",
     "text": [
      "Município da Bahia com mais solicitações deferidas: Luís Eduardo Magalhães\n"
     ]
    }
   ],
   "source": [
    "# 3) Seu código aqui\n",
    "df_bahia = consultar_dados_uf_tipo('BA', 'Município')\n",
    "solicitacoes_bahia_deferidas = df_bahia[df_bahia['status'] == 'Deferido']\n",
    "municipio_mais_solicitacoes_deferidas_bahia = solicitacoes_bahia_deferidas['interessado'].value_counts().idxmax()\n",
    "print(f\"Município da Bahia com mais solicitações deferidas: {municipio_mais_solicitacoes_deferidas_bahia}\")"
   ]
  },
  {
   "cell_type": "code",
   "execution_count": 46,
   "metadata": {},
   "outputs": [],
   "source": [
    "# 4) Seu código aqui\n",
    "df_bahia_estado = consultar_dados_uf_tipo('BA', 'Estado')\n",
    "df_bahia_estado.to_csv('solicitacoes_bahia_estado.csv', index=False)"
   ]
  }
 ],
 "metadata": {
  "kernelspec": {
   "display_name": "Python 3 (ipykernel)",
   "language": "python",
   "name": "python3"
  },
  "language_info": {
   "codemirror_mode": {
    "name": "ipython",
    "version": 3
   },
   "file_extension": ".py",
   "mimetype": "text/x-python",
   "name": "python",
   "nbconvert_exporter": "python",
   "pygments_lexer": "ipython3",
   "version": "3.10.9"
  }
 },
 "nbformat": 4,
 "nbformat_minor": 4
}
