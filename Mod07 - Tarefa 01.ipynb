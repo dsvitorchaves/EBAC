{
 "cells": [
  {
   "cell_type": "code",
   "execution_count": 3,
   "metadata": {},
   "outputs": [],
   "source": [
    "import pandas as pd"
   ]
  },
  {
   "cell_type": "markdown",
   "metadata": {},
   "source": [
    "# Módulo 07, Tarefa 01\n",
    "\n",
    "Vamos começar a mexer na nossa base de projeto? Já fizemos um exercício de montar a variável resposta, já pudemos perceber que essa atividade pode não ser trivial. Vamos agora trabalhar a base para que fique propícia ao *scikitlearn* para trabalharmos.\n",
    "\n",
    "Lembrando, a base se chama demo01.csv, e originalmente está publicada [aqui](https://www.kaggle.com/rikdifos/credit-card-approval-prediction)."
   ]
  },
  {
   "cell_type": "markdown",
   "metadata": {},
   "source": [
    "#### 1) Carregue a base e avalie:\n",
    "\n",
    "- As variáveis\n",
    "- Tipos de dados de cada variável\n",
    "- Quantidade de missings\n",
    "- Distribuição da variável resposta (mau)"
   ]
  },
  {
   "cell_type": "code",
   "execution_count": 14,
   "metadata": {},
   "outputs": [
    {
     "name": "stdout",
     "output_type": "stream",
     "text": [
      "  sexo posse_de_veiculo posse_de_imovel  qtd_filhos            tipo_renda  \\\n",
      "0    M                Y               Y           0               Working   \n",
      "1    F                N               Y           0  Commercial associate   \n",
      "2    F                N               Y           0  Commercial associate   \n",
      "3    M                Y               Y           0               Working   \n",
      "4    F                Y               N           0               Working   \n",
      "\n",
      "                        educacao          estado_civil    tipo_residencia  \\\n",
      "0  Secondary / secondary special               Married  House / apartment   \n",
      "1  Secondary / secondary special  Single / not married  House / apartment   \n",
      "2  Secondary / secondary special  Single / not married  House / apartment   \n",
      "3               Higher education               Married  House / apartment   \n",
      "4              Incomplete higher               Married  House / apartment   \n",
      "\n",
      "       idade  tempo_emprego  possui_celular  possui_fone_comercial  \\\n",
      "0  58.832877       3.106849               1                      0   \n",
      "1  52.356164       8.358904               1                      0   \n",
      "2  52.356164       8.358904               1                      0   \n",
      "3  46.224658       2.106849               1                      1   \n",
      "4  29.230137       3.021918               1                      0   \n",
      "\n",
      "   possui_fone  possui_email  qt_pessoas_residencia    mau  \n",
      "0            0             0                    2.0  False  \n",
      "1            1             1                    1.0  False  \n",
      "2            1             1                    1.0  False  \n",
      "3            1             1                    2.0  False  \n",
      "4            0             0                    2.0  False  \n",
      "------------------------------------------------------------------------------------------\n",
      "sexo                      object\n",
      "posse_de_veiculo          object\n",
      "posse_de_imovel           object\n",
      "qtd_filhos                 int64\n",
      "tipo_renda                object\n",
      "educacao                  object\n",
      "estado_civil              object\n",
      "tipo_residencia           object\n",
      "idade                    float64\n",
      "tempo_emprego            float64\n",
      "possui_celular             int64\n",
      "possui_fone_comercial      int64\n",
      "possui_fone                int64\n",
      "possui_email               int64\n",
      "qt_pessoas_residencia    float64\n",
      "mau                         bool\n",
      "dtype: object \n",
      "\n",
      "------------------------------------------------------------------------------------------\n",
      "sexo                     0\n",
      "posse_de_veiculo         0\n",
      "posse_de_imovel          0\n",
      "qtd_filhos               0\n",
      "tipo_renda               0\n",
      "educacao                 0\n",
      "estado_civil             0\n",
      "tipo_residencia          0\n",
      "idade                    0\n",
      "tempo_emprego            0\n",
      "possui_celular           0\n",
      "possui_fone_comercial    0\n",
      "possui_fone              0\n",
      "possui_email             0\n",
      "qt_pessoas_residencia    0\n",
      "mau                      0\n",
      "dtype: int64 \n",
      "\n",
      "------------------------------------------------------------------------------------------\n",
      "False    16260\n",
      "True       390\n",
      "Name: mau, dtype: int64 \n",
      "\n",
      "------------------------------------------------------------------------------------------\n"
     ]
    }
   ],
   "source": [
    "data = pd.read_csv('demo01.csv')\n",
    "\n",
    "linha = '-' * 90\n",
    "\n",
    "# As variáveis\n",
    "print(data.head())\n",
    "print(linha)\n",
    "\n",
    "# Tipo de dados de cada variável\n",
    "print(data.dtypes, '\\n')\n",
    "print(linha)\n",
    "\n",
    "# Quantidade de Missings\n",
    "print(data.isnull().sum(), '\\n')\n",
    "print(linha)\n",
    "\n",
    "# Distribuição da Variável Resposta (Mau)\n",
    "print(data['mau'].value_counts(), '\\n')\n",
    "print(linha)"
   ]
  },
  {
   "cell_type": "markdown",
   "metadata": {},
   "source": [
    "#### 2) Vamos montar um metadados\n",
    "\n",
    "1. Crie um dataframe com os nomes de cada variável e o tipo de dados de cada variável.\n",
    "2. Adicione uma coluna nesse *dataframe* chamada \"qtd_categorias\" e coloque nela o número de categorias correspondente de cada variável. \n",
    "    Dica: \n",
    "        1. inicie uma lista vazia\n",
    "        2. faça um for ao longo dos nomes das variáveis, \n",
    "        3. conte o número de categorias dessa variável \n",
    "        4. acumule essa informação de 3. na lista que você criou em 1. \n",
    "        5. No final, essa lista pode ser atribuída à nossa variável.\n",
    "3. Crie variáveis dummy para as variáveis necessárias (i.e. aquelas que são qualitativas e não estão armazenadas como {0, 1} ou {True, False}."
   ]
  },
  {
   "cell_type": "code",
   "execution_count": 16,
   "metadata": {},
   "outputs": [
    {
     "name": "stdout",
     "output_type": "stream",
     "text": [
      "                                    Variável Tipo de Dados  qtd_categorias\n",
      "sexo                                    sexo        object               2\n",
      "posse_de_veiculo            posse_de_veiculo        object               2\n",
      "posse_de_imovel              posse_de_imovel        object               2\n",
      "qtd_filhos                        qtd_filhos         int64               0\n",
      "tipo_renda                        tipo_renda        object               5\n",
      "educacao                            educacao        object               5\n",
      "estado_civil                    estado_civil        object               5\n",
      "tipo_residencia              tipo_residencia        object               6\n",
      "idade                                  idade       float64               0\n",
      "tempo_emprego                  tempo_emprego       float64               0\n",
      "possui_celular                possui_celular         int64               0\n",
      "possui_fone_comercial  possui_fone_comercial         int64               0\n",
      "possui_fone                      possui_fone         int64               0\n",
      "possui_email                    possui_email         int64               0\n",
      "qt_pessoas_residencia  qt_pessoas_residencia       float64               0\n",
      "mau                                      mau          bool               0\n",
      "   sexo_F  sexo_M  posse_de_veiculo_N  posse_de_veiculo_Y  posse_de_imovel_N  \\\n",
      "0       0       1                   0                   1                  0   \n",
      "1       1       0                   1                   0                  0   \n",
      "2       1       0                   1                   0                  0   \n",
      "3       0       1                   0                   1                  0   \n",
      "4       1       0                   0                   1                  1   \n",
      "\n",
      "   posse_de_imovel_Y  tipo_renda_Commercial associate  tipo_renda_Pensioner  \\\n",
      "0                  1                                0                     0   \n",
      "1                  1                                1                     0   \n",
      "2                  1                                1                     0   \n",
      "3                  1                                0                     0   \n",
      "4                  0                                0                     0   \n",
      "\n",
      "   tipo_renda_State servant  tipo_renda_Student  ...  estado_civil_Married  \\\n",
      "0                         0                   0  ...                     1   \n",
      "1                         0                   0  ...                     0   \n",
      "2                         0                   0  ...                     0   \n",
      "3                         0                   0  ...                     1   \n",
      "4                         0                   0  ...                     1   \n",
      "\n",
      "   estado_civil_Separated  estado_civil_Single / not married  \\\n",
      "0                       0                                  0   \n",
      "1                       0                                  1   \n",
      "2                       0                                  1   \n",
      "3                       0                                  0   \n",
      "4                       0                                  0   \n",
      "\n",
      "   estado_civil_Widow  tipo_residencia_Co-op apartment  \\\n",
      "0                   0                                0   \n",
      "1                   0                                0   \n",
      "2                   0                                0   \n",
      "3                   0                                0   \n",
      "4                   0                                0   \n",
      "\n",
      "   tipo_residencia_House / apartment  tipo_residencia_Municipal apartment  \\\n",
      "0                                  1                                    0   \n",
      "1                                  1                                    0   \n",
      "2                                  1                                    0   \n",
      "3                                  1                                    0   \n",
      "4                                  1                                    0   \n",
      "\n",
      "   tipo_residencia_Office apartment  tipo_residencia_Rented apartment  \\\n",
      "0                                 0                                 0   \n",
      "1                                 0                                 0   \n",
      "2                                 0                                 0   \n",
      "3                                 0                                 0   \n",
      "4                                 0                                 0   \n",
      "\n",
      "   tipo_residencia_With parents  \n",
      "0                             0  \n",
      "1                             0  \n",
      "2                             0  \n",
      "3                             0  \n",
      "4                             0  \n",
      "\n",
      "[5 rows x 27 columns]\n"
     ]
    }
   ],
   "source": [
    "metadata = pd.DataFrame({'Variável': data.columns, 'Tipo de Dados': data.dtypes})\n",
    "\n",
    "categorias = []\n",
    "for col in data.columns:\n",
    "    if data[col].dtype == 'object':\n",
    "        categorias.append(data[col].nunique())\n",
    "    else:\n",
    "        categorias.append(0)\n",
    "        \n",
    "metadata['qtd_categorias'] = categorias\n",
    "\n",
    "qualitativas = metadata[metadata['Tipo de Dados'] == 'object']['Variável'].tolist()\n",
    "dummy_variables = pd.get_dummies(data[qualitativas])\n",
    "\n",
    "print(metadata)\n",
    "\n",
    "print(dummy_variables.head())"
   ]
  },
  {
   "cell_type": "markdown",
   "metadata": {},
   "source": [
    "#### 3) Crie variáveis dummy para as variáveis necessárias (i.e. aquelas que são qualitativas e não estão armazenadas como {0, 1} ou {True, False}. Crie um *dataframe* apenas com as variáveis apropriadas para entrada no scikitlearn - elimine as variáveis tipo *str*, mantendo apenas suas versões *dummy*."
   ]
  },
  {
   "cell_type": "code",
   "execution_count": 17,
   "metadata": {},
   "outputs": [
    {
     "name": "stdout",
     "output_type": "stream",
     "text": [
      "   qtd_filhos      idade  tempo_emprego  possui_celular  \\\n",
      "0           0  58.832877       3.106849               1   \n",
      "1           0  52.356164       8.358904               1   \n",
      "2           0  52.356164       8.358904               1   \n",
      "3           0  46.224658       2.106849               1   \n",
      "4           0  29.230137       3.021918               1   \n",
      "\n",
      "   possui_fone_comercial  possui_fone  possui_email  qt_pessoas_residencia  \\\n",
      "0                      0            0             0                    2.0   \n",
      "1                      0            1             1                    1.0   \n",
      "2                      0            1             1                    1.0   \n",
      "3                      1            1             1                    2.0   \n",
      "4                      0            0             0                    2.0   \n",
      "\n",
      "     mau  tipo_renda_Commercial associate  ...  estado_civil_Married  \\\n",
      "0  False                                0  ...                     1   \n",
      "1  False                                1  ...                     0   \n",
      "2  False                                1  ...                     0   \n",
      "3  False                                0  ...                     1   \n",
      "4  False                                0  ...                     1   \n",
      "\n",
      "   estado_civil_Separated  estado_civil_Single / not married  \\\n",
      "0                       0                                  0   \n",
      "1                       0                                  1   \n",
      "2                       0                                  1   \n",
      "3                       0                                  0   \n",
      "4                       0                                  0   \n",
      "\n",
      "   estado_civil_Widow  tipo_residencia_Co-op apartment  \\\n",
      "0                   0                                0   \n",
      "1                   0                                0   \n",
      "2                   0                                0   \n",
      "3                   0                                0   \n",
      "4                   0                                0   \n",
      "\n",
      "   tipo_residencia_House / apartment  tipo_residencia_Municipal apartment  \\\n",
      "0                                  1                                    0   \n",
      "1                                  1                                    0   \n",
      "2                                  1                                    0   \n",
      "3                                  1                                    0   \n",
      "4                                  1                                    0   \n",
      "\n",
      "   tipo_residencia_Office apartment  tipo_residencia_Rented apartment  \\\n",
      "0                                 0                                 0   \n",
      "1                                 0                                 0   \n",
      "2                                 0                                 0   \n",
      "3                                 0                                 0   \n",
      "4                                 0                                 0   \n",
      "\n",
      "   tipo_residencia_With parents  \n",
      "0                             0  \n",
      "1                             0  \n",
      "2                             0  \n",
      "3                             0  \n",
      "4                             0  \n",
      "\n",
      "[5 rows x 30 columns]\n"
     ]
    }
   ],
   "source": [
    "qualitativas = metadata[(metadata['Tipo de Dados'] == 'object') & (metadata['qtd_categorias'] > 2)]['Variável'].tolist()\n",
    "dummy_variables = pd.get_dummies(data[qualitativas])\n",
    "\n",
    "numericas = metadata[metadata['Tipo de Dados'] != 'object']['Variável'].tolist()\n",
    "numeric_data = data[numericas]\n",
    "\n",
    "processed_data = pd.concat([numeric_data, dummy_variables], axis=1)\n",
    "\n",
    "print(processed_data.head())"
   ]
  },
  {
   "cell_type": "markdown",
   "metadata": {},
   "source": [
    "#### 4) Qual variável é mais poderosa?\n",
    "\n",
    "Considere as variáveis ```possui_email``` e ```posse_de_veiculo```. Faça uma tabela cruzada entre elas e responda qual delas te parece mais poderosa para prever a probabilidade de ```mau = 1```?"
   ]
  },
  {
   "cell_type": "code",
   "execution_count": 18,
   "metadata": {},
   "outputs": [
    {
     "name": "stdout",
     "output_type": "stream",
     "text": [
      "posse_de_veiculo     N     Y\n",
      "possui_email                \n",
      "0                 9341  5829\n",
      "1                  837   643\n"
     ]
    }
   ],
   "source": [
    "tabela_cruzada = pd.crosstab(data['possui_email'], data['posse_de_veiculo'])\n",
    "\n",
    "print(tabela_cruzada)"
   ]
  },
  {
   "cell_type": "markdown",
   "metadata": {},
   "source": [
    "**Resposta:** A variável [possui_email] tem 837 casos em que 'mau' é igual a 1, contra 643 casos da variável [posse_de_veiculo], sendo assim podemos inferir que a variável [possui_email] parece ser mais poderosa para prever a probabilidade solicitada."
   ]
  },
  {
   "cell_type": "markdown",
   "metadata": {},
   "source": [
    "#### 5) Salve a base, pois ela será utilizada no final deste módulo."
   ]
  },
  {
   "cell_type": "code",
   "execution_count": 19,
   "metadata": {},
   "outputs": [],
   "source": [
    "processed_data.to_csv('base_processada.csv', index=False)"
   ]
  }
 ],
 "metadata": {
  "kernelspec": {
   "display_name": "Python 3 (ipykernel)",
   "language": "python",
   "name": "python3"
  },
  "language_info": {
   "codemirror_mode": {
    "name": "ipython",
    "version": 3
   },
   "file_extension": ".py",
   "mimetype": "text/x-python",
   "name": "python",
   "nbconvert_exporter": "python",
   "pygments_lexer": "ipython3",
   "version": "3.10.9"
  }
 },
 "nbformat": 4,
 "nbformat_minor": 4
}
