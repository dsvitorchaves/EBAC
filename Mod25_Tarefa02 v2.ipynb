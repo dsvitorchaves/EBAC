{
 "cells": [
  {
   "cell_type": "markdown",
   "metadata": {},
   "source": [
    "# Cálculo - Tarefa 02\n",
    "\n",
    "1- Calcule de forma numérica a integral da função $x^3$ avaliada entre os pontos $1$ e $2$. Identifique o número de retângulos que você usou.  \n"
   ]
  },
  {
   "cell_type": "code",
   "execution_count": 24,
   "metadata": {},
   "outputs": [
    {
     "name": "stdout",
     "output_type": "stream",
     "text": [
      "Resultado da integral numérica: 3.7465\n",
      "Número de retângulos utilizados: 1000\n"
     ]
    }
   ],
   "source": [
    "# Importando a biblioteca necessária\n",
    "import numpy as np\n",
    "\n",
    "# Definindo a função a ser integrada\n",
    "def f(x):\n",
    "    return x**3\n",
    "\n",
    "# Definindo os pontos de integração\n",
    "a = 1  # Ponto inicial\n",
    "b = 2  # Ponto final\n",
    "\n",
    "# Número de retângulos \n",
    "n_retangulos = 1000  \n",
    "\n",
    "# Calculando a largura de cada retângulo\n",
    "largura_retangulo = (b - a) / n_retangulos\n",
    "\n",
    "# Inicializando a soma da área dos retângulos\n",
    "soma_areas = 0\n",
    "\n",
    "# Calculando a área de cada retângulo e somar\n",
    "for i in range(n_retangulos):\n",
    "    altura_retangulo = f(a + i * largura_retangulo)\n",
    "    area_retangulo = altura_retangulo * largura_retangulo\n",
    "    soma_areas += area_retangulo\n",
    "\n",
    "# Printando o resultado da integral numérica\n",
    "print(\"Resultado da integral numérica:\", round(soma_areas, 4))\n",
    "print(\"Número de retângulos utilizados:\", n_retangulos)"
   ]
  },
  {
   "cell_type": "markdown",
   "metadata": {},
   "source": [
    "2- Calcule essa área de forma analítica."
   ]
  },
  {
   "cell_type": "code",
   "execution_count": 25,
   "metadata": {},
   "outputs": [
    {
     "name": "stdout",
     "output_type": "stream",
     "text": [
      "Área analítica: 3.75\n"
     ]
    }
   ],
   "source": [
    "# Calculando analítico da área sob a curva da função x^3 no intervalo [1, 2]\n",
    "a = 1  # Ponto inicial\n",
    "b = 2  # Ponto final\n",
    "\n",
    "# Função para calcular a área de forma analítica\n",
    "def calcular_area_analitica(a, b):\n",
    "    area = (b**4 / 4) - (a**4 / 4)\n",
    "    return area\n",
    "\n",
    "# Calculando a área usando a função\n",
    "area_analitica = calcular_area_analitica(a, b)\n",
    "\n",
    "# Printando o resultado\n",
    "print(\"Área analítica:\", area_analitica)"
   ]
  }
 ],
 "metadata": {
  "kernelspec": {
   "display_name": "Python 3 (ipykernel)",
   "language": "python",
   "name": "python3"
  },
  "language_info": {
   "codemirror_mode": {
    "name": "ipython",
    "version": 3
   },
   "file_extension": ".py",
   "mimetype": "text/x-python",
   "name": "python",
   "nbconvert_exporter": "python",
   "pygments_lexer": "ipython3",
   "version": "3.11.3"
  },
  "toc": {
   "base_numbering": 1,
   "nav_menu": {},
   "number_sections": true,
   "sideBar": true,
   "skip_h1_title": true,
   "title_cell": "Índice",
   "title_sidebar": "Conteúdo",
   "toc_cell": false,
   "toc_position": {},
   "toc_section_display": true,
   "toc_window_display": false
  },
  "varInspector": {
   "cols": {
    "lenName": 16,
    "lenType": 16,
    "lenVar": 40
   },
   "kernels_config": {
    "python": {
     "delete_cmd_postfix": "",
     "delete_cmd_prefix": "del ",
     "library": "var_list.py",
     "varRefreshCmd": "print(var_dic_list())"
    },
    "r": {
     "delete_cmd_postfix": ") ",
     "delete_cmd_prefix": "rm(",
     "library": "var_list.r",
     "varRefreshCmd": "cat(var_dic_list()) "
    }
   },
   "types_to_exclude": [
    "module",
    "function",
    "builtin_function_or_method",
    "instance",
    "_Feature"
   ],
   "window_display": false
  }
 },
 "nbformat": 4,
 "nbformat_minor": 4
}
