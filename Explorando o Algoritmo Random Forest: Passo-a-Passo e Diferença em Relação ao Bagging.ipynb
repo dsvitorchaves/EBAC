{
 "cells": [
  {
   "cell_type": "markdown",
   "id": "0c417047",
   "metadata": {},
   "source": [
    "# TAREFA 2"
   ]
  },
  {
   "cell_type": "markdown",
   "id": "2990456d",
   "metadata": {},
   "source": [
    "<font size=\"3\">**1. Monte um passo-a-passo para o Algoritmo RF.**</font>\n",
    "\n",
    "<font size=\"3\">**4. (Opcional) Implementar em Python o Random Forest.**</font>"
   ]
  },
  {
   "cell_type": "code",
   "execution_count": null,
   "id": "5d284453",
   "metadata": {},
   "outputs": [],
   "source": [
    "# PASSO A PASSO PARA DO ALGORITMO RF:\n",
    "\n",
    "####################################\n",
    "# 1º PASSO - IMPORTANDO BIBLIOTECAS:\n",
    "####################################\n",
    "\n",
    "\n",
    "import numpy as np\n",
    "import pandas as pd\n",
    "from sklearn.model_selection import train_test_split\n",
    "from sklearn.ensemble import RandomForestClassifier\n",
    "from sklearn.metrics import accuracy_score\n",
    "\n",
    "\n",
    "########################################################\n",
    "# PASSO EXTRA - CRIANDO UM CONJUNTO DE DADOS ALEATÓRIO:\n",
    "########################################################\n",
    "\n",
    "\n",
    "# Neste passo extra estamos criando um conjunto de dados aleatórios para gerar uma simulação de como funcionaria o algoritmo.\n",
    "\n",
    "np.random.seed(42)\n",
    "\n",
    "# Criando 100 amostras com 2 recursos (X1 e X2)\n",
    "X = np.random.rand(100, 2)\n",
    "\n",
    "# Criando rótulos/targets (0 ou 1)\n",
    "y = (X[:, 0] + X[:, 1] > 1).astype(int)\n",
    "\n",
    "\n",
    "####################################################################\n",
    "# 2º PASSO - DIVIDINDO OS DADOS EM CONJUNTOS DE TREINAMENTO E TESTE:\n",
    "####################################################################\n",
    "\n",
    "\n",
    "X_train, X_test, y_train, y_test = train_test_split(X, y, test_size=0.2, random_state=42)\n",
    "\n",
    "\n",
    "########################################################\n",
    "# 3º PASSO - CRIANDO E TREINANDO O MODELO RANDOM FOREST:\n",
    "########################################################\n",
    "\n",
    "\n",
    "# Definindo hiperparâmetros do Random Forest\n",
    "n_estimators = 100  # Número de árvores na floresta\n",
    "max_features = \"sqrt\"  # Número de características consideradas em cada divisão\n",
    "\n",
    "# Criando o modelo Random Forest\n",
    "model = RandomForestClassifier(n_estimators=n_estimators, max_features=max_features, random_state=42)\n",
    "\n",
    "# Treinando o modelo usando amostras bootstrap e seleção de características aleatórias\n",
    "model.fit(X_train, y_train)\n",
    "\n",
    "\n",
    "####################################################\n",
    "# 4º PASSO - FAZENDO PREVISÕES E AVALIANDO O MODELO:\n",
    "####################################################\n",
    "\n",
    "\n",
    "# Fazendo previsões nos dados de teste\n",
    "predictions = model.predict(X_test)\n",
    "\n",
    "# Avaliando o desempenho do modelo\n",
    "accuracy = accuracy_score(y_test, predictions)\n",
    "print(\"Accuracy:\", accuracy)\n"
   ]
  },
  {
   "cell_type": "markdown",
   "id": "cf952706",
   "metadata": {},
   "source": [
    "<font size=\"3\">**2. Explique com suas palavras o Random Forest.**</font>"
   ]
  },
  {
   "cell_type": "markdown",
   "id": "7094b01f",
   "metadata": {},
   "source": [
    "* Random Forest é como se ter vários assistentes trabalhando em conjunto para uma tomada de decisão final, é uma maneira eficaz de fazer previsões combinando várias opiniões baseadas em dados e testes, tornando as previsões mais confiáveis devido a sabedoria coletiva e não depender de apenas uma única opinião."
   ]
  },
  {
   "cell_type": "markdown",
   "id": "15f6eb0a",
   "metadata": {},
   "source": [
    "<font size=\"3\">**3. Qual a diferença entre Bagging e Random Forest.**</font>"
   ]
  },
  {
   "cell_type": "markdown",
   "id": "ca9f71db",
   "metadata": {},
   "source": [
    "* Em ambos os dados são divididos, porém no Bagging os dados são analisados de forma geral com todas as características que elesp ossuem e depois combinadas as previsões gerando uma previsõa final, já no Random Forest os dados após divididos, são definidas as características específicas a serem analisadas, o que gera resultados mais objetivos e específicos."
   ]
  }
 ],
 "metadata": {
  "kernelspec": {
   "display_name": "Python 3 (ipykernel)",
   "language": "python",
   "name": "python3"
  },
  "language_info": {
   "codemirror_mode": {
    "name": "ipython",
    "version": 3
   },
   "file_extension": ".py",
   "mimetype": "text/x-python",
   "name": "python",
   "nbconvert_exporter": "python",
   "pygments_lexer": "ipython3",
   "version": "3.11.3"
  }
 },
 "nbformat": 4,
 "nbformat_minor": 5
}
