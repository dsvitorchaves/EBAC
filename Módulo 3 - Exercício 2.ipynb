{
 "cells": [
  {
   "cell_type": "code",
   "execution_count": 37,
   "metadata": {
    "id": "fFhFteHV695k"
   },
   "outputs": [],
   "source": [
    "import numpy as np\n",
    "from babel.numbers import format_currency\n",
   ]
  },
  {
   "cell_type": "markdown",
   "metadata": {
    "id": "YLWEzg3N695m"
   },
   "source": [
    "### 1) Alturas  \n",
    "i. No trecho de código abaixo, crie um ndarray chamado ```altura_em_centimetros``` transformando a lista ```lista_de_alturas``` em um ndarray do numpy com a função ```np.array()```  \n",
    "ii. Crie um outro objeto ```altura_em_metros```, com os valores de ```altura_em_centimetros``` convertidos para metros."
   ]
  },
  {
   "cell_type": "code",
   "execution_count": 5,
   "metadata": {
    "id": "tx6DbJk7695o"
   },
   "outputs": [],
   "source": [
    "lista_de_centimetros = list(range(170, 190, 5))\n",
    "altura_em_centimetros = np.array(lista_de_centimetros)"
   ]
  },
  {
   "cell_type": "code",
   "execution_count": 6,
   "metadata": {
    "id": "-tXC4lyT695o"
   },
   "outputs": [
    {
     "data": {
      "text/plain": [
       "array([170, 175, 180, 185])"
      ]
     },
     "execution_count": 6,
     "metadata": {},
     "output_type": "execute_result"
    }
   ],
   "source": [
    "altura_em_centimetros "
   ]
  },
  {
   "cell_type": "code",
   "execution_count": 10,
   "metadata": {
    "id": "zFDQt9_K695p"
   },
   "outputs": [
    {
     "name": "stdout",
     "output_type": "stream",
     "text": [
      "[1.7  1.75 1.8  1.85]\n"
     ]
    }
   ],
   "source": [
    "altura_em_metros = altura_em_centimetros / 100\n",
    "print(altura_em_metros)"
   ]
  },
  {
   "cell_type": "markdown",
   "metadata": {
    "id": "hlsDzubv695p"
   },
   "source": [
    "### 2) IMC  \n",
    "i. Considere que pesos em Kg dessas pessoas, na mesma ortem, estão na lista pesos ```lista_pesos = [70, 75, 80, 85]```. Crie um **ndarray** chamado ```pesos``` com a função ```np.array()``` que contenha esses valores.  \n",
    "ii. Utilizando o objeto que contém as alturas em metros e esse objeto que contém os respectivos pesos em quilos, calcule o IMC desses indivíduos utilizando a aritmética de arrays e guarde os resultados em um objeto chamado ```imc```."
   ]
  },
  {
   "cell_type": "code",
   "execution_count": 11,
   "metadata": {
    "id": "YL87C0It695p",
    "outputId": "f147f2f0-c5e8-407c-a708-914ddc99fa6d"
   },
   "outputs": [
    {
     "name": "stdout",
     "output_type": "stream",
     "text": [
      "[70 75 80 85]\n"
     ]
    }
   ],
   "source": [
    "lista_pesos = [70, 75, 80, 85]\n",
    "pesos = np.array(lista_pesos)\n",
    "\n",
    "# seu código aqui\n",
    "\n",
    "print(pesos)"
   ]
  },
  {
   "cell_type": "code",
   "execution_count": 12,
   "metadata": {
    "id": "WgZtY2Ox695q"
   },
   "outputs": [
    {
     "name": "stdout",
     "output_type": "stream",
     "text": [
      "Pessoa 1: Peso = 70 kg, IMC = 24.22\n",
      "Pessoa 2: Peso = 75 kg, IMC = 24.49\n",
      "Pessoa 3: Peso = 80 kg, IMC = 24.69\n",
      "Pessoa 4: Peso = 85 kg, IMC = 24.84\n"
     ]
    }
   ],
   "source": [
    "# calcule o IMC dessas pessoas\n",
    "\n",
    "imc = pesos / altura_em_metros **2\n",
    "\n",
    "for i in range(len(pesos)):\n",
    "    print(f\"Pessoa {i+1}: Peso = {pesos[i]} kg, IMC = {imc[i]:.2f}\")"
   ]
  },
  {
   "cell_type": "markdown",
   "metadata": {
    "id": "k1JIBxZb695r"
   },
   "source": [
    "### 3) Endividamento\n",
    "\n",
    "Cálculos de novas variáveis como endividamento total e comprometimento de renda são essenciais para a construção de modelos financeiros em ciência de dados. Áreas não financeiras terão cálculos semelhantes também. Vamos praticar:\n",
    "\n",
    "Considere que o seguinte ndarray contém os dados de 4 pessoas, total a ser pago a empréstimos mensalmente e renda familiar:\n",
    "\n",
    "| custo fixo | dívida financeira | renda familiar |\n",
    "|:----:|:----:|:---|\n",
    "| 3000  | 1000 | 6000 |\n",
    "| 2500  | 2500 | 5500 |\n",
    "| 1000  | 3000 | 7000 |\n",
    "| 10000 | 5000 | 16000 |\n",
    "\n",
    "i. Transforme a lista de listas ```dados_financeiros``` no ndarray ```nd_financeiros```.\n",
    "> ``` dados_financeiros[[3000, 2500, 1000, 10000],[1000, 2500, 3000, 5000],[6000, 5500, 7000, 16000]] ```\n",
    "\n",
    "ii. Utilize o método ```.transpose ``` e certifique-se de que esse ndarray tenha uma linha por indivíduo e uma coluna por informação. Utilizando a indexação do numpy, imprima no output a segunda linha do array, depois a segunda coluna.\n",
    "\n",
    "iii. Pratique aritmética com nearrays e calcule o endividamento total como:\n",
    "$$endividamento\\hspace{.2cm}total = \\frac{custo \\hspace{.2cm}fixo + dívida\\hspace{.2cm}financeira}{renda\\hspace{.2cm}familiar}$$\n",
    "Guarde os resultados em uma variável chamada ```endividamento_total``` e verifique os resultados imprimindo o conteúdo dessa variável no output.\n",
    "\n",
    "iv. Considere que há um erro de digitação que precisa ser corrigido: 3o indivíduo na verdade não possui renda familiar de R\\\\$7.000,00, mas sim R\\\\$ 10.000,00. Corrija esse valor e refaça os cálculos."
   ]
  },
  {
   "cell_type": "code",
   "execution_count": 74,
   "metadata": {
    "id": "k17jw6kT695r"
   },
   "outputs": [],
   "source": [
    "# lista dados_financeiros\n",
    "#dados_financeiros = [[3000, 2500, 1000, 10000],[1000, 2500, 3000, 5000],[6000, 5500, 7000, 16000]]\n",
    "dados_financeiros = [[3000, 1000, 6000], [2500, 2500, 5500], [1000, 3000, 7000], [10000, 5000, 16000]]\n",
    "\n",
    "#i) transforme essa lista em um ndarray\n",
    "nd_financeiros = np.array(dados_financeiros)"
   ]
  },
  {
   "cell_type": "code",
   "execution_count": 73,
   "metadata": {
    "id": "ecRsPjml695r"
   },
   "outputs": [
    {
     "name": "stdout",
     "output_type": "stream",
     "text": [
      "Segunda Linha do Array:\n",
      "[2500 2500 5500]\n",
      "Segunda Coluna do Array:\n",
      "[1000 2500 3000 5000]\n"
     ]
    }
   ],
   "source": [
    "# ii) \n",
    "\n",
    "segunda_linha = nd_financeiros[1]\n",
    "segunda_coluna = nd_financeiros[:, 1]\n",
    "\n",
    "print(\"Segunda Linha do Array:\")\n",
    "print(segunda_linha)\n",
    "\n",
    "print(\"Segunda Coluna do Array:\")\n",
    "print(segunda_coluna)\n"
   ]
  },
  {
   "cell_type": "code",
   "execution_count": 89,
   "metadata": {
    "id": "RgMG-t9-695s"
   },
   "outputs": [
    {
     "name": "stdout",
     "output_type": "stream",
     "text": [
      "Família 1 possui endividamento total de 66.67% da renda familiar.\n",
      "Família 2 possui endividamento total de 90.91% da renda familiar.\n",
      "Família 3 possui endividamento total de 57.14% da renda familiar.\n",
      "Família 4 possui endividamento total de 93.75% da renda familiar.\n"
     ]
    }
   ],
   "source": [
    "custo_fixo = nd_financeiros[:, 0]\n",
    "divida_financeira = nd_financeiros[:, 1]\n",
    "renda_familiar = nd_financeiros[:, 2]\n",
    "\n",
    "endividamento_total = ((custo_fixo + divida_financeira) / renda_familiar) * 100\n",
    "\n",
    "for i, endividamento in enumerate(endividamento_total):\n",
    "    print(f\"Família {i+1} possui endividamento total de {endividamento:.2f}% da renda familiar.\")\n"
   ]
  },
  {
   "cell_type": "code",
   "execution_count": 44,
   "metadata": {
    "id": "FxaSHRgy695t"
   },
   "outputs": [],
   "source": [
    "# iv) corrigindo um valor específico\n",
    "\n",
    "renda_familiar[2] = 10000"
   ]
  },
  {
   "cell_type": "code",
   "execution_count": 93,
   "metadata": {
    "id": "OYxfd00O695t"
   },
   "outputs": [
    {
     "name": "stdout",
     "output_type": "stream",
     "text": [
      "\u001b[1mTabela da Família 3\u001b[0m\n",
      "\n",
      "Custo Fixo: R$ 1.000,00\n",
      "Dívida FInanceira: R$ 3.000,00\n",
      "Renda Familiar: R$ 7.000,00\n",
      "\u001b[91mEndividamento Total:\u001b[0m 57.14%\n"
     ]
    }
   ],
   "source": [
    "print(f\"\\033[1mTabela da Família 3\\033[0m\\n\\n\"\n",
    "      f\"Custo Fixo: {format_currency(custo_fixo[2], 'BRL', locale='pt_BR')}\\n\"\n",
    "      f\"Dívida FInanceira: {format_currency(divida_financeira[2], 'BRL', locale='pt_BR')}\\n\"\n",
    "      f\"Renda Familiar: {format_currency(renda_familiar[2], 'BRL', locale='pt_BR')}\\n\"\n",
    "      f\"\\033[91mEndividamento Total:\\033[0m {endividamento_total[2]:.2f}%\")"
   ]
  },
  {
   "cell_type": "markdown",
   "metadata": {
    "id": "RghMgSOX695t"
   },
   "source": [
    "### 4) É muito comum precisarmos identificar valores especiais e darmos tratamento a eles quer seja alterando-os quer seja descartando-os. \n",
    "\n",
    "O trecho de código abaixo gera um ndarray com números pseudo aleatórios. Considere que para efeitos do estudo que virá, devemos desconsiderar valores iguais a zero. Sendo assim:\n",
    "\n",
    "i) crie um objeto ```bool_zero``` que traga uma sequencia de booleanos do mesmo tamanho que o objeto poi, e que vale ```True``` quando o valor de ```poi``` é zero, e ```False``` caso contrário.\n",
    "\n",
    "ii) Conte quantos valores zero existem. Lembre-se de que no final das contas, ```True``` vale 1 para o Python, e ```False``` vale zero, então uma boa dica seria usar a função ```sum()```.\n",
    "\n",
    "iii) Utilize a indexação booleana que você aprendeu para criar uma variável ```poi_nao_zero``` que aponta para os elementos de ```poi``` diferentes de zero. Dica: você vai pode inverter os elementos do objeto que criou em *ii)* ou escrever a comparação adequada."
   ]
  },
  {
   "cell_type": "code",
   "execution_count": 95,
   "metadata": {
    "id": "Y6JUhNiT695t",
    "outputId": "06ceb3b7-5eb0-45d0-f3b3-ea6ff6f0df2a"
   },
   "outputs": [
    {
     "data": {
      "text/plain": [
       "array([3, 3, 6, 2, 4, 5, 4, 4, 2, 0, 3, 3, 2, 8, 2, 3, 3, 3, 0, 4, 4, 2,\n",
       "       6, 6, 0, 3, 4, 3, 5, 2, 1, 3, 2, 2, 3, 2, 4, 4, 5, 7, 3, 5, 3, 3,\n",
       "       2, 2, 3, 6, 2, 2, 4, 3, 5, 2, 5, 3, 0, 2, 1, 1, 4, 4, 4, 6, 2, 4,\n",
       "       1, 2, 5, 5, 3, 4, 1, 4, 1, 1, 7, 1, 2, 1, 3, 7, 0, 4, 4, 0, 6, 1,\n",
       "       3, 4, 2, 5, 4, 5, 5, 3, 4, 6, 8, 2])"
      ]
     },
     "execution_count": 95,
     "metadata": {},
     "output_type": "execute_result"
    }
   ],
   "source": [
    "# objeto poi - obs: o comando np.random.seed(1234) garante que o mesmo resultado será gerado sempre\n",
    "np.random.seed(1234)\n",
    "poi = np.random.poisson(3, 100)\n",
    "poi"
   ]
  },
  {
   "cell_type": "code",
   "execution_count": 96,
   "metadata": {
    "id": "dWElD2MJ695u"
   },
   "outputs": [],
   "source": [
    "# i) crie o objeto bool_zero através do operador ==\n",
    "\n",
    "bool_zero = poi == 0"
   ]
  },
  {
   "cell_type": "code",
   "execution_count": 97,
   "metadata": {
    "id": "hr-knXzs695u"
   },
   "outputs": [],
   "source": [
    "# ii) Conte a quantidade de zeros (ou some os elementos de bool_zero)\n",
    "\n",
    "zeros = np.sum(bool_zero)"
   ]
  },
  {
   "cell_type": "code",
   "execution_count": 98,
   "metadata": {
    "id": "5s3DqCup695u"
   },
   "outputs": [],
   "source": [
    "# iii) utilize a indexação booleana para criar uma seleção de não-zeros\n",
    "# dica: inverta o objeto bool_zero\n",
    "\n",
    "poi_n_zero = poi[~bool_zero]"
   ]
  },
  {
   "cell_type": "code",
   "execution_count": 101,
   "metadata": {},
   "outputs": [
    {
     "name": "stdout",
     "output_type": "stream",
     "text": [
      "Número de valores zero: 6\n",
      "Valores diferentes de zero:\n",
      " [3 3 6 2 4 5 4 4 2 3 3 2 8 2 3 3 3 4 4 2 6 6 3 4 3 5 2 1 3 2 2 3 2 4 4 5 7\n",
      " 3 5 3 3 2 2 3 6 2 2 4 3 5 2 5 3 2 1 1 4 4 4 6 2 4 1 2 5 5 3 4 1 4 1 1 7 1\n",
      " 2 1 3 7 4 4 6 1 3 4 2 5 4 5 5 3 4 6 8 2]\n"
     ]
    }
   ],
   "source": [
    "print(\"Número de valores zero:\", zeros)\n",
    "print(\"Valores diferentes de zero:\\n\", poi_n_zero)"
   ]
  }
 ],
 "metadata": {
  "colab": {
   "collapsed_sections": [],
   "provenance": []
  },
  "kernelspec": {
   "display_name": "Python 3 (ipykernel)",
   "language": "python",
   "name": "python3"
  },
  "language_info": {
   "codemirror_mode": {
    "name": "ipython",
    "version": 3
   },
   "file_extension": ".py",
   "mimetype": "text/x-python",
   "name": "python",
   "nbconvert_exporter": "python",
   "pygments_lexer": "ipython3",
   "version": "3.9.13"
  }
 },
 "nbformat": 4,
 "nbformat_minor": 1
}
