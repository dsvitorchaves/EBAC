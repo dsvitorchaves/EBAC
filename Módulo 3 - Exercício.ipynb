{
 "cells": [
  {
   "cell_type": "code",
   "execution_count": null,
   "metadata": {},
   "outputs": [],
   "source": [
    "import math"
   ]
  },
  {
   "cell_type": "markdown",
   "metadata": {
    "id": "SEE0vQsW83yB"
   },
   "source": [
    "### 01 - Teste de gravidez\n",
    "Escreva uma célula com controle de fluxos que tem como premissa a existência das seguintes variáveis:\n",
    "\n",
    "- ```sexo``` como ```str``` indicando os valores '**M**' para masculino e '**F**' para feminino  \n",
    "- ```beta_hcg``` que indica a quantidade do beta-HCG no sangue em mUI/mL.\n",
    "\n",
    "A sua tarefa é escrever um código que imprima como resultado \"indivíduo do sexo masculino\" quando sexo = 'M', caso sexo = 'F', se o valor de beta-HCG for maior que 5, retorne \"Positivo\" indicando que a paciente está grávida, e retorne \"Negativo\" caso contrário.\n",
    "\n",
    "Não mexa nos valores da variável ```sexo``` nem em ```beta_hcg```, e escreva um código que funcione para quaisquer valores possíveis de ambos: ```sexo``` = '**M**' ou '**F**' e ```beta_hcg``` assumindo valores inteiros positivos."
   ]
  },
  {
   "cell_type": "code",
   "execution_count": 11,
   "metadata": {
    "id": "cTOc4LG683yE"
   },
   "outputs": [
    {
     "data": {
      "text/plain": [
       "'Paciente do Sexo Masculino'"
      ]
     },
     "execution_count": 11,
     "metadata": {},
     "output_type": "execute_result"
    }
   ],
   "source": [
    "sexo = 'M'\n",
    "beta_hcg = 0\n",
    "\n",
    "# seu código vem abaixo desta linha\n",
    "\n",
    "def gravidez(sexo, beta_hcg):\n",
    "    if sexo == 'M':\n",
    "        return \"Paciente do Sexo Masculino\"\n",
    "    elif sexo == 'F' and beta_hcg > 5:\n",
    "        return \"[POSITIVO] - Paciente Grávida\"\n",
    "    else:\n",
    "        return \"[NEGATIVO] - Paciente não está Grávida\"\n",
    "        \n",
    "\n",
    "# TESTE        \n",
    "gravidez(sexo, beta_hcg)"
   ]
  },
  {
   "cell_type": "markdown",
   "metadata": {
    "id": "uCoIZDE383yF"
   },
   "source": [
    "### 02 - Renomeando variáveis\n",
    "\n",
    "Vamos ver adiante que uma forma de renomear variáveis de um conjunto de dados é através de dicionários - o dicionário deve conter como chave o nome original, associando a cada chave um único valor (tipo *str*) que contenha o nome novo.\n",
    "\n",
    "A sua tarefa é escrever um dicionário que possa ser utilizado para traduzir as variáveis ```name``` (nome), ```age``` (idade) e ```income``` (renda). Ou seja, esse dicionário deve relacionar as chaves *name, age* e *income* às suas respectivas traduções."
   ]
  },
  {
   "cell_type": "code",
   "execution_count": 13,
   "metadata": {
    "id": "Bh6ijpbu83yG",
    "outputId": "58fbd8da-ed1d-4e05-df85-041c821948f2"
   },
   "outputs": [
    {
     "data": {
      "text/plain": [
       "{'name': 'nome', 'age': 'idade', 'income': 'renda'}"
      ]
     },
     "execution_count": 13,
     "metadata": {},
     "output_type": "execute_result"
    }
   ],
   "source": [
    "dic_renomeacao = {\n",
    "    'name': 'nome',\n",
    "    'age' : 'idade',\n",
    "    'income' : 'renda'\n",
    "}\n",
    "\n",
    "dic_renomeacao"
   ]
  },
  {
   "cell_type": "markdown",
   "metadata": {
    "id": "95zumO5g83yH"
   },
   "source": [
    "### 03 - É divisível?\n",
    "A sua tarefa é escrever um código que indique se um número ```N``` é divisível por um número P. Escreva um programa que faça essa verificação para quaisquer combinações de ```N``` e ```P``` e devolva uma mensagem indicativa no output."
   ]
  },
  {
   "cell_type": "code",
   "execution_count": 14,
   "metadata": {
    "id": "BR2zOhmN83yI"
   },
   "outputs": [
    {
     "data": {
      "text/plain": [
       "'42 é divisível por 7'"
      ]
     },
     "execution_count": 14,
     "metadata": {},
     "output_type": "execute_result"
    }
   ],
   "source": [
    "N = 42\n",
    "P = 7\n",
    "\n",
    "#Seu código\n",
    "\n",
    "def divisibilidade(N, P):\n",
    "    if N % P == 0:\n",
    "        return f\"{N} é divisível por {P}\"\n",
    "    else:\n",
    "        return f\"{N} não é divisível por {P}\"\n",
    "\n",
    "# TESTE\n",
    "divisibilidade(N, P)"
   ]
  },
  {
   "cell_type": "markdown",
   "metadata": {
    "id": "0d5Kdrz283yJ"
   },
   "source": [
    "### 04 - Números primos\n",
    "> Um número **N** é primo se e somente se é divisível por 1, -1, por **N** e por -**N**.  \n",
    "\n",
    "Escreva um script que verifica se ```N``` é um número primo, verificando se ```N``` é divisível por todos os números de ```1``` a ```N-1```. Você vai precisar usar alguma ferramenta de *loop* que você aprendeu para isto. No final, devolva uma mensagem no output indicando se o número é primo ou não."
   ]
  },
  {
   "cell_type": "code",
   "execution_count": 15,
   "metadata": {
    "id": "h_lFO-EO83yJ"
   },
   "outputs": [
    {
     "name": "stdout",
     "output_type": "stream",
     "text": [
      "47 é um número primo\n"
     ]
    }
   ],
   "source": [
    "N = 47\n",
    "\n",
    "# seu código abaixo\n",
    "\n",
    "for i in range(2, N):\n",
    "    if N % i  == 0:\n",
    "        print(f\"{N} não é um número primo\")\n",
    "        break\n",
    "\n",
    "else:\n",
    "    print(f\"{N} é um número primo\")"
   ]
  },
  {
   "cell_type": "markdown",
   "metadata": {
    "id": "zHwDnURO83yK"
   },
   "source": [
    "### 05 - Desafio\n",
    "O algorítmo do exercício anterior não é o mais eficiente. O que você pode fazer para deixá-lo mais eficiente? Ou seja, executar menos comparações, portanto consumir menos tempo.\n",
    "1. Será que precisamos correr o loop até o final sempre?\n",
    "2. Será que precisamos mesmo verificar **todos** os números?\n",
    "3. Será que precisamos ir até N-1?\n",
    "\n",
    "Essas perguntas levam ao tipo de pensamento voltado a deixar um algoritmo mais eficiente. Veja se você consegue melhorar o seu."
   ]
  },
  {
   "cell_type": "code",
   "execution_count": 3,
   "metadata": {
    "id": "DDdwfZOL83yM"
   },
   "outputs": [
    {
     "data": {
      "text/plain": [
       "'Não é primo'"
      ]
     },
     "execution_count": 3,
     "metadata": {},
     "output_type": "execute_result"
    }
   ],
   "source": [
    "N = 98\n",
    "\n",
    "# seu código aqui\n",
    "\n",
    "def numero_primo(n):\n",
    "    if n <= 1:\n",
    "        return \"Não é primo\"\n",
    "    elif n<= 3:\n",
    "        return \"É primo\"\n",
    "    elif n% 2 == 0 or n % 3 == 0:\n",
    "        return \"Não é primo\"\n",
    "\n",
    "    i = 5\n",
    "    while i * i <= n:\n",
    "        if n % i == 0:\n",
    "            return \"Não é primo\"\n",
    "        i += 2\n",
    "        if n % i == 0:\n",
    "            return \"Nâo é primo\"\n",
    "        i += 4\n",
    "        \n",
    "        return \"É primo\"\n",
    "\n",
    "# TESTE\n",
    "numero_primo(N)        \n"
   ]
  },
  {
   "cell_type": "markdown",
   "metadata": {
    "id": "4zhVSQan83yN"
   },
   "source": [
    "### 06 - Peso ideal 1\n",
    "O IMC (índice de massa corpórea) é um indicador de saúde mais bem aceito que o peso. Ele é calculado como:\n",
    "\n",
    "$$ IMC = \\dfrac{peso}{altura^2}$$\n",
    "\n",
    "Segundo a OMS, valores *normais* são entre 18.5 e 24.9.\n",
    "\n",
    "Sua tarefa é encontrar o ponto médio dessa faixa."
   ]
  },
  {
   "cell_type": "code",
   "execution_count": 12,
   "metadata": {
    "id": "3DzxicN983yO",
    "outputId": "6a947e58-88b2-4764-a9ca-717b971adb3d"
   },
   "outputs": [
    {
     "name": "stdout",
     "output_type": "stream",
     "text": [
      "O ponto médio da faixa de IMC ideal é: 21,70\n"
     ]
    }
   ],
   "source": [
    "imc_ideal = (18.5 + 24.9) / 2\n",
    "print(f\"O ponto médio da faixa de IMC ideal é: {imc_ideal:.2f}\".replace('.', ','))"
   ]
  },
  {
   "cell_type": "markdown",
   "metadata": {
    "id": "Z8uBOym483yP"
   },
   "source": [
    "### 07 - Peso ideal 2\n",
    "Recebendo um valor de altura, encontre o peso '*ideal*' dessa pessoa, que fornece o IMC encontrado acima"
   ]
  },
  {
   "cell_type": "code",
   "execution_count": 13,
   "metadata": {
    "id": "rrNwycte83yP",
    "outputId": "0e63b2ff-3743-48c7-a472-b48a450a0867"
   },
   "outputs": [
    {
     "name": "stdout",
     "output_type": "stream",
     "text": [
      "O peso ideal para uma pessoa coma altura 1.7 é: 62.71 kg\n"
     ]
    }
   ],
   "source": [
    "altura = 1.70\n",
    "\n",
    "# Seu código\n",
    "peso_ideal = imc_ideal * altura ** 2\n",
    "print(f\"O peso ideal para uma pessoa coma altura {altura} é: {peso_ideal:.2f} kg\")"
   ]
  },
  {
   "cell_type": "markdown",
   "metadata": {
    "id": "zEdM6J_i83yP"
   },
   "source": [
    "### 08 - Peso ideal 3\n",
    "Dada uma lista contendo as alturas de pacientes, crie uma nova lista que contenha o peso '*ideal*' (que fornece o IMC calculado em **Peso ideal 1**) desses pacientes."
   ]
  },
  {
   "cell_type": "code",
   "execution_count": 22,
   "metadata": {
    "id": "KN1mB_My83yQ",
    "outputId": "f070d54d-c156-4546-e3c7-b5bc500059d9"
   },
   "outputs": [
    {
     "name": "stdout",
     "output_type": "stream",
     "text": [
      "[1.95, 2.05, 1.7, 1.65]\n",
      "[82.51, 91.19, 62.71, 59.08] \n",
      "\n",
      "ALTURA = 1.95 | PESO = 82.51 kg\n",
      "ALTURA = 2.05 | PESO = 91.19 kg\n",
      "ALTURA = 1.70 | PESO = 62.71 kg\n",
      "ALTURA = 1.65 | PESO = 59.08 kg\n"
     ]
    }
   ],
   "source": [
    "lista_alturas = [1.95, 2.05, 1.70, 1.65]\n",
    "lista_peso_ideal = []\n",
    "\n",
    "# seu código\n",
    "\n",
    "for altura in lista_alturas:\n",
    "    peso_ideal = imc_ideal * altura ** 2\n",
    "    lista_peso_ideal.append(round(peso_ideal, 2))\n",
    "\n",
    "print(lista_alturas)\n",
    "print(lista_peso_ideal, \"\\n\")    \n",
    "    \n",
    "for altura, peso in zip(lista_alturas, lista_peso_ideal):\n",
    "    print(f\"ALTURA = {altura:.2f} | PESO = {peso:.2f} kg\")"
   ]
  },
  {
   "cell_type": "markdown",
   "metadata": {
    "id": "8OKAtYQM83yQ"
   },
   "source": [
    "### 09 - Peso ideal 4\n",
    "Dada uma lista de tuplas - cada elemento da lista é uma tupla contendo altura e peso de um paciente - crie uma nova lista com o IMC desses pacientes."
   ]
  },
  {
   "cell_type": "code",
   "execution_count": 41,
   "metadata": {
    "id": "FaXgkjzI83yQ",
    "outputId": "8adc5e59-8a72-42db-db6b-6895587e875e"
   },
   "outputs": [
    {
     "name": "stdout",
     "output_type": "stream",
     "text": [
      "[27.78, 27.55, 19.19]\n"
     ]
    }
   ],
   "source": [
    "altura_peso = [(1.80, 90), (1.65, 75), (1.91, 70)]\n",
    "\n",
    "imc = []\n",
    "\n",
    "# seu código\n",
    "\n",
    "for altura, peso in altura_peso:\n",
    "    imc_paciente = float(\"{:.2f}\".format(peso / altura ** 2))\n",
    "    imc.append(imc_paciente)\n",
    "    \n",
    "print(imc)"
   ]
  },
  {
   "cell_type": "markdown",
   "metadata": {
    "id": "kZdSJqJq83yR"
   },
   "source": [
    "### 10 - Peso ideal 5\n",
    "Dada uma lista de **listas** - cada elemento da lista é uma **lista** contendo altura e peso de um paciente, adicione mais um elemento à lista de cada paciente contendo o IMC do paciente. Verifique também se é 'baixo', 'normal' ou 'alto' segundo os padrões da OMS em que normal é entre 18.5 e 24.9.\n",
    "\n",
    "Reflexão: por que no problema anterior temos que criar uma nova lista, e não podemos adicionar os dados de cada indivíduo à tupla?"
   ]
  },
  {
   "cell_type": "code",
   "execution_count": 44,
   "metadata": {
    "id": "EwszojP283yR"
   },
   "outputs": [
    {
     "data": {
      "text/plain": [
       "[[1.8, 90, 27.78, 'alto'],\n",
       " [1.65, 75, 27.55, 'alto'],\n",
       " [1.91, 70, 19.19, 'normal']]"
      ]
     },
     "execution_count": 44,
     "metadata": {},
     "output_type": "execute_result"
    }
   ],
   "source": [
    "altura_peso = [[1.80, 90], [1.65, 75], [1.91, 70]]\n",
    "\n",
    "# seu código\n",
    "\n",
    "for paciente in altura_peso:\n",
    "    altura = paciente[0]\n",
    "    peso = paciente[1]\n",
    "    imc = float(round(peso / (altura ** 2), 2))\n",
    "    paciente.append(imc)\n",
    "\n",
    "    if imc < 18.5:\n",
    "        paciente.append('baixo')\n",
    "    elif imc >= 18.5 and imc <= 24.9:\n",
    "        paciente.append('normal')\n",
    "    else:\n",
    "        paciente.append('alto')\n",
    "        \n",
    "altura_peso"
   ]
  },
  {
   "cell_type": "markdown",
   "metadata": {},
   "source": [
    "**Resposta da Reflexão:** <span style=\"color:red; font-weight:bold;\">Tuplas</span> são imutáveis quando estamos falando de Python, então não é possível adicionar ou modificar os elementos após sua criação, por isso foi preciso criar uma nova lista e adicionar individualmente, diferentemente do que acontece no exercício atual onde estamos falando de <span style=\"color:red; font-weight:bold;\">Listas</span> são mutáveis."
   ]
  }
 ],
 "metadata": {
  "colab": {
   "collapsed_sections": [],
   "provenance": []
  },
  "kernelspec": {
   "display_name": "Python 3 (ipykernel)",
   "language": "python",
   "name": "python3"
  },
  "language_info": {
   "codemirror_mode": {
    "name": "ipython",
    "version": 3
   },
   "file_extension": ".py",
   "mimetype": "text/x-python",
   "name": "python",
   "nbconvert_exporter": "python",
   "pygments_lexer": "ipython3",
   "version": "3.9.13"
  }
 },
 "nbformat": 4,
 "nbformat_minor": 1
}
