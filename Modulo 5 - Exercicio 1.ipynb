{
 "cells": [
  {
   "cell_type": "markdown",
   "metadata": {},
   "source": [
    "# Módulo 5 Tarefa 1\n",
    "## Base de nascidos vivos do DataSUS\n",
    "O DataSUS disponibiliza diversos arquivos de dados com relação a seus segurados, conforme a [lei da transparência de informações públicas](https://www.sisgov.com/transparencia-acesso-informacao/#:~:text=A%20Lei%20da%20Transpar%C3%AAncia%20(LC,em%20um%20site%20na%20internet.). \n",
    "\n",
    "Essas informações podem ser obtidas pela internet [aqui](http://www2.datasus.gov.br/DATASUS/index.php?area=0901&item=1). Como o processo de obtenção desses arquivos foge um pouco do nosso escopo, deixamos o arquivo ```SINASC_RO_2019.csv``` já como vai ser encontrado no DataSUS. O dicionário de dados está no arquivo ```estrutura_sinasc_para_CD.pdf``` (o nome do arquivo tal qual no portal do DataSUS).\n",
    "\n",
    "### Nosso objetivo\n",
    "Queremos deixar uma base organizada para podermos estudar a relação entre partos com risco para o bebê e algumas condições como tempo de parto, consultas de pré-natal etc.\n",
    "\n",
    "#### Preparação da base\n",
    "1. Carregue a base 'SINASC_RO_2019.csv'. Conte o número de registros e o número de registros não duplicados da base. Dica: você aprendeu um método que remove duplicados, encadeie este método com um outro método que conta o número de linhas. **Há linhas duplicadas?**  \n",
    "\n",
    "2. Conte o número de valores *missing* por variável.  \n",
    "\n",
    "3. Ok, no item anterior você deve ter achado pouco prático ler a informação de tantas variáveis, muitas delas nem devem ser interesantes. Então crie uma seleção dessa base somente com as colunas que interessam. São elas:\n",
    "``` \n",
    "['LOCNASC', 'IDADEMAE', 'ESTCIVMAE', 'ESCMAE', 'QTDFILVIVO', \n",
    "    'GESTACAO', 'GRAVIDEZ', 'CONSULTAS', 'APGAR5'] \n",
    "```\n",
    "Refaça a contagem de valores *missings*.  \n",
    "\n",
    "4. Apgar é uma *nota* que o pediatra dá ao bebê quando nasce de acordo com algumas características associadas principalmente à respiração. Apgar 1 e Apgar 5 são as notas 1 e 5 minutos do nascimento. Apgar5 será a nossa variável de interesse principal. Então remova todos os registros com Apgar5 não preenchido. Para esta seleção, conte novamente o número de linhas e o número de *missings*.  \n",
    "\n",
    "5. observe que as variáveis ```['ESTCIVMAE', 'CONSULTAS']``` possuem o código ```9```, que significa *ignorado*. Vamos assumir que o não preenchido é o mesmo que o código ```9```.<br>\n",
    "6. Substitua os valores faltantes da quantitativa (```QTDFILVIVO```) por zero.  \n",
    "7. Das restantes, decida que valore te parece mais adequado (um 'não preenchido' ou um valor 'mais provável' como no item anterior) e preencha. Justifique. Lembre-se de que tratamento de dados é trabalho do cientista, e que estamos tomando decisões a todo o momento - não há necessariamente certo e errado aqui.  \n",
    "8. O Apgar possui uma classificação indicando se o bebê passou por asfixia:\n",
    "- Entre 8 e 10 está em uma faixa 'normal'. \n",
    "- Entre 6 e 7, significa que o recém-nascido passou por 'asfixia leve'. \n",
    "- Entre 4 e 5 significa 'asfixia moderada'.\n",
    "- Entre 0 e 3 significa 'asfixia severa'.  \n",
    "\n",
    "Crie uma categorização dessa variável com essa codificação e calcule as frequências dessa categorização.  \n",
    "<br>\n",
    "9. Renomeie as variáveis para que fiquem no *snake case*, ou seja, em letras minúsculas, com um *underscore* entre as palávras. Dica: repare que se você não quiser criar um *dataframe* novo, você vai precisar usar a opção ```inplace = True```."
   ]
  },
  {
   "cell_type": "code",
   "execution_count": 1,
   "metadata": {},
   "outputs": [
    {
     "name": "stdout",
     "output_type": "stream",
     "text": [
      "Número total de registros: 27028\n",
      "Número de registros não duplicados: 27028\n",
      "Há linhas duplicadas na base? False\n"
     ]
    }
   ],
   "source": [
    "import pandas as pd\n",
    "import requests\n",
    "\n",
    "# 1) seu código aqui\n",
    "df = pd.read_csv('SINASC_RO_2019.csv')\n",
    "\n",
    "total_registros = len(df)\n",
    "\n",
    "registros_nao_duplicados = df.drop_duplicates().shape[0]\n",
    "\n",
    "ha_duplicatas = total_registros != registros_nao_duplicados\n",
    "\n",
    "print(f\"Número total de registros: {total_registros}\")\n",
    "print(f\"Número de registros não duplicados: {registros_nao_duplicados}\")\n",
    "print(f\"Há linhas duplicadas na base? {ha_duplicatas}\")\n"
   ]
  },
  {
   "cell_type": "code",
   "execution_count": 2,
   "metadata": {},
   "outputs": [
    {
     "name": "stdout",
     "output_type": "stream",
     "text": [
      "ORIGEM          0\n",
      "CODESTAB      115\n",
      "CODMUNNASC      0\n",
      "LOCNASC         0\n",
      "IDADEMAE        0\n",
      "             ... \n",
      "munResUf        0\n",
      "munResLat       1\n",
      "munResLon       1\n",
      "munResAlt       1\n",
      "munResArea      1\n",
      "Length: 69, dtype: int64\n"
     ]
    }
   ],
   "source": [
    "# 2) seu código aqui\n",
    "\n",
    "valores_ausentes = df.isna().sum()\n",
    "\n",
    "print(valores_ausentes)"
   ]
  },
  {
   "cell_type": "code",
   "execution_count": 3,
   "metadata": {},
   "outputs": [
    {
     "name": "stdout",
     "output_type": "stream",
     "text": [
      "LOCNASC          0\n",
      "IDADEMAE         0\n",
      "ESTCIVMAE      317\n",
      "ESCMAE         312\n",
      "QTDFILVIVO    1573\n",
      "GESTACAO      1232\n",
      "GRAVIDEZ        79\n",
      "CONSULTAS        0\n",
      "APGAR5         103\n",
      "dtype: int64\n"
     ]
    }
   ],
   "source": [
    "# 3) seu código aqui\n",
    "\n",
    "colunas_interesse = ['LOCNASC', 'IDADEMAE', 'ESTCIVMAE', \n",
    "                     'ESCMAE', 'QTDFILVIVO', 'GESTACAO', 'GRAVIDEZ', 'CONSULTAS', 'APGAR5']\n",
    "\n",
    "df_selecionado = df[colunas_interesse]\n",
    "\n",
    "valores_ausentes_selecionado = df_selecionado.isna().sum()\n",
    "\n",
    "print(valores_ausentes_selecionado)"
   ]
  },
  {
   "cell_type": "code",
   "execution_count": 6,
   "metadata": {},
   "outputs": [
    {
     "name": "stdout",
     "output_type": "stream",
     "text": [
      "Número de linhas após a remoção: 26925\n",
      "Número de valores ausentes por variável:\n",
      "ORIGEM          0\n",
      "CODESTAB      115\n",
      "CODMUNNASC      0\n",
      "LOCNASC         0\n",
      "IDADEMAE        0\n",
      "             ... \n",
      "munResUf        0\n",
      "munResLat       1\n",
      "munResLon       1\n",
      "munResAlt       1\n",
      "munResArea      1\n",
      "Length: 69, dtype: int64\n"
     ]
    }
   ],
   "source": [
    "# 4) seu código aqui\n",
    "\n",
    "df_selecionado = df_selecionado.dropna(subset=['APGAR5'])\n",
    "\n",
    "num_linhas = len(df_selecionado)\n",
    "\n",
    "valores_asuentes = df_selecionado.isna().sum()\n",
    "\n",
    "print(f\"Número de linhas após a remoção: {num_linhas}\")\n",
    "print(f\"Número de valores ausentes por variável:\")\n",
    "print(valores_ausentes)"
   ]
  },
  {
   "cell_type": "code",
   "execution_count": 7,
   "metadata": {},
   "outputs": [
    {
     "name": "stdout",
     "output_type": "stream",
     "text": [
      "Número de linhas após a remoção: 26731\n",
      "Número de valores ausentes por variável:\n",
      "LOCNASC          0\n",
      "IDADEMAE         0\n",
      "ESTCIVMAE      315\n",
      "ESCMAE         288\n",
      "QTDFILVIVO    1554\n",
      "GESTACAO      1197\n",
      "GRAVIDEZ        75\n",
      "CONSULTAS        0\n",
      "APGAR5           0\n",
      "dtype: int64\n"
     ]
    }
   ],
   "source": [
    "# 5) seu código aqui\n",
    "df_selecionado = df_selecionado[(df_selecionado['ESTCIVMAE'] != 9) & (df_selecionado['CONSULTAS'] != 9)]\n",
    "\n",
    "num_linhas = len(df_selecionado)\n",
    "\n",
    "valores_ausentes = df_selecionado.isna().sum()\n",
    "\n",
    "print(f\"Número de linhas após a remoção: {num_linhas}\")\n",
    "print(\"Número de valores ausentes por variável:\")\n",
    "print(valores_ausentes)"
   ]
  },
  {
   "cell_type": "code",
   "execution_count": 9,
   "metadata": {},
   "outputs": [
    {
     "name": "stdout",
     "output_type": "stream",
     "text": [
      "Número de linhas após a substituição: 26731\n",
      "Número de valores ausentes por variável:\n",
      "LOCNASC          0\n",
      "IDADEMAE         0\n",
      "ESTCIVMAE      315\n",
      "ESCMAE         288\n",
      "QTDFILVIVO       0\n",
      "GESTACAO      1197\n",
      "GRAVIDEZ        75\n",
      "CONSULTAS        0\n",
      "APGAR5           0\n",
      "dtype: int64\n"
     ]
    }
   ],
   "source": [
    "# 6) Seu código aqui\n",
    "df_selecionado['QTDFILVIVO'] = df_selecionado['QTDFILVIVO'].fillna(0)\n",
    "\n",
    "num_linhas = len(df_selecionado)\n",
    "\n",
    "valores_ausentes = df_selecionado.isna().sum()\n",
    "\n",
    "print(f\"Número de linhas após a substituição: {num_linhas}\")\n",
    "print(\"Número de valores ausentes por variável:\")\n",
    "print(valores_ausentes)"
   ]
  },
  {
   "cell_type": "code",
   "execution_count": 11,
   "metadata": {},
   "outputs": [],
   "source": [
    "# 7) seu código aqui\n",
    "\n",
    "variaveis_substituir = ['ESTCIVMAE', 'ESCMAE', 'GESTACAO', 'GRAVIDEZ']\n",
    "df_selecionado[variaveis_substituir] = df_selecionado[variaveis_substituir].fillna(9)"
   ]
  },
  {
   "cell_type": "markdown",
   "metadata": {},
   "source": [
    "Como Cientista de Dados em um projeto real, eu buscaria obter informações adicionais por meio de interações com os responsáveis e outras pessoas envolvidas, a fim de preencher os dados faltantes das variáveis restantes. Isso porque o estado civil da mãe poderia fornecer insights sobre suas condições de vida, suporte social e acesso a recursos, que são influenciados por essa variável. Esses fatores, por sua vez, podem impactar a saúde e o bem-estar da mãe durante a gravidez, afetando potencialmente o risco de parto para o bebê. Da mesma forma, a escolaridade da mãe também desempenha um papel relevante, pois está relacionada aos fatores socioeconômicos que se relacionam com a saúde durante a gravidez e o parto. Além disso, o tempo de gestação é crucial, uma vez que a duração normal pode variar consideravelmente. Nesse sentido, é importante considerar a possibilidade de um parto prematuro, que pode acarretar riscos adicionais ao bebê. Adicionalmente, é válido mencionar que gestações múltiplas possuem características e riscos diferentes em comparação às gestações únicas. Porém, por ser um exercício vou optar pelo não preenchimento por questão da demora e também a falta de recursos para localizar as informações devido a ser um exercício \"ficticio\" e me encontro pessoalmente numa situação onde preciso finalizar este curso o mais rápido possível, espero que essa justificativa tenha validade."
   ]
  },
  {
   "cell_type": "code",
   "execution_count": 19,
   "metadata": {},
   "outputs": [
    {
     "name": "stdout",
     "output_type": "stream",
     "text": [
      "Normal              26272\n",
      "Asfixia Leve          318\n",
      "Asfixia Moderada       68\n",
      "Asfixia Severa         57\n",
      "Name: Apgar_Categorizado, dtype: int64\n"
     ]
    }
   ],
   "source": [
    "# 8) seu código aqui\n",
    "\n",
    "limites = [0, 3, 5, 7, 10]\n",
    "categorias = ['Asfixia Severa', 'Asfixia Moderada', 'Asfixia Leve', 'Normal']\n",
    "\n",
    "df_selecionado['Apgar_Categorizado'] = pd.cut(df_selecionado['APGAR5'], bins=limites, labels=categorias)\n",
    "\n",
    "frequencias = df_selecionado['Apgar_Categorizado'].value_counts()\n",
    "\n",
    "print(frequencias)"
   ]
  },
  {
   "cell_type": "code",
   "execution_count": 21,
   "metadata": {},
   "outputs": [
    {
     "name": "stdout",
     "output_type": "stream",
     "text": [
      "Index(['loc_nasc', 'idade_mae', 'ESTCIVMAE', 'esc_mae', 'qtd_fil_vivo',\n",
      "       'gestacao', 'gravidez', 'consultas', 'apgar5', 'apgar_categorizado'],\n",
      "      dtype='object')\n"
     ]
    }
   ],
   "source": [
    "# 9) seu código aqui\n",
    "\n",
    "df_selecionado.rename(columns={\n",
    "    'LOCNASC': 'loc_nasc',\n",
    "    'IDADEMAE': 'idade_mae',\n",
    "    'ESTCIMAE': 'est_civ_mae',\n",
    "    'ESCMAE': 'esc_mae',\n",
    "    'QTDFILVIVO': 'qtd_fil_vivo',\n",
    "    'GESTACAO': 'gestacao',\n",
    "    'GRAVIDEZ': 'gravidez',\n",
    "    'CONSULTAS': 'consultas',\n",
    "    'APGAR5': 'apgar5',\n",
    "    'Apgar_Categorizado': 'apgar_categorizado'    \n",
    "}, inplace=True)\n",
    "\n",
    "print(df_selecionado.columns)"
   ]
  }
 ],
 "metadata": {
  "kernelspec": {
   "display_name": "Python 3 (ipykernel)",
   "language": "python",
   "name": "python3"
  },
  "language_info": {
   "codemirror_mode": {
    "name": "ipython",
    "version": 3
   },
   "file_extension": ".py",
   "mimetype": "text/x-python",
   "name": "python",
   "nbconvert_exporter": "python",
   "pygments_lexer": "ipython3",
   "version": "3.10.9"
  }
 },
 "nbformat": 4,
 "nbformat_minor": 4
}
