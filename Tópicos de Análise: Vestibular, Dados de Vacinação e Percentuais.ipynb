{
 "cells": [
  {
   "cell_type": "markdown",
   "metadata": {},
   "source": [
    "## Exercício 1: Vestibular\n",
    "\n",
    "Considere que a os dados gerados na célula abaixo contêm o número de acertos de 100 alunos em um vestibular para um curso de exatas, divididas pelos respectivos assuntos. Considere que cada assunto possui um número de questões conforme a tabela abaixo:\n",
    "\n",
    "| assunto | número de questões |\n",
    "|:---:|:---:|\n",
    "| Matemática | 24 |\n",
    "| Português | 18 |\n",
    "| Geografia | 8 |\n",
    "| Inglês | 8 |\n",
    "| História | 8 |\n",
    "| Física | 12 |\n",
    "| Química | 12 |\n",
    "\n",
    "Usando os comandos de operações com DataFrames que você aprendeu na Aula 03, calcule:\n",
    "\n",
    "1. (operações com escalar) Calcule o percentual de acerto dos alunos por assunto.  \n",
    "2. (operações entre *DataFrames) Calcule o total de acertos de cada aluno.  \n",
    "3. Calcule o porcentual geral de cada aluno.  \n",
    "4. Suponha que a nota de corte para a segunda fase seja 45. Quantos alunos tiveram nota maior que 45?  "
   ]
  },
  {
   "cell_type": "code",
   "execution_count": null,
   "metadata": {},
   "outputs": [],
   "source": [
    "import pandas as pd\n",
    "import numpy as np\n",
    "\n",
    "np.random.seed(42)\n",
    "df_mat['Percentual_acertos'] = round((df_mat['Qt_acertos'] / num_questoes['Matemática']) * 100, 2)\n",
    "df_por['Percentual_acertos'] = round((df_por['Qt_acertos'] / num_questoes['Português']) * 100, 2)\n",
    "df_geo['Percentual_acertos'] = round((df_geo['Qt_acertos'] / num_questoes['Geografia']) * 100, 2)\n",
    "df_ing['Percentual_acertos'] = round((df_ing['Qt_acertos'] / num_questoes['Inglês']) * 100, 2)\n",
    "df_his['Percentual_acertos'] = round((df_his['Qt_acertos'] / num_questoes['História']) * 100, 2)\n",
    "df_fis['Percentual_acertos'] = round((df_fis['Qt_acertos'] / num_questoes['Física']) * 100, 2)\n",
    "df_qui['Percentual_acertos'] = round((df_qui['Qt_acertos'] / num_questoes['Química']) * 100, 2)\n"
   ]
  },
  {
   "cell_type": "code",
   "execution_count": 69,
   "metadata": {},
   "outputs": [
    {
     "name": "stdout",
     "output_type": "stream",
     "text": [
      "Percentual de acerto dos alunos por assunto:\n",
      "\u001b[1m[Matemática]:\u001b[0m\n",
      " 0     25.00\n",
      "1     79.17\n",
      "2     58.33\n",
      "3     41.67\n",
      "4     29.17\n",
      "      ...  \n",
      "95    25.00\n",
      "96    33.33\n",
      "97    95.83\n",
      "98     0.00\n",
      "99    45.83\n",
      "Name: Percentual_acertos, Length: 100, dtype: float64\n",
      "\u001b[1m[Português]:\u001b[0m\n",
      " 0     33.33\n",
      "1     77.78\n",
      "2     55.56\n",
      "3     38.89\n",
      "4     33.33\n",
      "      ...  \n",
      "95    38.89\n",
      "96    11.11\n",
      "97     0.00\n",
      "98    11.11\n",
      "99    22.22\n",
      "Name: Percentual_acertos, Length: 100, dtype: float64\n",
      "\u001b[1m[Geografia]:\u001b[0m\n",
      " 0     75.0\n",
      "1     62.5\n",
      "2     25.0\n",
      "3      0.0\n",
      "4     50.0\n",
      "      ... \n",
      "95     0.0\n",
      "96    62.5\n",
      "97     0.0\n",
      "98    12.5\n",
      "99    37.5\n",
      "Name: Percentual_acertos, Length: 100, dtype: float64\n",
      "\u001b[1m[Inglês]:\u001b[0m\n",
      " 0     37.5\n",
      "1     62.5\n",
      "2     75.0\n",
      "3     12.5\n",
      "4     25.0\n",
      "      ... \n",
      "95    37.5\n",
      "96     0.0\n",
      "97    12.5\n",
      "98     0.0\n",
      "99    87.5\n",
      "Name: Percentual_acertos, Length: 100, dtype: float64\n",
      "\u001b[1m[História]:\u001b[0m\n",
      " 0     62.5\n",
      "1     37.5\n",
      "2     50.0\n",
      "3     50.0\n",
      "4     87.5\n",
      "      ... \n",
      "95     0.0\n",
      "96    87.5\n",
      "97     0.0\n",
      "98    37.5\n",
      "99    37.5\n",
      "Name: Percentual_acertos, Length: 100, dtype: float64\n",
      "\u001b[1m[Física]:\u001b[0m\n",
      " 0     33.33\n",
      "1     41.67\n",
      "2     16.67\n",
      "3     91.67\n",
      "4     66.67\n",
      "      ...  \n",
      "95    75.00\n",
      "96    16.67\n",
      "97     0.00\n",
      "98    58.33\n",
      "99    16.67\n",
      "Name: Percentual_acertos, Length: 100, dtype: float64\n",
      "\u001b[1m[Química]:\u001b[0m\n",
      " 0     91.67\n",
      "1     75.00\n",
      "2     50.00\n",
      "3     75.00\n",
      "4     33.33\n",
      "      ...  \n",
      "95    75.00\n",
      "96    75.00\n",
      "97    75.00\n",
      "98     8.33\n",
      "99    16.67\n",
      "Name: Percentual_acertos, Length: 100, dtype: float64\n"
     ]
    }
   ],
   "source": [
    "# 1) Seu código aqui\n",
    "\n",
    "num_questoes = {\n",
    "    'Matemática': 24,\n",
    "    'Português' : 18,\n",
    "    'Geografia' : 8,\n",
    "    'Inglês' : 8,\n",
    "    'História' : 8,\n",
    "    'Física' : 12,\n",
    "    'Química' : 12\n",
    "}\n",
    "\n",
    "\n",
    "### VISUALIZAÇÃO\n",
    "print(\"Percentual de acerto dos alunos por assunto:\")\n",
    "print('\\033[1m[Matemática]:\\033[0m\\n', df_mat['Percentual_acertos'])\n",
    "print('\\033[1m[Português]:\\033[0m\\n', df_por['Percentual_acertos'])\n",
    "print('\\033[1m[Geografia]:\\033[0m\\n', df_geo['Percentual_acertos'])\n",
    "print('\\033[1m[Inglês]:\\033[0m\\n', df_ing['Percentual_acertos'])\n",
    "print('\\033[1m[História]:\\033[0m\\n', df_his['Percentual_acertos'])\n",
    "print('\\033[1m[Física]:\\033[0m\\n', df_fis['Percentual_acertos'])\n",
    "print('\\033[1m[Química]:\\033[0m\\n', df_qui['Percentual_acertos'])"
   ]
  },
  {
   "cell_type": "code",
   "execution_count": 52,
   "metadata": {},
   "outputs": [
    {
     "name": "stdout",
     "output_type": "stream",
     "text": [
      "\n",
      "Total de acertos de cada aluno:\n",
      "    Total_acertos\n",
      "0              41\n",
      "1              60\n",
      "2              44\n",
      "3              42\n",
      "4              38\n",
      "..            ...\n",
      "95             34\n",
      "96             33\n",
      "97             33\n",
      "98             14\n",
      "99             32\n",
      "\n",
      "[100 rows x 1 columns]\n"
     ]
    }
   ],
   "source": [
    "# 2) Seu código aqui\n",
    "df_total_acertos = pd.DataFrame()\n",
    "df_total_acertos['Total_acertos'] = (\n",
    "    df_mat['Qt_acertos'] + df_por['Qt_acertos'] + df_geo['Qt_acertos'] + \n",
    "    df_ing['Qt_acertos'] + df_his['Qt_acertos'] + df_fis['Qt_acertos'] + \n",
    "    df_qui['Qt_acertos'])\n",
    "\n",
    "### VISUALIZAÇÃO\n",
    "print(\"\\nTotal de acertos de cada aluno:\")\n",
    "print(df_total_acertos[['Total_acertos']])"
   ]
  },
  {
   "cell_type": "code",
   "execution_count": 53,
   "metadata": {},
   "outputs": [
    {
     "name": "stdout",
     "output_type": "stream",
     "text": [
      "\n",
      "Percentual geral de cada aluno:\n",
      "    Percentual_geral\n",
      "0          45.555556\n",
      "1          66.666667\n",
      "2          48.888889\n",
      "3          46.666667\n",
      "4          42.222222\n",
      "..               ...\n",
      "95         37.777778\n",
      "96         36.666667\n",
      "97         36.666667\n",
      "98         15.555556\n",
      "99         35.555556\n",
      "\n",
      "[100 rows x 1 columns]\n"
     ]
    }
   ],
   "source": [
    "# 3) Seu código aqui\n",
    "df_total_acertos['Percentual_geral'] = (df_total_acertos['Total_acertos'] / \n",
    "                                        (num_questoes['Matemática'] + num_questoes['Português'] +\n",
    "                                        num_questoes['Geografia'] + num_questoes['Inglês'] + num_questoes['História'] +\n",
    "                                        num_questoes['Física'] + num_questoes['Química'])\n",
    "                                       ) * 100\n",
    "\n",
    "### VISUALIZAÇÃO\n",
    "print(\"\\nPercentual geral de cada aluno:\")\n",
    "print(df_total_acertos[['Percentual_geral']])"
   ]
  },
  {
   "cell_type": "code",
   "execution_count": 54,
   "metadata": {},
   "outputs": [
    {
     "name": "stdout",
     "output_type": "stream",
     "text": [
      "\n",
      "Número de alunos com nota maior que 45: 38\n"
     ]
    }
   ],
   "source": [
    "# 4) Seu código aqui\n",
    "num_alunos_nota_maior_45 = df_total_acertos[df_total_acertos['Total_acertos'] > 45].shape[0]\n",
    "\n",
    "### VISUALIZAÇÃO\n",
    "print(\"\\nNúmero de alunos com nota maior que 45:\", num_alunos_nota_maior_45)"
   ]
  },
  {
   "cell_type": "markdown",
   "metadata": {},
   "source": [
    "## 2) Vestibular II\n",
    "\n",
    "Ainda sobre o mesmo banco de dados:\n",
    "\n",
    "1. Neste vestibular, quem 'zera' em matemática, física ou química está desqualificado. Monte um novo *DataFrame* com os alunos desqualificados por este critério.\n",
    "2. Quantos são esses alunos?\n",
    "3. Qual a média desses alunos em história e geografia?\n",
    "4. Monte um *DataFrame* com os alunos que passaram para a segunda fase. Repare que estes alunos não podem ter sido desqualificados."
   ]
  },
  {
   "cell_type": "code",
   "execution_count": 71,
   "metadata": {},
   "outputs": [],
   "source": [
    "##### (1)\n",
    "\n",
    "# seu código aqui\n",
    "df_elim = df_mat[(df_mat['Qt_acertos'] == 0) | \n",
    "                 (df_fis['Qt_acertos'] == 0) | \n",
    "                 (df_qui['Qt_acertos'] == 0)].copy()\n"
   ]
  },
  {
   "cell_type": "code",
   "execution_count": 78,
   "metadata": {},
   "outputs": [
    {
     "name": "stdout",
     "output_type": "stream",
     "text": [
      "Número de Alunos Eliminados: 23\n"
     ]
    }
   ],
   "source": [
    "##### (2)\n",
    "\n",
    "num_elim = df_elim.shape[0]\n",
    "print(\"Número de Alunos Eliminados:\", num_elim)"
   ]
  },
  {
   "cell_type": "code",
   "execution_count": 84,
   "metadata": {},
   "outputs": [
    {
     "name": "stdout",
     "output_type": "stream",
     "text": [
      "Média dos Alunos Eliminados em História e Geografia:\n",
      "Qt_acertos    13.0\n",
      "dtype: float64 2\n"
     ]
    }
   ],
   "source": [
    "##### (3)\n",
    "\n",
    "media_hist_geo_elim = df_elim[['Qt_acertos']].mean()\n",
    "print(\"Média dos Alunos Eliminados em História e Geografia:\")\n",
    "print(round(media_hist_geo_elim), 2)"
   ]
  },
  {
   "cell_type": "code",
   "execution_count": 76,
   "metadata": {},
   "outputs": [],
   "source": [
    "##### (4)\n",
    "\n",
    "df_segunda_fase = df_total_acertos[(df_total_acertos['Total_acertos'] > 0) & (~df_total_acertos.index.isin(df_elim.index))].copy()"
   ]
  },
  {
   "cell_type": "markdown",
   "metadata": {},
   "source": [
    "## 3) Vacinações no Acre\n",
    "Vamos trabalhar agora com a base de vacinações no Acre. Para facilitar a sua vida, copiamos o link do arquivo na célula abaixo.\n",
    "\n",
    "1. Quantas vacinas estão registradas nessa base?  \n",
    "2. Quantos pacientes foram vacinados? (considere um paciente para cada valor único de ```paciente_id```)  \n",
    "3. Quantos pacientes únicos tomaram a primeira dose? OBS: Há um caractere especial neste campo. Receba os valores do campo com o método ```.unique()```.   \n",
    "4. Quantos pacientes com menos de 18 anos foram vacinados?  \n",
    "5. Quantos estabelecimentos aplicaram vacina no Acre?\n",
    "\n",
    "\n",
    "**OBS:** O portal do DATASUS pode apresentar instabilidades, retornando um erro na segunda célula abaixo. Por este motivo está disponível uma base estática, que se for baixada para o seu *working directory* pode ser lida com este comando: ```df = pd.read_csv('registros de vacinacao covid ACRE.csv', sep=';')```.\n",
    "\n",
    "**OBS2:** Para saber qual é o seu working directory, rode no jupyter: ```!pwd```."
   ]
  },
  {
   "cell_type": "code",
   "execution_count": 86,
   "metadata": {},
   "outputs": [],
   "source": [
    "arquivo = 'https://s3-sa-east-1.amazonaws.com/ckan.saude.gov.br/PNI/vacina/uf/2021-05-23/uf%3DAC/part-00000-63e5bee2-3684-4286-b709-7fe85483b04e.c000.csv'"
   ]
  },
  {
   "cell_type": "code",
   "execution_count": 90,
   "metadata": {},
   "outputs": [
    {
     "name": "stdout",
     "output_type": "stream",
     "text": [
      "Quantidade de Vacinas Registradas 169071\n"
     ]
    }
   ],
   "source": [
    "# 1) Sua solução aqui\n",
    "df = pd.read_csv('registros de vacinacao covid ACRE.csv', sep=';')\n",
    "\n",
    "qtd_vacinas = len(df)\n",
    "print(\"Quantidade de Vacinas Registradas\", qtd_vacinas)\n"
   ]
  },
  {
   "cell_type": "code",
   "execution_count": 91,
   "metadata": {},
   "outputs": [
    {
     "data": {
      "text/html": [
       "<div>\n",
       "<style scoped>\n",
       "    .dataframe tbody tr th:only-of-type {\n",
       "        vertical-align: middle;\n",
       "    }\n",
       "\n",
       "    .dataframe tbody tr th {\n",
       "        vertical-align: top;\n",
       "    }\n",
       "\n",
       "    .dataframe thead th {\n",
       "        text-align: right;\n",
       "    }\n",
       "</style>\n",
       "<table border=\"1\" class=\"dataframe\">\n",
       "  <thead>\n",
       "    <tr style=\"text-align: right;\">\n",
       "      <th></th>\n",
       "      <th>document_id</th>\n",
       "      <th>paciente_id</th>\n",
       "      <th>paciente_idade</th>\n",
       "      <th>paciente_datanascimento</th>\n",
       "      <th>paciente_enumsexobiologico</th>\n",
       "      <th>paciente_racacor_codigo</th>\n",
       "      <th>paciente_racacor_valor</th>\n",
       "      <th>paciente_endereco_coibgemunicipio</th>\n",
       "      <th>paciente_endereco_copais</th>\n",
       "      <th>paciente_endereco_nmmunicipio</th>\n",
       "      <th>...</th>\n",
       "      <th>vacina_lote</th>\n",
       "      <th>vacina_fabricante_nome</th>\n",
       "      <th>vacina_fabricante_referencia</th>\n",
       "      <th>vacina_dataaplicacao</th>\n",
       "      <th>vacina_descricao_dose</th>\n",
       "      <th>vacina_codigo</th>\n",
       "      <th>vacina_nome</th>\n",
       "      <th>sistema_origem</th>\n",
       "      <th>data_importacao_rnds</th>\n",
       "      <th>id_sistema_origem</th>\n",
       "    </tr>\n",
       "  </thead>\n",
       "  <tbody>\n",
       "    <tr>\n",
       "      <th>0</th>\n",
       "      <td>b19cd280-474c-4c22-a35d-8c06bc04a4e0-i0b0</td>\n",
       "      <td>2e091c9a37d3f50d1d705fc80c6448c6fc69b44da9e936...</td>\n",
       "      <td>69</td>\n",
       "      <td>1951-12-28</td>\n",
       "      <td>F</td>\n",
       "      <td>3</td>\n",
       "      <td>PARDA</td>\n",
       "      <td>120050.0</td>\n",
       "      <td>10.0</td>\n",
       "      <td>SENA MADUREIRA</td>\n",
       "      <td>...</td>\n",
       "      <td>210052A</td>\n",
       "      <td>FUNDACAO BUTANTAN</td>\n",
       "      <td>Organization/61189445000156</td>\n",
       "      <td>2021-03-23</td>\n",
       "      <td>1ª Dose</td>\n",
       "      <td>86</td>\n",
       "      <td>Covid-19-Coronavac-Sinovac/Butantan</td>\n",
       "      <td>Novo PNI</td>\n",
       "      <td>2021-03-25T03:27:19.000Z</td>\n",
       "      <td>NaN</td>\n",
       "    </tr>\n",
       "    <tr>\n",
       "      <th>1</th>\n",
       "      <td>a1acc0b6-1cf6-4c4b-adcb-06b473a0faaf-i0b0</td>\n",
       "      <td>f4e17a9e5354cb45e223d85eda02fb2f76048c801675f5...</td>\n",
       "      <td>81</td>\n",
       "      <td>1939-11-22</td>\n",
       "      <td>M</td>\n",
       "      <td>3</td>\n",
       "      <td>PARDA</td>\n",
       "      <td>120040.0</td>\n",
       "      <td>10.0</td>\n",
       "      <td>RIO BRANCO</td>\n",
       "      <td>...</td>\n",
       "      <td>210110</td>\n",
       "      <td>FUNDACAO BUTANTAN</td>\n",
       "      <td>Organization/61189445000156</td>\n",
       "      <td>2021-04-29</td>\n",
       "      <td>2ª Dose</td>\n",
       "      <td>86</td>\n",
       "      <td>Covid-19-Coronavac-Sinovac/Butantan</td>\n",
       "      <td>Novo PNI</td>\n",
       "      <td>2021-04-30T16:03:14.000Z</td>\n",
       "      <td>NaN</td>\n",
       "    </tr>\n",
       "    <tr>\n",
       "      <th>2</th>\n",
       "      <td>af279a98-ba1f-47ea-8214-314a98040b0d-i0b0</td>\n",
       "      <td>6734b26bccf826130ebffa66575977bbe71477b12bcf42...</td>\n",
       "      <td>69</td>\n",
       "      <td>1951-08-14</td>\n",
       "      <td>M</td>\n",
       "      <td>4</td>\n",
       "      <td>AMARELA</td>\n",
       "      <td>120020.0</td>\n",
       "      <td>10.0</td>\n",
       "      <td>CRUZEIRO DO SUL</td>\n",
       "      <td>...</td>\n",
       "      <td>210135</td>\n",
       "      <td>FUNDACAO BUTANTAN</td>\n",
       "      <td>Organization/61189445000156</td>\n",
       "      <td>2021-04-16</td>\n",
       "      <td>1ª Dose</td>\n",
       "      <td>86</td>\n",
       "      <td>Covid-19-Coronavac-Sinovac/Butantan</td>\n",
       "      <td>Novo PNI</td>\n",
       "      <td>2021-04-16T15:54:39.000Z</td>\n",
       "      <td>NaN</td>\n",
       "    </tr>\n",
       "    <tr>\n",
       "      <th>3</th>\n",
       "      <td>4879308e-5050-46bb-b8e2-11fa5646a05c-i0b0</td>\n",
       "      <td>84a341fd350c1ba7117fccbb4d2df417bc0fac0fffac37...</td>\n",
       "      <td>51</td>\n",
       "      <td>1969-12-15</td>\n",
       "      <td>F</td>\n",
       "      <td>3</td>\n",
       "      <td>PARDA</td>\n",
       "      <td>120040.0</td>\n",
       "      <td>10.0</td>\n",
       "      <td>RIO BRANCO</td>\n",
       "      <td>...</td>\n",
       "      <td>202010040</td>\n",
       "      <td>FUNDACAO BUTANTAN</td>\n",
       "      <td>Organization/61189445000156</td>\n",
       "      <td>2021-02-19</td>\n",
       "      <td>2ª Dose</td>\n",
       "      <td>86</td>\n",
       "      <td>Covid-19-Coronavac-Sinovac/Butantan</td>\n",
       "      <td>Novo PNI</td>\n",
       "      <td>2021-03-10T14:40:54.000Z</td>\n",
       "      <td>NaN</td>\n",
       "    </tr>\n",
       "    <tr>\n",
       "      <th>4</th>\n",
       "      <td>000e911b-e3a4-4114-a735-d1f2e6e3797f-i0b0</td>\n",
       "      <td>c59571e19f368d4b0cf08cd3bcabb32e5cd8baad5340f6...</td>\n",
       "      <td>65</td>\n",
       "      <td>1955-11-21</td>\n",
       "      <td>M</td>\n",
       "      <td>3</td>\n",
       "      <td>PARDA</td>\n",
       "      <td>120040.0</td>\n",
       "      <td>10.0</td>\n",
       "      <td>RIO BRANCO</td>\n",
       "      <td>...</td>\n",
       "      <td>212VCD001ZVB</td>\n",
       "      <td>FUNDACAO OSWALDO CRUZ</td>\n",
       "      <td>Organization/33781055000135</td>\n",
       "      <td>2021-03-29</td>\n",
       "      <td>1ª Dose</td>\n",
       "      <td>85</td>\n",
       "      <td>Vacina Covid-19 - Covishield</td>\n",
       "      <td>Novo PNI</td>\n",
       "      <td>2021-04-03T19:44:28.000Z</td>\n",
       "      <td>NaN</td>\n",
       "    </tr>\n",
       "  </tbody>\n",
       "</table>\n",
       "<p>5 rows × 34 columns</p>\n",
       "</div>"
      ],
      "text/plain": [
       "                                 document_id  \\\n",
       "0  b19cd280-474c-4c22-a35d-8c06bc04a4e0-i0b0   \n",
       "1  a1acc0b6-1cf6-4c4b-adcb-06b473a0faaf-i0b0   \n",
       "2  af279a98-ba1f-47ea-8214-314a98040b0d-i0b0   \n",
       "3  4879308e-5050-46bb-b8e2-11fa5646a05c-i0b0   \n",
       "4  000e911b-e3a4-4114-a735-d1f2e6e3797f-i0b0   \n",
       "\n",
       "                                         paciente_id  paciente_idade  \\\n",
       "0  2e091c9a37d3f50d1d705fc80c6448c6fc69b44da9e936...              69   \n",
       "1  f4e17a9e5354cb45e223d85eda02fb2f76048c801675f5...              81   \n",
       "2  6734b26bccf826130ebffa66575977bbe71477b12bcf42...              69   \n",
       "3  84a341fd350c1ba7117fccbb4d2df417bc0fac0fffac37...              51   \n",
       "4  c59571e19f368d4b0cf08cd3bcabb32e5cd8baad5340f6...              65   \n",
       "\n",
       "  paciente_datanascimento paciente_enumsexobiologico  paciente_racacor_codigo  \\\n",
       "0              1951-12-28                          F                        3   \n",
       "1              1939-11-22                          M                        3   \n",
       "2              1951-08-14                          M                        4   \n",
       "3              1969-12-15                          F                        3   \n",
       "4              1955-11-21                          M                        3   \n",
       "\n",
       "  paciente_racacor_valor  paciente_endereco_coibgemunicipio  \\\n",
       "0                  PARDA                           120050.0   \n",
       "1                  PARDA                           120040.0   \n",
       "2                AMARELA                           120020.0   \n",
       "3                  PARDA                           120040.0   \n",
       "4                  PARDA                           120040.0   \n",
       "\n",
       "   paciente_endereco_copais paciente_endereco_nmmunicipio  ...   vacina_lote  \\\n",
       "0                      10.0                SENA MADUREIRA  ...       210052A   \n",
       "1                      10.0                    RIO BRANCO  ...        210110   \n",
       "2                      10.0               CRUZEIRO DO SUL  ...        210135   \n",
       "3                      10.0                    RIO BRANCO  ...     202010040   \n",
       "4                      10.0                    RIO BRANCO  ...  212VCD001ZVB   \n",
       "\n",
       "  vacina_fabricante_nome  vacina_fabricante_referencia vacina_dataaplicacao  \\\n",
       "0      FUNDACAO BUTANTAN   Organization/61189445000156           2021-03-23   \n",
       "1      FUNDACAO BUTANTAN   Organization/61189445000156           2021-04-29   \n",
       "2      FUNDACAO BUTANTAN   Organization/61189445000156           2021-04-16   \n",
       "3      FUNDACAO BUTANTAN   Organization/61189445000156           2021-02-19   \n",
       "4  FUNDACAO OSWALDO CRUZ   Organization/33781055000135           2021-03-29   \n",
       "\n",
       "   vacina_descricao_dose vacina_codigo                          vacina_nome  \\\n",
       "0                1ª Dose            86  Covid-19-Coronavac-Sinovac/Butantan   \n",
       "1                2ª Dose            86  Covid-19-Coronavac-Sinovac/Butantan   \n",
       "2                1ª Dose            86  Covid-19-Coronavac-Sinovac/Butantan   \n",
       "3                2ª Dose            86  Covid-19-Coronavac-Sinovac/Butantan   \n",
       "4                1ª Dose            85         Vacina Covid-19 - Covishield   \n",
       "\n",
       "   sistema_origem      data_importacao_rnds id_sistema_origem  \n",
       "0        Novo PNI  2021-03-25T03:27:19.000Z               NaN  \n",
       "1        Novo PNI  2021-04-30T16:03:14.000Z               NaN  \n",
       "2        Novo PNI  2021-04-16T15:54:39.000Z               NaN  \n",
       "3        Novo PNI  2021-03-10T14:40:54.000Z               NaN  \n",
       "4        Novo PNI  2021-04-03T19:44:28.000Z               NaN  \n",
       "\n",
       "[5 rows x 34 columns]"
      ]
     },
     "execution_count": 91,
     "metadata": {},
     "output_type": "execute_result"
    }
   ],
   "source": [
    "df.head()"
   ]
  },
  {
   "cell_type": "code",
   "execution_count": 55,
   "metadata": {},
   "outputs": [
    {
     "data": {
      "text/plain": [
       "174191"
      ]
     },
     "execution_count": 55,
     "metadata": {},
     "output_type": "execute_result"
    }
   ],
   "source": [
    "df.shape[0]"
   ]
  },
  {
   "cell_type": "code",
   "execution_count": 57,
   "metadata": {},
   "outputs": [
    {
     "data": {
      "text/plain": [
       "125009"
      ]
     },
     "execution_count": 57,
     "metadata": {},
     "output_type": "execute_result"
    }
   ],
   "source": [
    "# 2) \n",
    "df['paciente_id'].nunique()"
   ]
  },
  {
   "cell_type": "code",
   "execution_count": 70,
   "metadata": {},
   "outputs": [
    {
     "data": {
      "text/plain": [
       "124185"
      ]
     },
     "execution_count": 70,
     "metadata": {},
     "output_type": "execute_result"
    }
   ],
   "source": [
    "# 3) \n",
    "primeira_dose = df['vacina_descricao_dose'].unique()[0]\n",
    "df['paciente_id'].loc[df['vacina_descricao_dose'] == primeira_dose].nunique()"
   ]
  },
  {
   "cell_type": "code",
   "execution_count": 72,
   "metadata": {},
   "outputs": [
    {
     "data": {
      "text/plain": [
       "124185"
      ]
     },
     "execution_count": 72,
     "metadata": {},
     "output_type": "execute_result"
    }
   ],
   "source": [
    "# 3) solução alternativa\n",
    "primeira_dose = df['vacina_descricao_dose'].unique()[0]\n",
    "df_primeira_dose = df[df['vacina_descricao_dose'] == primeira_dose]\n",
    "df_primeira_dose['paciente_id'].nunique()"
   ]
  },
  {
   "cell_type": "code",
   "execution_count": 79,
   "metadata": {},
   "outputs": [
    {
     "data": {
      "text/plain": [
       "49"
      ]
     },
     "execution_count": 79,
     "metadata": {},
     "output_type": "execute_result"
    }
   ],
   "source": [
    "# 4) \n",
    "df_menor = df[df[\"paciente_idade\"]<18]\n",
    "df_menor['paciente_id'].nunique()"
   ]
  },
  {
   "cell_type": "code",
   "execution_count": 84,
   "metadata": {},
   "outputs": [
    {
     "data": {
      "text/plain": [
       "42"
      ]
     },
     "execution_count": 84,
     "metadata": {},
     "output_type": "execute_result"
    }
   ],
   "source": [
    "# 5)\n",
    "df['estabelecimento_razaosocial'].nunique()"
   ]
  },
  {
   "cell_type": "markdown",
   "metadata": {},
   "source": [
    "## 4) Vacinação II\n",
    "Gere um *DataFrame* que contenha somente os estabelecimentos que aplicaram vcinas a menores de 18 anos. Nesse *DataFrame* devem conter somente os dados dos estabelecimentos, mais uma coluna sendo a quantidade de vacinas que o estabelecimento aplicou a menores de 18 anos.  \n",
    "  \n",
    "1. crie uma cópia do *DataFrame* original, contendo somente os registros de vacinas realizadas a menores de 18 anos.  \n",
    "2. crie uma lista das colunas desse *DataFrame* com o atributo de *DataFrame* **.columns()**  \n",
    "3. Nesse *DataFrame* faça uma contagem do campo ```vacina_categoria_nome```.\n",
    "3. a partir da lista de colunas, escolha somente aquelas que são referentes ao estabelecimento, faça uma lista com esses valores.  \n",
    "4. usando o método *.loc*, selecione somente essas variáveis  \n",
    "5. Aplique o método **.drop_duplicates** e crie uma lista com uma linha para cada estabelecimento, com os dados do estabelecimento  "
   ]
  },
  {
   "cell_type": "code",
   "execution_count": 101,
   "metadata": {},
   "outputs": [],
   "source": [
    "# 1) \n",
    "df_menor = df[df[\"paciente_idade\"]<18].copy()"
   ]
  },
  {
   "cell_type": "code",
   "execution_count": 102,
   "metadata": {},
   "outputs": [
    {
     "data": {
      "text/plain": [
       "Index(['document_id', 'paciente_id', 'paciente_idade',\n",
       "       'paciente_datanascimento', 'paciente_enumsexobiologico',\n",
       "       'paciente_racacor_codigo', 'paciente_racacor_valor',\n",
       "       'paciente_endereco_coibgemunicipio', 'paciente_endereco_copais',\n",
       "       'paciente_endereco_nmmunicipio', 'paciente_endereco_nmpais',\n",
       "       'paciente_endereco_uf', 'paciente_endereco_cep',\n",
       "       'paciente_nacionalidade_enumnacionalidade', 'estabelecimento_valor',\n",
       "       'estabelecimento_razaosocial', 'estalecimento_nofantasia',\n",
       "       'estabelecimento_municipio_codigo', 'estabelecimento_municipio_nome',\n",
       "       'estabelecimento_uf', 'vacina_grupoatendimento_codigo',\n",
       "       'vacina_grupoatendimento_nome', 'vacina_categoria_codigo',\n",
       "       'vacina_categoria_nome', 'vacina_lote', 'vacina_fabricante_nome',\n",
       "       'vacina_fabricante_referencia', 'vacina_dataaplicacao',\n",
       "       'vacina_descricao_dose', 'vacina_codigo', 'vacina_nome',\n",
       "       'sistema_origem', 'data_importacao_rnds', 'id_sistema_origem'],\n",
       "      dtype='object')"
      ]
     },
     "execution_count": 102,
     "metadata": {},
     "output_type": "execute_result"
    }
   ],
   "source": [
    "# 2) \n",
    "df_menor.columns"
   ]
  },
  {
   "cell_type": "code",
   "execution_count": 104,
   "metadata": {},
   "outputs": [
    {
     "data": {
      "text/plain": [
       "Povos Indígenas                     33\n",
       "Povos e Comunidades Tradicionais     9\n",
       "Trabalhadores de Saúde               9\n",
       "Comorbidades                         2\n",
       "Faixa Etária                         1\n",
       "Name: vacina_categoria_nome, dtype: int64"
      ]
     },
     "execution_count": 104,
     "metadata": {},
     "output_type": "execute_result"
    }
   ],
   "source": [
    "# 3)\n",
    "df_menor['vacina_categoria_nome'].value_counts()"
   ]
  },
  {
   "cell_type": "code",
   "execution_count": 118,
   "metadata": {},
   "outputs": [],
   "source": [
    "# 4)\n",
    "lista_variaveis = ['estabelecimento_valor',\n",
    "       'estabelecimento_razaosocial', 'estalecimento_nofantasia',\n",
    "       'estabelecimento_municipio_codigo', 'estabelecimento_municipio_nome',\n",
    "       'estabelecimento_uf']\n",
    "df_menor_lista = df_menor.loc[:,lista_variaveis]"
   ]
  },
  {
   "cell_type": "code",
   "execution_count": 119,
   "metadata": {},
   "outputs": [],
   "source": [
    "# 5)\n",
    "df_menor_lista = df_menor_lista.drop_duplicates()\n",
    "df_menor_lista.shape"
   ]
  }
 ],
 "metadata": {
  "kernelspec": {
   "display_name": "Python 3 (ipykernel)",
   "language": "python",
   "name": "python3"
  },
  "language_info": {
   "codemirror_mode": {
    "name": "ipython",
    "version": 3
   },
   "file_extension": ".py",
   "mimetype": "text/x-python",
   "name": "python",
   "nbconvert_exporter": "python",
   "pygments_lexer": "ipython3",
   "version": "3.10.9"
  },
  "toc": {
   "base_numbering": 1,
   "nav_menu": {},
   "number_sections": false,
   "sideBar": true,
   "skip_h1_title": true,
   "title_cell": "Índice",
   "title_sidebar": "Conteúdo",
   "toc_cell": false,
   "toc_position": {},
   "toc_section_display": true,
   "toc_window_display": false
  },
  "varInspector": {
   "cols": {
    "lenName": 16,
    "lenType": 16,
    "lenVar": 40
   },
   "kernels_config": {
    "python": {
     "delete_cmd_postfix": "",
     "delete_cmd_prefix": "del ",
     "library": "var_list.py",
     "varRefreshCmd": "print(var_dic_list())"
    },
    "r": {
     "delete_cmd_postfix": ") ",
     "delete_cmd_prefix": "rm(",
     "library": "var_list.r",
     "varRefreshCmd": "cat(var_dic_list()) "
    }
   },
   "types_to_exclude": [
    "module",
    "function",
    "builtin_function_or_method",
    "instance",
    "_Feature"
   ],
   "window_display": false
  }
 },
 "nbformat": 4,
 "nbformat_minor": 4
}
