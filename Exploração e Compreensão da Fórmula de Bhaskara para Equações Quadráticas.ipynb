{
 "cells": [
  {
   "cell_type": "markdown",
   "id": "3c08c7b2",
   "metadata": {},
   "source": [
    "<h1 style=\"text-align: left; font-size: 24px; font-weight: bold; color: darkblue; font-family: Arial;\">Fórmula de Bhaskara:</h1>\n",
    "<br>\n",
    "\n",
    "<span style=\"font-family: Arial;\">\n",
    "A solução para uma função de segundo grau depende das suas raízes (valores de x). Como já vimos, os coeficientes precisam ser números reais e o angular diferente de zero. Sendo assim, temos a seguinte fórmula de Bhaskara:\n",
    "</span>\n",
    "<br><br>\n",
    "\n",
    "$$\n",
    "\\Large\n",
    "x = \\frac{{-b \\pm \\sqrt{{b^2 - 4ac}}}}{{2a}}\n",
    "$$\n",
    "<br>\n",
    "<center><i><span style=\"font-family: Arial;\">Fórmula de Bhaskara</span></i></center>\n",
    "<br>\n",
    "\n",
    "<span style=\"font-family: Arial;\">\n",
    "    Para melhor compreensão o seu cálculo é dividido em duas partes: discriminante da equação e operações para determinar as raízes.\n",
    "</span>\n",
    "\n",
    "**Discriminante**\n",
    "\n",
    "<br>\n",
    "<span style=\"font-family: Arial;\">\n",
    "    A figura dentro da raiz na fórmula de Bhaskara é nomeada de discriminante. Seu símbolo é a letra grega delta e apresenta a determinada fórmula:\n",
    "</span>\n",
    "\n",
    "$$\n",
    "\\Large\n",
    "\\Delta = b^2 - 4.a.c\n",
    "$$\n",
    "<br>\n",
    "<center><i><span style=\"font-family: Arial;\">Fórmula da discriminante</span></i></center>\n",
    "<br>\n",
    "<span style=\"font-family: Arial;\">\n",
    "\n",
    "* Se o delta for maior que zero, a equação terá dois valores reais e distintos. \n",
    "\n",
    "* Se o delta for igual a zero, a equação terá somente um valor real ou dois resultados iguais. \n",
    "\n",
    "* Se o delta for menor que zero, a equação não possuirá valores reais. \n",
    "</span>"
   ]
  }
 ],
 "metadata": {
  "kernelspec": {
   "display_name": "Python 3 (ipykernel)",
   "language": "python",
   "name": "python3"
  },
  "language_info": {
   "codemirror_mode": {
    "name": "ipython",
    "version": 3
   },
   "file_extension": ".py",
   "mimetype": "text/x-python",
   "name": "python",
   "nbconvert_exporter": "python",
   "pygments_lexer": "ipython3",
   "version": "3.11.3"
  }
 },
 "nbformat": 4,
 "nbformat_minor": 5
}
