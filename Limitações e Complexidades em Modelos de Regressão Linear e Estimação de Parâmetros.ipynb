{
 "cells": [
  {
   "cell_type": "markdown",
   "metadata": {},
   "source": [
    "# Cálculo - Tarefa 01\n",
    "\n",
    "<b> 1. Marque quais desses métodos/algoritmos muito populares em ciência de dados são baseados no uso de derivada:</b>\n",
    "\n",
    "    1. Método Mínimos Quadrados\n",
    "    2. Gradiente descendente\n",
    "    3. Newton Raphson\n",
    "    4. CART (Árvore de decisão)"
   ]
  },
  {
   "cell_type": "markdown",
   "metadata": {},
   "source": [
    "> Método Mínimos Quadrados\n",
    "\n",
    "* Neste método é utilizado cálculo diferencial para encontrar os coeficientes que minimizam a soma dos quadrados das diferenças entre valores observados e previstos.\n",
    "\n",
    "> Gradiente Descendente\n",
    "\n",
    "* Neste método é empregado o cálculo de derivadas para otimizar funções iterativamente, ajustando os parâmetros na direção oposto ao gradiente.\n",
    "\n",
    "> Newton Raphson\n",
    "\n",
    "* Neste algoritmo iterativo, as derivadas são utilizadas para encontrar raízes de equações ou otimizar funções, refinando aproximações iterativamente.\n",
    "\n",
    "> <span style=\"color:red\">CART (Árvore de Decisão)</span>\n",
    "\n",
    "* Geralmente neste algoritmo <b>NÃO SÃO UTILIZADOS DERIVADAS</b>, por não depender explicitamente delas, a construção de árvores é baseada em divisões recursivas de dados por critérios como impureza ou redução de erro."
   ]
  },
  {
   "cell_type": "markdown",
   "metadata": {},
   "source": [
    "<b>2. Dada uma base de dados com uma variável resposta $y$ e um conjunto de variáveis explicativas. Considere uma estrutura de um modelo de regressão. Explique com suas palavras por que não é possível obter parâmetros que forneçam um erro quadrático médio (EQM) menor que o obtido com estimadores de mínimos quadrados.</b>"
   ]
  },
  {
   "cell_type": "markdown",
   "metadata": {},
   "source": [
    "> Os estimadores de mínimos quadrados buscam encontrar a melhor relação linear entre as variáveis, mas existem situações em que não é possível obter parâmetros que reduzam o erro quadrático médio abaixo do obtido pelos estimadores de mínimos quadrados, devido a limitação dos modelos lineares de não serem capazes de capturar relações não lineares, os ruidos nos dados criam um limite para a precisão, os modelos mais complexos podem levar a ajustes excessivos e também os dados limitados ou de baixa qualidade acabam afetando a capacidade de reduzir o estimador de mínimos quadrados. O EMQ já busca o melhor ajuste linear possível e existem limitações naturais para reduzir ainda mais o EQM."
   ]
  }
 ],
 "metadata": {
  "kernelspec": {
   "display_name": "Python 3 (ipykernel)",
   "language": "python",
   "name": "python3"
  },
  "language_info": {
   "codemirror_mode": {
    "name": "ipython",
    "version": 3
   },
   "file_extension": ".py",
   "mimetype": "text/x-python",
   "name": "python",
   "nbconvert_exporter": "python",
   "pygments_lexer": "ipython3",
   "version": "3.11.3"
  },
  "toc": {
   "base_numbering": 1,
   "nav_menu": {},
   "number_sections": true,
   "sideBar": true,
   "skip_h1_title": true,
   "title_cell": "Índice",
   "title_sidebar": "Conteúdo",
   "toc_cell": false,
   "toc_position": {},
   "toc_section_display": true,
   "toc_window_display": false
  },
  "varInspector": {
   "cols": {
    "lenName": 16,
    "lenType": 16,
    "lenVar": 40
   },
   "kernels_config": {
    "python": {
     "delete_cmd_postfix": "",
     "delete_cmd_prefix": "del ",
     "library": "var_list.py",
     "varRefreshCmd": "print(var_dic_list())"
    },
    "r": {
     "delete_cmd_postfix": ") ",
     "delete_cmd_prefix": "rm(",
     "library": "var_list.r",
     "varRefreshCmd": "cat(var_dic_list()) "
    }
   },
   "types_to_exclude": [
    "module",
    "function",
    "builtin_function_or_method",
    "instance",
    "_Feature"
   ],
   "window_display": false
  }
 },
 "nbformat": 4,
 "nbformat_minor": 4
}
