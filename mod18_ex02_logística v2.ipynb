{
 "cells": [
  {
   "cell_type": "markdown",
   "metadata": {},
   "source": [
    "# Regressão Logística I\n",
    "## Tarefa II\n",
    "\n",
    "Vamos trabalhar com a mesma base do exercício anterior, mas vamos aprofundar um pouco mais a nossa regressão."
   ]
  },
  {
   "cell_type": "code",
   "execution_count": 62,
   "metadata": {},
   "outputs": [],
   "source": [
    "import pandas as pd\n",
    "import seaborn as sns\n",
    "import matplotlib.pyplot as plt\n",
    "import numpy as np\n",
    "import statsmodels.api as sm\n",
    "import statsmodels.formula.api as smf\n",
    "\n",
    "from sklearn.linear_model import LogisticRegression\n",
    "from sklearn.metrics import accuracy_score, roc_auc_score\n",
    "from sklearn.model_selection import train_test_split"
   ]
  },
  {
   "cell_type": "code",
   "execution_count": 64,
   "metadata": {
    "tags": []
   },
   "outputs": [
    {
     "data": {
      "text/html": [
       "<div>\n",
       "<style scoped>\n",
       "    .dataframe tbody tr th:only-of-type {\n",
       "        vertical-align: middle;\n",
       "    }\n",
       "\n",
       "    .dataframe tbody tr th {\n",
       "        vertical-align: top;\n",
       "    }\n",
       "\n",
       "    .dataframe thead th {\n",
       "        text-align: right;\n",
       "    }\n",
       "</style>\n",
       "<table border=\"1\" class=\"dataframe\">\n",
       "  <thead>\n",
       "    <tr style=\"text-align: right;\">\n",
       "      <th></th>\n",
       "      <th>age</th>\n",
       "      <th>sex</th>\n",
       "      <th>cp</th>\n",
       "      <th>trestbps</th>\n",
       "      <th>chol</th>\n",
       "      <th>fbs</th>\n",
       "      <th>restecg</th>\n",
       "      <th>thalach</th>\n",
       "      <th>exang</th>\n",
       "      <th>oldpeak</th>\n",
       "      <th>slope</th>\n",
       "      <th>ca</th>\n",
       "      <th>thal</th>\n",
       "      <th>num</th>\n",
       "      <th>flag_doente</th>\n",
       "    </tr>\n",
       "  </thead>\n",
       "  <tbody>\n",
       "    <tr>\n",
       "      <th>0</th>\n",
       "      <td>63.0</td>\n",
       "      <td>1.0</td>\n",
       "      <td>1.0</td>\n",
       "      <td>145.0</td>\n",
       "      <td>233.0</td>\n",
       "      <td>1.0</td>\n",
       "      <td>2.0</td>\n",
       "      <td>150.0</td>\n",
       "      <td>0.0</td>\n",
       "      <td>2.3</td>\n",
       "      <td>3.0</td>\n",
       "      <td>0.0</td>\n",
       "      <td>6.0</td>\n",
       "      <td>0</td>\n",
       "      <td>0</td>\n",
       "    </tr>\n",
       "    <tr>\n",
       "      <th>1</th>\n",
       "      <td>67.0</td>\n",
       "      <td>1.0</td>\n",
       "      <td>4.0</td>\n",
       "      <td>160.0</td>\n",
       "      <td>286.0</td>\n",
       "      <td>0.0</td>\n",
       "      <td>2.0</td>\n",
       "      <td>108.0</td>\n",
       "      <td>1.0</td>\n",
       "      <td>1.5</td>\n",
       "      <td>2.0</td>\n",
       "      <td>3.0</td>\n",
       "      <td>3.0</td>\n",
       "      <td>2</td>\n",
       "      <td>1</td>\n",
       "    </tr>\n",
       "    <tr>\n",
       "      <th>2</th>\n",
       "      <td>67.0</td>\n",
       "      <td>1.0</td>\n",
       "      <td>4.0</td>\n",
       "      <td>120.0</td>\n",
       "      <td>229.0</td>\n",
       "      <td>0.0</td>\n",
       "      <td>2.0</td>\n",
       "      <td>129.0</td>\n",
       "      <td>1.0</td>\n",
       "      <td>2.6</td>\n",
       "      <td>2.0</td>\n",
       "      <td>2.0</td>\n",
       "      <td>7.0</td>\n",
       "      <td>1</td>\n",
       "      <td>1</td>\n",
       "    </tr>\n",
       "    <tr>\n",
       "      <th>3</th>\n",
       "      <td>37.0</td>\n",
       "      <td>1.0</td>\n",
       "      <td>3.0</td>\n",
       "      <td>130.0</td>\n",
       "      <td>250.0</td>\n",
       "      <td>0.0</td>\n",
       "      <td>0.0</td>\n",
       "      <td>187.0</td>\n",
       "      <td>0.0</td>\n",
       "      <td>3.5</td>\n",
       "      <td>3.0</td>\n",
       "      <td>0.0</td>\n",
       "      <td>3.0</td>\n",
       "      <td>0</td>\n",
       "      <td>0</td>\n",
       "    </tr>\n",
       "    <tr>\n",
       "      <th>4</th>\n",
       "      <td>41.0</td>\n",
       "      <td>0.0</td>\n",
       "      <td>2.0</td>\n",
       "      <td>130.0</td>\n",
       "      <td>204.0</td>\n",
       "      <td>0.0</td>\n",
       "      <td>2.0</td>\n",
       "      <td>172.0</td>\n",
       "      <td>0.0</td>\n",
       "      <td>1.4</td>\n",
       "      <td>1.0</td>\n",
       "      <td>0.0</td>\n",
       "      <td>3.0</td>\n",
       "      <td>0</td>\n",
       "      <td>0</td>\n",
       "    </tr>\n",
       "  </tbody>\n",
       "</table>\n",
       "</div>"
      ],
      "text/plain": [
       "    age  sex   cp  trestbps   chol  fbs  restecg  thalach  exang  oldpeak  \\\n",
       "0  63.0  1.0  1.0     145.0  233.0  1.0      2.0    150.0    0.0      2.3   \n",
       "1  67.0  1.0  4.0     160.0  286.0  0.0      2.0    108.0    1.0      1.5   \n",
       "2  67.0  1.0  4.0     120.0  229.0  0.0      2.0    129.0    1.0      2.6   \n",
       "3  37.0  1.0  3.0     130.0  250.0  0.0      0.0    187.0    0.0      3.5   \n",
       "4  41.0  0.0  2.0     130.0  204.0  0.0      2.0    172.0    0.0      1.4   \n",
       "\n",
       "   slope   ca thal  num  flag_doente  \n",
       "0    3.0  0.0  6.0    0            0  \n",
       "1    2.0  3.0  3.0    2            1  \n",
       "2    2.0  2.0  7.0    1            1  \n",
       "3    3.0  0.0  3.0    0            0  \n",
       "4    1.0  0.0  3.0    0            0  "
      ]
     },
     "execution_count": 64,
     "metadata": {},
     "output_type": "execute_result"
    }
   ],
   "source": [
    "# Caminho local do arquivo\n",
    "data = 'processed.cleveland.data'\n",
    "\n",
    "# Ler o arquivo CSV\n",
    "df = pd.read_csv(data, \n",
    "                 names=['age', 'sex', 'cp', 'trestbps', 'chol', 'fbs', 'restecg',\n",
    "                        'thalach', 'exang', 'oldpeak', 'slope', 'ca', 'thal', 'num'])\n",
    "\n",
    "df['flag_doente'] = (df['num']!=0).astype('int64')\n",
    "df.head()"
   ]
  },
  {
   "cell_type": "markdown",
   "metadata": {},
   "source": [
    "A descrição das variáveis está recortada abaixo:\n",
    "- age: idade do paciente em anos\n",
    "- sex: sexo (1 = male; 0 = female)  \n",
    "- cp: tipo de dor no peito\n",
    "  - 1: angina típica\n",
    "  - 2: angina atípica\n",
    "  - 3: dor não-angina\n",
    "  - 4: assintomático\n",
    "- trestbps: pressão sanguínea em repouso (em mm Hg na admissão ao hospital\n",
    "- chol: colesterol sérico em mg/dl\n",
    "- fbs: (açúcar no sangue em jejum > 120 mg/dl) (1 = True; 0 = False)\n",
    "- restecg: resultados eletrocardiográficos em repouso\n",
    "  - 0: normal\n",
    "  - 1: tendo anormalidade da onda ST-T (Inversões de onda T e / ou ST com elevação ou depressão de > 0.05 mV)\n",
    "  - 2: mostrando hipertrofia ventricular esquerda provável ou definitiva pelos critérios de Estes\n",
    "- thalach: frequência cardíaca máxima alcançada\n",
    "- exang: angina induzida por exercício(1 = sim; 0 = não)\n",
    "- oldpeak = Depressão de ST induzida por exercício em relação ao repouso\n",
    "- slope: Depressão de ST induzida por exercício em relação ao repouso\n",
    "  - 1: inclinação ascendente\n",
    "  - 2: estável\n",
    "  - 3: inclinação descendente\n",
    "- ca: número de vasos principais (0-3) coloridos por fluorosopia\n",
    "- thal: 3 = normal; 6 = defeito corrigido; 7 = defeito reversível\n",
    "- num: diagnóstico de doença cardíaga (status de doença angiográfica)"
   ]
  },
  {
   "cell_type": "code",
   "execution_count": 65,
   "metadata": {},
   "outputs": [
    {
     "name": "stdout",
     "output_type": "stream",
     "text": [
      "<class 'pandas.core.frame.DataFrame'>\n",
      "RangeIndex: 303 entries, 0 to 302\n",
      "Data columns (total 15 columns):\n",
      " #   Column       Non-Null Count  Dtype  \n",
      "---  ------       --------------  -----  \n",
      " 0   age          303 non-null    float64\n",
      " 1   sex          303 non-null    float64\n",
      " 2   cp           303 non-null    float64\n",
      " 3   trestbps     303 non-null    float64\n",
      " 4   chol         303 non-null    float64\n",
      " 5   fbs          303 non-null    float64\n",
      " 6   restecg      303 non-null    float64\n",
      " 7   thalach      303 non-null    float64\n",
      " 8   exang        303 non-null    float64\n",
      " 9   oldpeak      303 non-null    float64\n",
      " 10  slope        303 non-null    float64\n",
      " 11  ca           303 non-null    object \n",
      " 12  thal         303 non-null    object \n",
      " 13  num          303 non-null    int64  \n",
      " 14  flag_doente  303 non-null    int64  \n",
      "dtypes: float64(11), int64(2), object(2)\n",
      "memory usage: 35.6+ KB\n"
     ]
    }
   ],
   "source": [
    "df.info()"
   ]
  },
  {
   "cell_type": "markdown",
   "metadata": {},
   "source": [
    "1. Considere o script que monta a análise bivariada que você fez na tarefa anterior. Transforme esse script em uma função, que deve:\n",
    "- Ter como parâmetros de entrada:\n",
    "    - Um *dataframe* contendo os dados a serem avaliados\n",
    "    - Um *string* contendo o nome da variável resposta\n",
    "    - Um *string* contendo o nome da variável explicativa\n",
    "- E deve retornar um *dataframe* com os dados da bivariada. \n",
    "**Monte** a mesma bivariada pelo menos três variáveis qualitativas do *data-frame*. Qual delas parece discriminar mais o risco?"
   ]
  },
  {
   "cell_type": "code",
   "execution_count": 66,
   "metadata": {},
   "outputs": [
    {
     "name": "stdout",
     "output_type": "stream",
     "text": [
      "     Não Doente  Doente  Total  Quantidade Média de Doentes  Odds  Odds Ratio  \\\n",
      "sex                                                                             \n",
      "0.0          72      25     97                         0.26  0.35        0.41   \n",
      "1.0          92     114    206                         0.55  1.24        1.46   \n",
      "All         164     139    303                         0.46  0.85        1.00   \n",
      "\n",
      "     Logito   WOE  \n",
      "sex                \n",
      "0.0   -1.05 -0.89  \n",
      "1.0    0.22  0.38  \n",
      "All   -0.16  0.00  \n"
     ]
    }
   ],
   "source": [
    "def bivariada(df, var_resposta, var_explicativa):\n",
    "    # Criando uma tabela de contingência (crosstab)\n",
    "    tab = pd.crosstab(df[var_explicativa], df[var_resposta], margins=True)\n",
    "    tab.columns = ['Não Doente', 'Doente', 'Total']\n",
    "    tab['Quantidade Média de Doentes'] = (tab['Doente'] / tab['Total']).round(2)\n",
    "    tab['Odds'] = (tab['Doente'] / tab['Não Doente']).round(2)\n",
    "\n",
    "    # Calculando o Odds Ratio usando o total como referência\n",
    "    tab['Odds Ratio'] = (tab['Odds'] / tab.loc['All', 'Odds']).round(2)\n",
    "\n",
    "    # Calculando o Logito e substitui -inf por 0\n",
    "    tab['Logito'] = tab['Odds'].apply(lambda x: np.log(x) if x > 0 else 0).replace(-np.inf, 0).round(2)\n",
    "\n",
    "    # Calculando o Weight of Evidence (WOE) e substitui -inf por 0\n",
    "    tab['WOE'] = tab['Odds Ratio'].apply(lambda x: np.log(x) if x > 0 else 0).replace(-np.inf, 0).round(2)\n",
    "\n",
    "    return tab\n",
    "\n",
    "# 'flag_doente' é a variável resposta\n",
    "# 'sex' é uma das variáveis explicativas qualitativas\n",
    "bivariada_result = bivariada(df, 'flag_doente', 'sex')\n",
    "print(bivariada_result)"
   ]
  },
  {
   "cell_type": "code",
   "execution_count": 67,
   "metadata": {},
   "outputs": [
    {
     "name": "stdout",
     "output_type": "stream",
     "text": [
      "Análise Bivariada para sex\n",
      "     Não Doente  Doente  Total  Quantidade Média de Doentes  Odds  Odds Ratio  \\\n",
      "sex                                                                             \n",
      "0.0          72      25     97                         0.26  0.35        0.41   \n",
      "1.0          92     114    206                         0.55  1.24        1.46   \n",
      "All         164     139    303                         0.46  0.85        1.00   \n",
      "\n",
      "     Logito   WOE  \n",
      "sex                \n",
      "0.0   -1.05 -0.89  \n",
      "1.0    0.22  0.38  \n",
      "All   -0.16  0.00  \n",
      "\n",
      "Análise Bivariada para cp\n",
      "     Não Doente  Doente  Total  Quantidade Média de Doentes  Odds  Odds Ratio  \\\n",
      "cp                                                                              \n",
      "1.0          16       7     23                         0.30  0.44        0.52   \n",
      "2.0          41       9     50                         0.18  0.22        0.26   \n",
      "3.0          68      18     86                         0.21  0.26        0.31   \n",
      "4.0          39     105    144                         0.73  2.69        3.16   \n",
      "All         164     139    303                         0.46  0.85        1.00   \n",
      "\n",
      "     Logito   WOE  \n",
      "cp                 \n",
      "1.0   -0.82 -0.65  \n",
      "2.0   -1.51 -1.35  \n",
      "3.0   -1.35 -1.17  \n",
      "4.0    0.99  1.15  \n",
      "All   -0.16  0.00  \n",
      "\n",
      "Análise Bivariada para fbs\n",
      "     Não Doente  Doente  Total  Quantidade Média de Doentes  Odds  Odds Ratio  \\\n",
      "fbs                                                                             \n",
      "0.0         141     117    258                         0.45  0.83        0.98   \n",
      "1.0          23      22     45                         0.49  0.96        1.13   \n",
      "All         164     139    303                         0.46  0.85        1.00   \n",
      "\n",
      "     Logito   WOE  \n",
      "fbs                \n",
      "0.0   -0.19 -0.02  \n",
      "1.0   -0.04  0.12  \n",
      "All   -0.16  0.00  \n",
      "\n"
     ]
    }
   ],
   "source": [
    "# Calculando a análise bivariada para várias variáveis explicativas\n",
    "for var in ['sex', 'cp', 'fbs']:\n",
    "    print(f\"Análise Bivariada para {var}\")\n",
    "    print(bivariada(df, 'flag_doente', var))\n",
    "    print()"
   ]
  },
  {
   "cell_type": "markdown",
   "metadata": {},
   "source": [
    "2. Monte uma função semelhante para categorizar variáveis quantitativas contínuas (com muitas categorias) como ```age```.  \n",
    "    Além dos mesmos parâmetros da função anterior, defina mais um parâmetro como número de categorias que você deseja quebrar. Defina um valor '*default*' de 5 grupos para este parâmetro.  "
   ]
  },
  {
   "cell_type": "code",
   "execution_count": 68,
   "metadata": {},
   "outputs": [
    {
     "name": "stdout",
     "output_type": "stream",
     "text": [
      "         Não Doente  Doente  Total  Quantidade Média de Doentes  Odds  \\\n",
      "age_cat                                                                 \n",
      "1                 8       3     11                         0.27  0.38   \n",
      "2                50      21     71                         0.30  0.42   \n",
      "3                56      41     97                         0.42  0.73   \n",
      "4                40      67    107                         0.63  1.68   \n",
      "5                10       7     17                         0.41  0.70   \n",
      "All             164     139    303                         0.46  0.85   \n",
      "\n",
      "         Odds Ratio  Logito   WOE  \n",
      "age_cat                            \n",
      "1              0.45   -0.97 -0.80  \n",
      "2              0.49   -0.87 -0.71  \n",
      "3              0.86   -0.31 -0.15  \n",
      "4              1.98    0.52  0.68  \n",
      "5              0.82   -0.36 -0.20  \n",
      "All            1.00   -0.16  0.00  \n"
     ]
    }
   ],
   "source": [
    "def bivariada_quantitativa(df, var_resposta, var_explicativa, num_grupos=5):\n",
    "    # Categorizando a variável quantitativa em 'num_grupos' grupos\n",
    "    df[var_explicativa + '_cat'] = pd.cut(df[var_explicativa], bins=num_grupos, labels=[str(i+1) for i in range(num_grupos)])\n",
    "\n",
    "    # Realizando a análise bivariada para a variável categorizada\n",
    "    tab = pd.crosstab(df[var_explicativa + '_cat'], df[var_resposta], margins=True)\n",
    "    tab.columns = ['Não Doente', 'Doente', 'Total']\n",
    "    tab['Quantidade Média de Doentes'] = (tab['Doente'] / tab['Total']).round(2)\n",
    "    tab['Odds'] = (tab['Doente'] / tab['Não Doente']).round(2)\n",
    "\n",
    "    # Calculando o Odds Ratio usando o total como referência\n",
    "    tab['Odds Ratio'] = (tab['Odds'] / tab.loc['All', 'Odds']).round(2)\n",
    "\n",
    "    # Calculando o Logito e substitui -inf por 0\n",
    "    tab['Logito'] = tab['Odds'].apply(lambda x: np.log(x) if x > 0 else 0).replace(-np.inf, 0).round(2)\n",
    "\n",
    "    # Calculando o Weight of Evidence (WOE) e substitui -inf por 0\n",
    "    tab['WOE'] = tab['Odds Ratio'].apply(lambda x: np.log(x) if x > 0 else 0).replace(-np.inf, 0).round(2)\n",
    "\n",
    "    # Removendo a coluna temporária criada para categorização\n",
    "    df.drop([var_explicativa + '_cat'], axis=1, inplace=True)\n",
    "\n",
    "    return tab\n",
    "\n",
    "# Uso da função com a variável 'age' e 5 grupos\n",
    "bivariada_result = bivariada_quantitativa(df, 'flag_doente', 'age')\n",
    "print(bivariada_result)"
   ]
  },
  {
   "cell_type": "markdown",
   "metadata": {},
   "source": [
    "3. Construa um modelo de regressão logística com as variáveis qualitativas: ```sex + cp +  trestbps``` e com a variável quantitativa ```age```.\n",
    "\n",
    "**Interprete os parâmetros.**"
   ]
  },
  {
   "cell_type": "code",
   "execution_count": 69,
   "metadata": {
    "scrolled": false
   },
   "outputs": [
    {
     "name": "stdout",
     "output_type": "stream",
     "text": [
      "Optimization terminated successfully.\n",
      "         Current function value: 0.510076\n",
      "         Iterations 6\n",
      "                           Logit Regression Results                           \n",
      "==============================================================================\n",
      "Dep. Variable:            flag_doente   No. Observations:                  303\n",
      "Model:                          Logit   Df Residuals:                      298\n",
      "Method:                           MLE   Df Model:                            4\n",
      "Date:                Mon, 28 Aug 2023   Pseudo R-squ.:                  0.2605\n",
      "Time:                        20:37:50   Log-Likelihood:                -154.55\n",
      "converged:                       True   LL-Null:                       -208.99\n",
      "Covariance Type:            nonrobust   LLR p-value:                 1.264e-22\n",
      "==============================================================================\n",
      "                 coef    std err          z      P>|z|      [0.025      0.975]\n",
      "------------------------------------------------------------------------------\n",
      "const        -11.1167      1.608     -6.915      0.000     -14.267      -7.966\n",
      "sex            1.8021      0.331      5.444      0.000       1.153       2.451\n",
      "cp             1.1403      0.169      6.739      0.000       0.809       1.472\n",
      "trestbps       0.0214      0.008      2.600      0.009       0.005       0.037\n",
      "age            0.0582      0.017      3.348      0.001       0.024       0.092\n",
      "==============================================================================\n"
     ]
    }
   ],
   "source": [
    "# Criando a variável dependente (y) e as variáveis independentes (X)\n",
    "y = df['flag_doente']\n",
    "X = df[['sex', 'cp', 'trestbps', 'age']]\n",
    "\n",
    "# Adicionando uma constante ao modelo (intercept)\n",
    "X = sm.add_constant(X)\n",
    "\n",
    "# Ajustando o modelo\n",
    "model = sm.Logit(y, X)\n",
    "result = model.fit()\n",
    "\n",
    "# Sumário do modelo\n",
    "print(result.summary())\n"
   ]
  },
  {
   "cell_type": "markdown",
   "metadata": {},
   "source": [
    "> **Const** ou **Constante**, tem seu coeficiente -11.1167, este é o logit para um paciente cujas variáveis independentes são todas zero, a constante pode não ter uma interpretação útil no contexto do problema, mas é necessária para o cálculo.\n",
    "\n",
    "> **Sex**, tem seu coeficiente de 1.802 e é estatisticamente significiativo, ou seja, P>|z| é 0.000 que é menor que 0.05, sugerindo que o sexo do paciente tem um forte impacto no risco de doença cardíaca.\n",
    "\n",
    "> **Cp** ou **Tipo de Dor no Peito**, tem seu coeficiente 1.140 e é estatisticamente significiativo, ou seja, P>|z| é 0.000 que é menor que 0.05, indicando que o tipo de dor no peito tem um forte impacto no risco de doença cardíaca.\n",
    "\n",
    "> **Trestbps** ou **Pressão Sanguínea em Repouso**, tem seu coeficiente 0.021 e é estatisticamente significiativo, ou seja, P>|z| é 0.009 que é menor que 0.05, sugerindo que a pressão sanguínea em repouso tem um efeito menor, mas ainda significativo no risco de doenças cardíacas.\n",
    "\n",
    "> **Idade (age)**, tem seu coeficiente 0.05 e é estatisticamente significiativo, ou seja, P>|z| é 0.001 que é menor que 0.05, indicando que a idade tem um impacto singificativo no risco de doenças cardíacas.\n",
    "\n",
    "* Sendo assim é possível concluir que todas as variáveis são estatisticamentes singificativas, cada uma possuindo certo grau de associação com o risco de doença cardíaca."
   ]
  },
  {
   "cell_type": "markdown",
   "metadata": {},
   "source": [
    "4. Avalie o seu modelo quanto a **calibragem**:\n",
    "- Calcule a probabilidade de evento predita segundo o seu modelo\n",
    "- Categorize essa probabilidade em G=5 grupos\n",
    "- Calcule a probabilidade de evento predita média por grupo\n",
    "- Calcule a taxa de eventos (média da variável indicadora de eventos) por grupo\n",
    "- Compare graficamente o valor eperado versus observado para a taxa de maus por grupo"
   ]
  },
  {
   "cell_type": "code",
   "execution_count": 70,
   "metadata": {},
   "outputs": [
    {
     "data": {
      "image/png": "[encoded data removed]",
      "text/plain": [
       "<Figure size 1000x600 with 1 Axes>"
      ]
     },
     "metadata": {},
     "output_type": "display_data"
    }
   ],
   "source": [
    "# Preparando os dados (substitua isso pelo seu DataFrame e variáveis)\n",
    "X = df[['sex', 'cp', 'trestbps', 'age']]\n",
    "y = df['flag_doente']\n",
    "\n",
    "# Ajustando o modelo\n",
    "modelo = LogisticRegression()\n",
    "modelo.fit(X, y)\n",
    "\n",
    "# Calculando a probabilidade de evento predita\n",
    "df['prob_predita'] = modelo.predict_proba(X)[:, 1]\n",
    "\n",
    "# Categorizando em 5 grupos\n",
    "df['grupo_prob'] = pd.qcut(df['prob_predita'], 5, labels=False)\n",
    "\n",
    "media_prob_grupo = df.groupby('grupo_prob')['prob_predita'].mean()\n",
    "\n",
    "taxa_eventos_grupo = df.groupby('grupo_prob')['flag_doente'].mean()\n",
    "\n",
    "# Plotando\n",
    "plt.figure(figsize=(10, 6))\n",
    "plt.plot(media_prob_grupo.index, media_prob_grupo, marker='o', label='Probabilidade Prevista Média')\n",
    "plt.plot(taxa_eventos_grupo.index, taxa_eventos_grupo, marker='x', label='Taxa de Eventos Observada')\n",
    "plt.xlabel('Grupo')\n",
    "plt.ylabel('Probabilidade')\n",
    "plt.title('Calibração do Modelo: Esperado vs Observado')\n",
    "plt.legend()\n",
    "plt.show()\n"
   ]
  },
  {
   "cell_type": "markdown",
   "metadata": {},
   "source": [
    "5. Avalie o seu modelo quanto a discriminação calculando acurácia, GINI e KS."
   ]
  },
  {
   "cell_type": "code",
   "execution_count": 71,
   "metadata": {},
   "outputs": [
    {
     "name": "stdout",
     "output_type": "stream",
     "text": [
      "Acurácia do Modelo: 0.772\n"
     ]
    }
   ],
   "source": [
    "from sklearn.metrics import accuracy_score\n",
    "\n",
    "y_pred = modelo.predict(X)\n",
    "acuracia = round(accuracy_score(y, y_pred), 3)\n",
    "\n",
    "print(f\"Acurácia do Modelo: {acuracia}\")"
   ]
  },
  {
   "cell_type": "code",
   "execution_count": 72,
   "metadata": {},
   "outputs": [
    {
     "name": "stdout",
     "output_type": "stream",
     "text": [
      "Coeficiente GINI: 0.663\n"
     ]
    }
   ],
   "source": [
    "from sklearn.metrics import roc_auc_score\n",
    "\n",
    "y_probs = modelo.predict_proba(X)[:, 1]  # Probabilidades da classe positiva\n",
    "gini = round((2 * roc_auc_score(y, y_probs) - 1), 3)\n",
    "\n",
    "print(f\"Coeficiente GINI: {gini}\")"
   ]
  },
  {
   "cell_type": "code",
   "execution_count": 73,
   "metadata": {},
   "outputs": [
    {
     "name": "stdout",
     "output_type": "stream",
     "text": [
      "Estatística KS: 0.597\n"
     ]
    }
   ],
   "source": [
    "from scipy.stats import ks_2samp\n",
    "\n",
    "# Calculando a estatística KS\n",
    "def calc_ks(y, y_prob):\n",
    "    df_ks = pd.DataFrame({'y': y, 'y_prob': y_prob})\n",
    "    df_ks = df_ks.sort_values(by='y_prob', ascending=False)\n",
    "    df_ks['y_cum'] = df_ks['y'].cumsum() / df_ks['y'].sum()\n",
    "    df_ks['n_cum'] = (1 - df_ks['y']).cumsum() / (1 - df_ks['y']).sum()\n",
    "    ks_statistic = np.max(np.abs(df_ks['y_cum'] - df_ks['n_cum']))\n",
    "    return ks_statistic\n",
    "\n",
    "ks_statistic = round(calc_ks(y, y_probs), 3)\n",
    "\n",
    "print(f\"Estatística KS: {ks_statistic}\")"
   ]
  },
  {
   "cell_type": "markdown",
   "metadata": {},
   "source": [
    "6. tente melhorar o modelo obtido, por exemplo inserindo ou removendo variáveis.  \n",
    "    Avalie as características do seu modelo (calibragem e acurácia)."
   ]
  },
  {
   "cell_type": "code",
   "execution_count": 87,
   "metadata": {},
   "outputs": [
    {
     "name": "stdout",
     "output_type": "stream",
     "text": [
      "Optimization terminated successfully.\n",
      "         Current function value: 0.509524\n",
      "         Iterations 6\n",
      "                           Logit Regression Results                           \n",
      "==============================================================================\n",
      "Dep. Variable:            flag_doente   No. Observations:                  242\n",
      "Model:                          Logit   Df Residuals:                      237\n",
      "Method:                           MLE   Df Model:                            4\n",
      "Date:                Mon, 28 Aug 2023   Pseudo R-squ.:                  0.2577\n",
      "Time:                        20:41:53   Log-Likelihood:                -123.30\n",
      "converged:                       True   LL-Null:                       -166.12\n",
      "Covariance Type:            nonrobust   LLR p-value:                 1.117e-17\n",
      "==============================================================================\n",
      "                 coef    std err          z      P>|z|      [0.025      0.975]\n",
      "------------------------------------------------------------------------------\n",
      "const        -11.1468      1.757     -6.345      0.000     -14.590      -7.704\n",
      "age            0.0672      0.020      3.394      0.001       0.028       0.106\n",
      "sex            1.8283      0.365      5.002      0.000       1.112       2.545\n",
      "cp             1.0332      0.179      5.780      0.000       0.683       1.384\n",
      "trestbps       0.0203      0.009      2.281      0.023       0.003       0.038\n",
      "==============================================================================\n",
      "Gini Antes: 0.663\n",
      "Gini Atual: 0.811\n"
     ]
    }
   ],
   "source": [
    "df = pd.read_csv('processed.cleveland.data', \n",
    "                 names=['age', 'sex', 'cp', 'trestbps', 'chol', 'fbs', 'restecg',\n",
    "                        'thalach', 'exang', 'oldpeak', 'slope', 'ca', 'thal', 'num'])\n",
    "\n",
    "# Criando variável alvo\n",
    "df['flag_doente'] = (df['num'] != 0).astype(int)\n",
    "\n",
    "# Dividindo dados em treino e teste\n",
    "X = df[['age', 'sex', 'cp', 'trestbps']]\n",
    "y = df['flag_doente']\n",
    "X_train, X_test, y_train, y_test = train_test_split(X, y, test_size=0.2, random_state=42)\n",
    "\n",
    "# Adicionando constante\n",
    "X_train_const = sm.add_constant(X_train)\n",
    "X_test_const = sm.add_constant(X_test)\n",
    "\n",
    "# Ajustando o modelo\n",
    "model = sm.Logit(y_train, X_train_const).fit()\n",
    "\n",
    "# Resumindo estatísticas do modelo\n",
    "print(model.summary())\n",
    "\n",
    "# Previsões\n",
    "y_pred_prob = model.predict(X_test_const)\n",
    "y_pred = [1 if x > 0.5 else 0 for x in y_pred_prob]\n",
    "\n",
    "print(f'Gini Antes: {gini}')\n",
    "print(f'Gini Atual: {round(roc_auc_score(y_test, y_pred_prob), 3)}')"
   ]
  }
 ],
 "metadata": {
  "kernelspec": {
   "display_name": "Python 3 (ipykernel)",
   "language": "python",
   "name": "python3"
  },
  "language_info": {
   "codemirror_mode": {
    "name": "ipython",
    "version": 3
   },
   "file_extension": ".py",
   "mimetype": "text/x-python",
   "name": "python",
   "nbconvert_exporter": "python",
   "pygments_lexer": "ipython3",
   "version": "3.11.3"
  }
 },
 "nbformat": 4,
 "nbformat_minor": 4
}
