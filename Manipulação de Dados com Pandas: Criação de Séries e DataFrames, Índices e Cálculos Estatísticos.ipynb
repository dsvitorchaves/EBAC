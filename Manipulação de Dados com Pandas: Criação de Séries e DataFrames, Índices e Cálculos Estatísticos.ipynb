{
 "cells": [
  {
   "cell_type": "code",
   "execution_count": 2,
   "metadata": {},
   "outputs": [],
   "source": [
    "import pandas as pd\n",
    "import numpy as np"
   ]
  },
  {
   "cell_type": "markdown",
   "metadata": {},
   "source": [
    "# Tarefa 01\n",
    "\n",
    "- Leia os enunciados com atenção\n",
    "- Saiba que pode haver mais de uma resposta correta\n",
    "- Insira novas células de código sempre que achar necessário\n",
    "- Em caso de dúvidas, procure os tutores\n",
    "- Divirta-se :)\n",
    "\n",
    "#### 1)  crie uma série do pandas a partir de uma lista com os dados abaixo:\n",
    "\n",
    "Em um estudo sobre alteração na tempreatura global, A NASA disponibiliza dados de diferenças de de temperatura média da superfície terrestre relativos às médias de temperatura entre 1951 e 1980. Os dados originais podem ser vistos no site da NASA/GISS, e estão dispostos a cada década na tabela abaixo.\n",
    "\n",
    "|ano|anomalia termica|\n",
    "|:-:|:----:|\n",
    "| 1900 | -0.08 |\n",
    "| 1920 | -0.27 |\n",
    "| 1940 | 0.12 |\n",
    "| 1960 | -0.03 |\n",
    "| 1980 | 0.26 |\n",
    "| 2000 | 0.40 |\n",
    "| 2020 | 1.02 |\n",
    "\n",
    "Crie uma séries do Pandas a partir de uma lista com esses dados."
   ]
  },
  {
   "cell_type": "code",
   "execution_count": 4,
   "metadata": {},
   "outputs": [
    {
     "name": "stdout",
     "output_type": "stream",
     "text": [
      "1900   -0.08\n",
      "1920   -0.27\n",
      "1940    0.12\n",
      "1960   -0.03\n",
      "1980    0.26\n",
      "2000    0.40\n",
      "2020    1.02\n",
      "dtype: float64\n"
     ]
    }
   ],
   "source": [
    "# Seu código aqui\n",
    "\n",
    "dados_nasa = {\n",
    "    1900: -0.08,\n",
    "    1920: -0.27,\n",
    "    1940: 0.12,\n",
    "    1960: -0.03,\n",
    "    1980: 0.26,\n",
    "    2000: 0.40,\n",
    "    2020: 1.02\n",
    "    \n",
    "}\n",
    "\n",
    "serie_termica = pd.Series(dados_nasa)\n",
    "\n",
    "print(serie_termica)"
   ]
  },
  {
   "cell_type": "markdown",
   "metadata": {},
   "source": [
    "#### 2) Coloque os anos nos índices conforme a tabela."
   ]
  },
  {
   "cell_type": "code",
   "execution_count": 5,
   "metadata": {},
   "outputs": [
    {
     "data": {
      "text/plain": [
       "1900   -0.08\n",
       "1920   -0.27\n",
       "1940    0.12\n",
       "1960   -0.03\n",
       "1980    0.26\n",
       "2000    0.40\n",
       "2020    1.02\n",
       "dtype: float64"
      ]
     },
     "execution_count": 5,
     "metadata": {},
     "output_type": "execute_result"
    }
   ],
   "source": [
    "# seu código aqui\n",
    "serie_termica"
   ]
  },
  {
   "cell_type": "markdown",
   "metadata": {},
   "source": [
    "#### 3) A partir do dicionário abaixo, crie uma séries do Pandas:"
   ]
  },
  {
   "cell_type": "code",
   "execution_count": 7,
   "metadata": {},
   "outputs": [
    {
     "name": "stdout",
     "output_type": "stream",
     "text": [
      "1900   -0.08\n",
      "1920   -0.27\n",
      "1940    0.12\n",
      "1960   -0.03\n",
      "1980    0.26\n",
      "2000    0.40\n",
      "2020    1.02\n",
      "dtype: float64\n"
     ]
    }
   ],
   "source": [
    "dic_temperaturas = {1900: -.08, 1920: -.27, 1940: .12, 1960: -.03, 1980: .26, 2000: .40, 2020: 1.02}\n",
    "\n",
    "# seu código aqui\n",
    "serie_dic_temperaturas = pd.Series(dic_temperaturas)\n",
    "print(serie_dic_temperaturas)"
   ]
  },
  {
   "cell_type": "markdown",
   "metadata": {},
   "source": [
    "#### 4) Transforme o ndarray abaixo em um dataframe. \n",
    "O numpy é capaz de gerar arrays n-dimensionais com números pseudo-aleatórios de acordo com uma variedade de distribuições, como no exemplo abaixo. Transforme esse nd-array em um DataFrame."
   ]
  },
  {
   "cell_type": "code",
   "execution_count": 8,
   "metadata": {},
   "outputs": [
    {
     "name": "stdout",
     "output_type": "stream",
     "text": [
      "             0           1           2\n",
      "0    92.942342  109.300773   99.733014\n",
      "1    96.759260   91.889927  103.564747\n",
      "2   123.944609   93.102163  110.529250\n",
      "3   103.097141   99.789682   96.752095\n",
      "4    92.564058   89.820197  115.140236\n",
      "5   107.255630   98.028178   83.298596\n",
      "6    91.146851  106.592845  104.839653\n",
      "7   104.882981  112.606912  102.515043\n",
      "8   114.139924  108.557182   91.340076\n",
      "9    97.930496  118.775704   91.557557\n",
      "10   68.893142  116.751942  103.785980\n",
      "11  107.585965  128.538586   98.539604\n",
      "12   80.092469   91.614187   88.703753\n",
      "13  108.852085  112.371743  103.917085\n",
      "14   89.017664  100.697511  110.314717\n",
      "15   98.759411   98.554793  112.153905\n",
      "16  109.820016  104.203461  127.353990\n",
      "17  110.441644  102.415017  102.791498\n",
      "18   96.062281   99.979383  103.975076\n",
      "19  104.870794   89.290508   87.361098\n"
     ]
    }
   ],
   "source": [
    "arr = np.random.normal(100, 10, (20,3))\n",
    "\n",
    "# seu código aqui\n",
    "\n",
    "df = pd.DataFrame(arr)\n",
    "\n",
    "print(df)"
   ]
  },
  {
   "cell_type": "markdown",
   "metadata": {},
   "source": [
    "#### 5) Nomeie os índices das linhas com inteiros de 1 a 20, e as colunas com os nomes \"x1\", \"x2\", e \"x3\" respectivamente."
   ]
  },
  {
   "cell_type": "code",
   "execution_count": 9,
   "metadata": {},
   "outputs": [
    {
     "name": "stdout",
     "output_type": "stream",
     "text": [
      "            x1          x2          x3\n",
      "1    92.942342  109.300773   99.733014\n",
      "2    96.759260   91.889927  103.564747\n",
      "3   123.944609   93.102163  110.529250\n",
      "4   103.097141   99.789682   96.752095\n",
      "5    92.564058   89.820197  115.140236\n",
      "6   107.255630   98.028178   83.298596\n",
      "7    91.146851  106.592845  104.839653\n",
      "8   104.882981  112.606912  102.515043\n",
      "9   114.139924  108.557182   91.340076\n",
      "10   97.930496  118.775704   91.557557\n",
      "11   68.893142  116.751942  103.785980\n",
      "12  107.585965  128.538586   98.539604\n",
      "13   80.092469   91.614187   88.703753\n",
      "14  108.852085  112.371743  103.917085\n",
      "15   89.017664  100.697511  110.314717\n",
      "16   98.759411   98.554793  112.153905\n",
      "17  109.820016  104.203461  127.353990\n",
      "18  110.441644  102.415017  102.791498\n",
      "19   96.062281   99.979383  103.975076\n",
      "20  104.870794   89.290508   87.361098\n"
     ]
    }
   ],
   "source": [
    "#seu código aqui\n",
    "\n",
    "df = pd.DataFrame(arr, index=range(1,21), columns=[\"x1\", \"x2\", \"x3\"])\n",
    "\n",
    "print(df)"
   ]
  },
  {
   "cell_type": "markdown",
   "metadata": {},
   "source": [
    "#### 6) No DataFrame do exercício 5, crie uma nova coluna como sendo a média das três colunas, e dê a ela o nome de \"media\" (não recomendo colocar acentos em nomes de variáveis)."
   ]
  },
  {
   "cell_type": "code",
   "execution_count": 10,
   "metadata": {},
   "outputs": [
    {
     "name": "stdout",
     "output_type": "stream",
     "text": [
      "            x1          x2          x3       media\n",
      "1    92.942342  109.300773   99.733014  100.658710\n",
      "2    96.759260   91.889927  103.564747   97.404645\n",
      "3   123.944609   93.102163  110.529250  109.192007\n",
      "4   103.097141   99.789682   96.752095   99.879640\n",
      "5    92.564058   89.820197  115.140236   99.174830\n",
      "6   107.255630   98.028178   83.298596   96.194135\n",
      "7    91.146851  106.592845  104.839653  100.859783\n",
      "8   104.882981  112.606912  102.515043  106.668312\n",
      "9   114.139924  108.557182   91.340076  104.679061\n",
      "10   97.930496  118.775704   91.557557  102.754586\n",
      "11   68.893142  116.751942  103.785980   96.477021\n",
      "12  107.585965  128.538586   98.539604  111.554718\n",
      "13   80.092469   91.614187   88.703753   86.803469\n",
      "14  108.852085  112.371743  103.917085  108.380304\n",
      "15   89.017664  100.697511  110.314717  100.009964\n",
      "16   98.759411   98.554793  112.153905  103.156037\n",
      "17  109.820016  104.203461  127.353990  113.792489\n",
      "18  110.441644  102.415017  102.791498  105.216053\n",
      "19   96.062281   99.979383  103.975076  100.005580\n",
      "20  104.870794   89.290508   87.361098   93.840800\n"
     ]
    }
   ],
   "source": [
    "# seu código aqui\n",
    "\n",
    "df['media'] = df.mean(axis=1)\n",
    "\n",
    "print(df)"
   ]
  },
  {
   "cell_type": "markdown",
   "metadata": {},
   "source": [
    "#### 7) No DataFrame do exercício 6, crie uma nova coluna chamada \"log_med\", contendo o logaritmo natural da média calculada no exercício 6 <br>"
   ]
  },
  {
   "cell_type": "code",
   "execution_count": 11,
   "metadata": {},
   "outputs": [
    {
     "name": "stdout",
     "output_type": "stream",
     "text": [
      "            x1          x2          x3       media   log_med\n",
      "1    92.942342  109.300773   99.733014  100.658710  4.611736\n",
      "2    96.759260   91.889927  103.564747   97.404645  4.578874\n",
      "3   123.944609   93.102163  110.529250  109.192007  4.693108\n",
      "4   103.097141   99.789682   96.752095   99.879640  4.603966\n",
      "5    92.564058   89.820197  115.140236   99.174830  4.596884\n",
      "6   107.255630   98.028178   83.298596   96.194135  4.566368\n",
      "7    91.146851  106.592845  104.839653  100.859783  4.613731\n",
      "8   104.882981  112.606912  102.515043  106.668312  4.669724\n",
      "9   114.139924  108.557182   91.340076  104.679061  4.650899\n",
      "10   97.930496  118.775704   91.557557  102.754586  4.632343\n",
      "11   68.893142  116.751942  103.785980   96.477021  4.569305\n",
      "12  107.585965  128.538586   98.539604  111.554718  4.714515\n",
      "13   80.092469   91.614187   88.703753   86.803469  4.463647\n",
      "14  108.852085  112.371743  103.917085  108.380304  4.685646\n",
      "15   89.017664  100.697511  110.314717  100.009964  4.605270\n",
      "16   98.759411   98.554793  112.153905  103.156037  4.636243\n",
      "17  109.820016  104.203461  127.353990  113.792489  4.734377\n",
      "18  110.441644  102.415017  102.791498  105.216053  4.656016\n",
      "19   96.062281   99.979383  103.975076  100.005580  4.605226\n",
      "20  104.870794   89.290508   87.361098   93.840800  4.541600\n"
     ]
    }
   ],
   "source": [
    "# seu código aqui\n",
    "\n",
    "df[\"log_med\"] = np.log(df[\"media\"])\n",
    "\n",
    "print(df)"
   ]
  }
 ],
 "metadata": {
  "kernelspec": {
   "display_name": "Python 3 (ipykernel)",
   "language": "python",
   "name": "python3"
  },
  "language_info": {
   "codemirror_mode": {
    "name": "ipython",
    "version": 3
   },
   "file_extension": ".py",
   "mimetype": "text/x-python",
   "name": "python",
   "nbconvert_exporter": "python",
   "pygments_lexer": "ipython3",
   "version": "3.10.9"
  }
 },
 "nbformat": 4,
 "nbformat_minor": 4
}
